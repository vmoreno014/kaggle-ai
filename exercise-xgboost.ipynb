{
 "cells": [
  {
   "cell_type": "markdown",
   "id": "cc31f4e1",
   "metadata": {
    "papermill": {
     "duration": 0.007624,
     "end_time": "2023-01-04T05:09:36.392916",
     "exception": false,
     "start_time": "2023-01-04T05:09:36.385292",
     "status": "completed"
    },
    "tags": []
   },
   "source": [
    "**This notebook is an exercise in the [Intermediate Machine Learning](https://www.kaggle.com/learn/intermediate-machine-learning) course.  You can reference the tutorial at [this link](https://www.kaggle.com/alexisbcook/xgboost).**\n",
    "\n",
    "---\n"
   ]
  },
  {
   "cell_type": "markdown",
   "id": "732faa43",
   "metadata": {
    "papermill": {
     "duration": 0.005005,
     "end_time": "2023-01-04T05:09:36.403366",
     "exception": false,
     "start_time": "2023-01-04T05:09:36.398361",
     "status": "completed"
    },
    "tags": []
   },
   "source": [
    "In this exercise, you will use your new knowledge to train a model with **gradient boosting**.\n",
    "\n",
    "# Setup\n",
    "\n",
    "The questions below will give you feedback on your work. Run the following cell to set up the feedback system."
   ]
  },
  {
   "cell_type": "code",
   "execution_count": 1,
   "id": "bb7ebf5f",
   "metadata": {
    "execution": {
     "iopub.execute_input": "2023-01-04T05:09:36.416973Z",
     "iopub.status.busy": "2023-01-04T05:09:36.415880Z",
     "iopub.status.idle": "2023-01-04T05:09:39.149615Z",
     "shell.execute_reply": "2023-01-04T05:09:39.148378Z"
    },
    "papermill": {
     "duration": 2.743972,
     "end_time": "2023-01-04T05:09:39.152646",
     "exception": false,
     "start_time": "2023-01-04T05:09:36.408674",
     "status": "completed"
    },
    "tags": []
   },
   "outputs": [
    {
     "name": "stdout",
     "output_type": "stream",
     "text": [
      "Setup Complete\n"
     ]
    }
   ],
   "source": [
    "# Set up code checking\n",
    "import os\n",
    "if not os.path.exists(\"../input/train.csv\"):\n",
    "    os.symlink(\"../input/home-data-for-ml-course/train.csv\", \"../input/train.csv\")  \n",
    "    os.symlink(\"../input/home-data-for-ml-course/test.csv\", \"../input/test.csv\") \n",
    "from learntools.core import binder\n",
    "binder.bind(globals())\n",
    "from learntools.ml_intermediate.ex6 import *\n",
    "print(\"Setup Complete\")"
   ]
  },
  {
   "cell_type": "markdown",
   "id": "63bd0fc2",
   "metadata": {
    "papermill": {
     "duration": 0.005156,
     "end_time": "2023-01-04T05:09:39.164218",
     "exception": false,
     "start_time": "2023-01-04T05:09:39.159062",
     "status": "completed"
    },
    "tags": []
   },
   "source": [
    "You will work with the [Housing Prices Competition for Kaggle Learn Users](https://www.kaggle.com/c/home-data-for-ml-course) dataset from the previous exercise. \n",
    "\n",
    "![Ames Housing dataset image](https://i.imgur.com/lTJVG4e.png)\n",
    "\n",
    "Run the next code cell without changes to load the training and validation sets in `X_train`, `X_valid`, `y_train`, and `y_valid`.  The test set is loaded in `X_test`."
   ]
  },
  {
   "cell_type": "code",
   "execution_count": 2,
   "id": "f02c2f8e",
   "metadata": {
    "execution": {
     "iopub.execute_input": "2023-01-04T05:09:39.176905Z",
     "iopub.status.busy": "2023-01-04T05:09:39.176446Z",
     "iopub.status.idle": "2023-01-04T05:09:39.377263Z",
     "shell.execute_reply": "2023-01-04T05:09:39.376291Z"
    },
    "papermill": {
     "duration": 0.210238,
     "end_time": "2023-01-04T05:09:39.379913",
     "exception": false,
     "start_time": "2023-01-04T05:09:39.169675",
     "status": "completed"
    },
    "tags": []
   },
   "outputs": [],
   "source": [
    "import pandas as pd\n",
    "from sklearn.model_selection import train_test_split\n",
    "\n",
    "# Read the data\n",
    "X = pd.read_csv('../input/train.csv', index_col='Id')\n",
    "X_test_full = pd.read_csv('../input/test.csv', index_col='Id')\n",
    "\n",
    "# Remove rows with missing target, separate target from predictors\n",
    "X.dropna(axis=0, subset=['SalePrice'], inplace=True)\n",
    "y = X.SalePrice              \n",
    "X.drop(['SalePrice'], axis=1, inplace=True)\n",
    "\n",
    "# Break off validation set from training data\n",
    "X_train_full, X_valid_full, y_train, y_valid = train_test_split(X, y, train_size=0.8, test_size=0.2,\n",
    "                                                                random_state=0)\n",
    "\n",
    "# \"Cardinality\" means the number of unique values in a column\n",
    "# Select categorical columns with relatively low cardinality (convenient but arbitrary)\n",
    "low_cardinality_cols = [cname for cname in X_train_full.columns if X_train_full[cname].nunique() < 10 and \n",
    "                        X_train_full[cname].dtype == \"object\"]\n",
    "\n",
    "# Select numeric columns\n",
    "numeric_cols = [cname for cname in X_train_full.columns if X_train_full[cname].dtype in ['int64', 'float64']]\n",
    "\n",
    "# Keep selected columns only\n",
    "my_cols = low_cardinality_cols + numeric_cols\n",
    "X_train = X_train_full[my_cols].copy()\n",
    "X_valid = X_valid_full[my_cols].copy()\n",
    "X_test = X_test_full[my_cols].copy()\n",
    "\n",
    "# One-hot encode the data (to shorten the code, we use pandas)\n",
    "X_train = pd.get_dummies(X_train)\n",
    "X_valid = pd.get_dummies(X_valid)\n",
    "X_test = pd.get_dummies(X_test)\n",
    "X_train, X_valid = X_train.align(X_valid, join='left', axis=1)\n",
    "X_train, X_test = X_train.align(X_test, join='left', axis=1)"
   ]
  },
  {
   "cell_type": "markdown",
   "id": "0b21f767",
   "metadata": {
    "papermill": {
     "duration": 0.005055,
     "end_time": "2023-01-04T05:09:39.390483",
     "exception": false,
     "start_time": "2023-01-04T05:09:39.385428",
     "status": "completed"
    },
    "tags": []
   },
   "source": [
    "# Step 1: Build model\n",
    "\n",
    "### Part A\n",
    "\n",
    "In this step, you'll build and train your first model with gradient boosting.\n",
    "\n",
    "- Begin by setting `my_model_1` to an XGBoost model.  Use the [XGBRegressor](https://xgboost.readthedocs.io/en/latest/python/python_api.html#xgboost.XGBRegressor) class, and set the random seed to 0 (`random_state=0`).  **Leave all other parameters as default.**\n",
    "- Then, fit the model to the training data in `X_train` and `y_train`."
   ]
  },
  {
   "cell_type": "code",
   "execution_count": 3,
   "id": "75285109",
   "metadata": {
    "execution": {
     "iopub.execute_input": "2023-01-04T05:09:39.404792Z",
     "iopub.status.busy": "2023-01-04T05:09:39.403366Z",
     "iopub.status.idle": "2023-01-04T05:09:40.391841Z",
     "shell.execute_reply": "2023-01-04T05:09:40.390820Z"
    },
    "papermill": {
     "duration": 0.998525,
     "end_time": "2023-01-04T05:09:40.394686",
     "exception": false,
     "start_time": "2023-01-04T05:09:39.396161",
     "status": "completed"
    },
    "tags": []
   },
   "outputs": [
    {
     "data": {
      "application/javascript": [
       "parent.postMessage({\"jupyterEvent\": \"custom.exercise_interaction\", \"data\": {\"outcomeType\": 1, \"valueTowardsCompletion\": 0.5, \"interactionType\": 1, \"questionType\": 2, \"questionId\": \"1.1_Model1A\", \"learnToolsVersion\": \"0.3.4\", \"failureMessage\": \"\", \"exceptionClass\": \"\", \"trace\": \"\"}}, \"*\")"
      ],
      "text/plain": [
       "<IPython.core.display.Javascript object>"
      ]
     },
     "metadata": {},
     "output_type": "display_data"
    },
    {
     "data": {
      "text/markdown": [
       "<span style=\"color:#33cc33\">Correct</span>"
      ],
      "text/plain": [
       "Correct"
      ]
     },
     "metadata": {},
     "output_type": "display_data"
    }
   ],
   "source": [
    "from xgboost import XGBRegressor\n",
    "\n",
    "# Define the model\n",
    "my_model_1 = XGBRegressor(random_state=0)\n",
    "\n",
    "# Fit the model\n",
    "my_model_1.fit(X_train, y_train)\n",
    "\n",
    "# Check your answer\n",
    "step_1.a.check()"
   ]
  },
  {
   "cell_type": "code",
   "execution_count": 4,
   "id": "3f93b9b8",
   "metadata": {
    "execution": {
     "iopub.execute_input": "2023-01-04T05:09:40.408059Z",
     "iopub.status.busy": "2023-01-04T05:09:40.407587Z",
     "iopub.status.idle": "2023-01-04T05:09:40.412507Z",
     "shell.execute_reply": "2023-01-04T05:09:40.411203Z"
    },
    "papermill": {
     "duration": 0.014524,
     "end_time": "2023-01-04T05:09:40.415151",
     "exception": false,
     "start_time": "2023-01-04T05:09:40.400627",
     "status": "completed"
    },
    "tags": []
   },
   "outputs": [],
   "source": [
    "# Lines below will give you a hint or solution code\n",
    "#step_1.a.hint()\n",
    "#step_1.a.solution()"
   ]
  },
  {
   "cell_type": "markdown",
   "id": "edde06a6",
   "metadata": {
    "papermill": {
     "duration": 0.006823,
     "end_time": "2023-01-04T05:09:40.427553",
     "exception": false,
     "start_time": "2023-01-04T05:09:40.420730",
     "status": "completed"
    },
    "tags": []
   },
   "source": [
    "### Part B\n",
    "\n",
    "Set `predictions_1` to the model's predictions for the validation data.  Recall that the validation features are stored in `X_valid`."
   ]
  },
  {
   "cell_type": "code",
   "execution_count": 5,
   "id": "54bbecf1",
   "metadata": {
    "execution": {
     "iopub.execute_input": "2023-01-04T05:09:40.440955Z",
     "iopub.status.busy": "2023-01-04T05:09:40.440478Z",
     "iopub.status.idle": "2023-01-04T05:09:40.465262Z",
     "shell.execute_reply": "2023-01-04T05:09:40.464148Z"
    },
    "papermill": {
     "duration": 0.035152,
     "end_time": "2023-01-04T05:09:40.468363",
     "exception": false,
     "start_time": "2023-01-04T05:09:40.433211",
     "status": "completed"
    },
    "tags": []
   },
   "outputs": [
    {
     "data": {
      "application/javascript": [
       "parent.postMessage({\"jupyterEvent\": \"custom.exercise_interaction\", \"data\": {\"outcomeType\": 1, \"valueTowardsCompletion\": 0.5, \"interactionType\": 1, \"questionType\": 2, \"questionId\": \"1.2_Model1B\", \"learnToolsVersion\": \"0.3.4\", \"failureMessage\": \"\", \"exceptionClass\": \"\", \"trace\": \"\"}}, \"*\")"
      ],
      "text/plain": [
       "<IPython.core.display.Javascript object>"
      ]
     },
     "metadata": {},
     "output_type": "display_data"
    },
    {
     "data": {
      "text/markdown": [
       "<span style=\"color:#33cc33\">Correct</span>"
      ],
      "text/plain": [
       "Correct"
      ]
     },
     "metadata": {},
     "output_type": "display_data"
    }
   ],
   "source": [
    "from sklearn.metrics import mean_absolute_error\n",
    "\n",
    "# Get predictions\n",
    "predictions_1 = my_model_1.predict(X_valid)\n",
    "\n",
    "# Check your answer\n",
    "step_1.b.check()"
   ]
  },
  {
   "cell_type": "code",
   "execution_count": 6,
   "id": "376d48d1",
   "metadata": {
    "execution": {
     "iopub.execute_input": "2023-01-04T05:09:40.482408Z",
     "iopub.status.busy": "2023-01-04T05:09:40.481968Z",
     "iopub.status.idle": "2023-01-04T05:09:40.487534Z",
     "shell.execute_reply": "2023-01-04T05:09:40.486124Z"
    },
    "papermill": {
     "duration": 0.015373,
     "end_time": "2023-01-04T05:09:40.490270",
     "exception": false,
     "start_time": "2023-01-04T05:09:40.474897",
     "status": "completed"
    },
    "tags": []
   },
   "outputs": [],
   "source": [
    "# Lines below will give you a hint or solution code\n",
    "#step_1.b.hint()\n",
    "#step_1.b.solution()"
   ]
  },
  {
   "cell_type": "markdown",
   "id": "8113602d",
   "metadata": {
    "papermill": {
     "duration": 0.005775,
     "end_time": "2023-01-04T05:09:40.502049",
     "exception": false,
     "start_time": "2023-01-04T05:09:40.496274",
     "status": "completed"
    },
    "tags": []
   },
   "source": [
    "### Part C\n",
    "\n",
    "Finally, use the `mean_absolute_error()` function to calculate the mean absolute error (MAE) corresponding to the predictions for the validation set.  Recall that the labels for the validation data are stored in `y_valid`."
   ]
  },
  {
   "cell_type": "code",
   "execution_count": 7,
   "id": "c50e8ebd",
   "metadata": {
    "execution": {
     "iopub.execute_input": "2023-01-04T05:09:40.515669Z",
     "iopub.status.busy": "2023-01-04T05:09:40.515242Z",
     "iopub.status.idle": "2023-01-04T05:09:40.529132Z",
     "shell.execute_reply": "2023-01-04T05:09:40.527849Z"
    },
    "papermill": {
     "duration": 0.023591,
     "end_time": "2023-01-04T05:09:40.531559",
     "exception": false,
     "start_time": "2023-01-04T05:09:40.507968",
     "status": "completed"
    },
    "tags": []
   },
   "outputs": [
    {
     "name": "stdout",
     "output_type": "stream",
     "text": [
      "Mean Absolute Error: 17662.736729452055\n"
     ]
    },
    {
     "data": {
      "application/javascript": [
       "parent.postMessage({\"jupyterEvent\": \"custom.exercise_interaction\", \"data\": {\"outcomeType\": 1, \"valueTowardsCompletion\": 0.5, \"interactionType\": 1, \"questionType\": 2, \"questionId\": \"1.3_Model1C\", \"learnToolsVersion\": \"0.3.4\", \"failureMessage\": \"\", \"exceptionClass\": \"\", \"trace\": \"\"}}, \"*\")"
      ],
      "text/plain": [
       "<IPython.core.display.Javascript object>"
      ]
     },
     "metadata": {},
     "output_type": "display_data"
    },
    {
     "data": {
      "text/markdown": [
       "<span style=\"color:#33cc33\">Correct</span>"
      ],
      "text/plain": [
       "Correct"
      ]
     },
     "metadata": {},
     "output_type": "display_data"
    }
   ],
   "source": [
    "# Calculate MAE\n",
    "mae_1 = mean_absolute_error(predictions_1, y_valid)\n",
    "\n",
    "# Uncomment to print MAE\n",
    "print(\"Mean Absolute Error:\" , mae_1)\n",
    "\n",
    "# Check your answer\n",
    "step_1.c.check()"
   ]
  },
  {
   "cell_type": "code",
   "execution_count": 8,
   "id": "3fce1cbe",
   "metadata": {
    "execution": {
     "iopub.execute_input": "2023-01-04T05:09:40.546331Z",
     "iopub.status.busy": "2023-01-04T05:09:40.545474Z",
     "iopub.status.idle": "2023-01-04T05:09:40.550897Z",
     "shell.execute_reply": "2023-01-04T05:09:40.549665Z"
    },
    "papermill": {
     "duration": 0.015633,
     "end_time": "2023-01-04T05:09:40.553504",
     "exception": false,
     "start_time": "2023-01-04T05:09:40.537871",
     "status": "completed"
    },
    "tags": []
   },
   "outputs": [],
   "source": [
    "# Lines below will give you a hint or solution code\n",
    "#step_1.c.hint()\n",
    "#step_1.c.solution()"
   ]
  },
  {
   "cell_type": "markdown",
   "id": "0a77779d",
   "metadata": {
    "papermill": {
     "duration": 0.005837,
     "end_time": "2023-01-04T05:09:40.565763",
     "exception": false,
     "start_time": "2023-01-04T05:09:40.559926",
     "status": "completed"
    },
    "tags": []
   },
   "source": [
    "# Step 2: Improve the model\n",
    "\n",
    "Now that you've trained a default model as baseline, it's time to tinker with the parameters, to see if you can get better performance!\n",
    "- Begin by setting `my_model_2` to an XGBoost model, using the [XGBRegressor](https://xgboost.readthedocs.io/en/latest/python/python_api.html#xgboost.XGBRegressor) class.  Use what you learned in the previous tutorial to figure out how to change the default parameters (like `n_estimators` and `learning_rate`) to get better results.\n",
    "- Then, fit the model to the training data in `X_train` and `y_train`.\n",
    "- Set `predictions_2` to the model's predictions for the validation data.  Recall that the validation features are stored in `X_valid`.\n",
    "- Finally, use the `mean_absolute_error()` function to calculate the mean absolute error (MAE) corresponding to the predictions on the validation set.  Recall that the labels for the validation data are stored in `y_valid`.\n",
    "\n",
    "In order for this step to be marked correct, your model in `my_model_2` must attain lower MAE than the model in `my_model_1`. "
   ]
  },
  {
   "cell_type": "code",
   "execution_count": 9,
   "id": "b49f5467",
   "metadata": {
    "execution": {
     "iopub.execute_input": "2023-01-04T05:09:40.580562Z",
     "iopub.status.busy": "2023-01-04T05:09:40.580135Z",
     "iopub.status.idle": "2023-01-04T05:09:45.293747Z",
     "shell.execute_reply": "2023-01-04T05:09:45.292718Z"
    },
    "papermill": {
     "duration": 4.724518,
     "end_time": "2023-01-04T05:09:45.296760",
     "exception": false,
     "start_time": "2023-01-04T05:09:40.572242",
     "status": "completed"
    },
    "tags": []
   },
   "outputs": [
    {
     "name": "stdout",
     "output_type": "stream",
     "text": [
      "Mean Absolute Error: 16728.27523009418\n"
     ]
    },
    {
     "data": {
      "application/javascript": [
       "parent.postMessage({\"jupyterEvent\": \"custom.exercise_interaction\", \"data\": {\"outcomeType\": 1, \"valueTowardsCompletion\": 0.5, \"interactionType\": 1, \"questionType\": 2, \"questionId\": \"2_Model2\", \"learnToolsVersion\": \"0.3.4\", \"failureMessage\": \"\", \"exceptionClass\": \"\", \"trace\": \"\"}}, \"*\")"
      ],
      "text/plain": [
       "<IPython.core.display.Javascript object>"
      ]
     },
     "metadata": {},
     "output_type": "display_data"
    },
    {
     "data": {
      "text/markdown": [
       "<span style=\"color:#33cc33\">Correct</span>"
      ],
      "text/plain": [
       "Correct"
      ]
     },
     "metadata": {},
     "output_type": "display_data"
    }
   ],
   "source": [
    "# Define the model\n",
    "my_model_2 = XGBRegressor(n_estimators=500, learning_rate=0.05)\n",
    "\n",
    "# Fit the model\n",
    "my_model_2.fit(X_train, y_train)\n",
    "\n",
    "# Get predictions\n",
    "predictions_2 = my_model_2.predict(X_valid)\n",
    "\n",
    "# Calculate MAE\n",
    "mae_2 = mean_absolute_error(predictions_2, y_valid)\n",
    "\n",
    "# Uncomment to print MAE\n",
    "print(\"Mean Absolute Error:\" , mae_2)\n",
    "\n",
    "# Check your answer\n",
    "step_2.check()"
   ]
  },
  {
   "cell_type": "code",
   "execution_count": 10,
   "id": "b6c06fb3",
   "metadata": {
    "execution": {
     "iopub.execute_input": "2023-01-04T05:09:45.313287Z",
     "iopub.status.busy": "2023-01-04T05:09:45.312849Z",
     "iopub.status.idle": "2023-01-04T05:09:45.317491Z",
     "shell.execute_reply": "2023-01-04T05:09:45.316552Z"
    },
    "papermill": {
     "duration": 0.014771,
     "end_time": "2023-01-04T05:09:45.319624",
     "exception": false,
     "start_time": "2023-01-04T05:09:45.304853",
     "status": "completed"
    },
    "tags": []
   },
   "outputs": [],
   "source": [
    "# Lines below will give you a hint or solution code\n",
    "#step_2.hint()\n",
    "#step_2.solution()"
   ]
  },
  {
   "cell_type": "markdown",
   "id": "e5994e5a",
   "metadata": {
    "papermill": {
     "duration": 0.006493,
     "end_time": "2023-01-04T05:09:45.332679",
     "exception": false,
     "start_time": "2023-01-04T05:09:45.326186",
     "status": "completed"
    },
    "tags": []
   },
   "source": [
    "# Step 3: Break the model\n",
    "\n",
    "In this step, you will create a model that performs worse than the original model in Step 1.  This will help you to develop your intuition for how to set parameters.  You might even find that you accidentally get better performance, which is ultimately a nice problem to have and a valuable learning experience!\n",
    "- Begin by setting `my_model_3` to an XGBoost model, using the [XGBRegressor](https://xgboost.readthedocs.io/en/latest/python/python_api.html#xgboost.XGBRegressor) class.  Use what you learned in the previous tutorial to figure out how to change the default parameters (like `n_estimators` and `learning_rate`) to design a model to get high MAE.\n",
    "- Then, fit the model to the training data in `X_train` and `y_train`.\n",
    "- Set `predictions_3` to the model's predictions for the validation data.  Recall that the validation features are stored in `X_valid`.\n",
    "- Finally, use the `mean_absolute_error()` function to calculate the mean absolute error (MAE) corresponding to the predictions on the validation set.  Recall that the labels for the validation data are stored in `y_valid`.\n",
    "\n",
    "In order for this step to be marked correct, your model in `my_model_3` must attain higher MAE than the model in `my_model_1`. "
   ]
  },
  {
   "cell_type": "code",
   "execution_count": 11,
   "id": "88920b7a",
   "metadata": {
    "execution": {
     "iopub.execute_input": "2023-01-04T05:09:45.348436Z",
     "iopub.status.busy": "2023-01-04T05:09:45.347618Z",
     "iopub.status.idle": "2023-01-04T05:09:45.498690Z",
     "shell.execute_reply": "2023-01-04T05:09:45.497596Z"
    },
    "papermill": {
     "duration": 0.162432,
     "end_time": "2023-01-04T05:09:45.501726",
     "exception": false,
     "start_time": "2023-01-04T05:09:45.339294",
     "status": "completed"
    },
    "tags": []
   },
   "outputs": [
    {
     "name": "stdout",
     "output_type": "stream",
     "text": [
      "Mean Absolute Error: 26067.591315282534\n"
     ]
    },
    {
     "data": {
      "application/javascript": [
       "parent.postMessage({\"jupyterEvent\": \"custom.exercise_interaction\", \"data\": {\"outcomeType\": 1, \"valueTowardsCompletion\": 0.5, \"interactionType\": 1, \"questionType\": 2, \"questionId\": \"3_Model3\", \"learnToolsVersion\": \"0.3.4\", \"failureMessage\": \"\", \"exceptionClass\": \"\", \"trace\": \"\"}}, \"*\")"
      ],
      "text/plain": [
       "<IPython.core.display.Javascript object>"
      ]
     },
     "metadata": {},
     "output_type": "display_data"
    },
    {
     "data": {
      "text/markdown": [
       "<span style=\"color:#33cc33\">Correct</span>"
      ],
      "text/plain": [
       "Correct"
      ]
     },
     "metadata": {},
     "output_type": "display_data"
    }
   ],
   "source": [
    "# Define the model\n",
    "my_model_3 = XGBRegressor(n_estimators=10, learning_rate=0.20)\n",
    "\n",
    "# Fit the model\n",
    "my_model_3.fit(X_train, y_train)\n",
    "\n",
    "# Get predictions\n",
    "predictions_3 = my_model_3.predict(X_valid)\n",
    "\n",
    "# Calculate MAE\n",
    "mae_3 = mean_absolute_error(predictions_3, y_valid)\n",
    "\n",
    "# Uncomment to print MAE\n",
    "print(\"Mean Absolute Error:\" , mae_3)\n",
    "\n",
    "# Check your answer\n",
    "step_3.check()"
   ]
  },
  {
   "cell_type": "code",
   "execution_count": 12,
   "id": "0f44fd06",
   "metadata": {
    "execution": {
     "iopub.execute_input": "2023-01-04T05:09:45.517549Z",
     "iopub.status.busy": "2023-01-04T05:09:45.517146Z",
     "iopub.status.idle": "2023-01-04T05:09:45.522229Z",
     "shell.execute_reply": "2023-01-04T05:09:45.520960Z"
    },
    "papermill": {
     "duration": 0.015312,
     "end_time": "2023-01-04T05:09:45.524569",
     "exception": false,
     "start_time": "2023-01-04T05:09:45.509257",
     "status": "completed"
    },
    "tags": []
   },
   "outputs": [],
   "source": [
    "# Lines below will give you a hint or solution code\n",
    "#step_3.hint()\n",
    "#step_3.solution()"
   ]
  },
  {
   "cell_type": "markdown",
   "id": "61848ec3",
   "metadata": {
    "papermill": {
     "duration": 0.006443,
     "end_time": "2023-01-04T05:09:45.537870",
     "exception": false,
     "start_time": "2023-01-04T05:09:45.531427",
     "status": "completed"
    },
    "tags": []
   },
   "source": [
    "# Keep going\n",
    "\n",
    "Continue to learn about **[data leakage](https://www.kaggle.com/alexisbcook/data-leakage)**.  This is an important issue for a data scientist to understand, and it has the potential to ruin your models in subtle and dangerous ways!"
   ]
  },
  {
   "cell_type": "markdown",
   "id": "e0d9f6a3",
   "metadata": {
    "papermill": {
     "duration": 0.006515,
     "end_time": "2023-01-04T05:09:45.551050",
     "exception": false,
     "start_time": "2023-01-04T05:09:45.544535",
     "status": "completed"
    },
    "tags": []
   },
   "source": [
    "---\n",
    "\n",
    "\n",
    "\n",
    "\n",
    "*Have questions or comments? Visit the [course discussion forum](https://www.kaggle.com/learn/intermediate-machine-learning/discussion) to chat with other learners.*"
   ]
  }
 ],
 "metadata": {
  "kernelspec": {
   "display_name": "Python 3",
   "language": "python",
   "name": "python3"
  },
  "language_info": {
   "codemirror_mode": {
    "name": "ipython",
    "version": 3
   },
   "file_extension": ".py",
   "mimetype": "text/x-python",
   "name": "python",
   "nbconvert_exporter": "python",
   "pygments_lexer": "ipython3",
   "version": "3.7.12"
  },
  "papermill": {
   "default_parameters": {},
   "duration": 19.756496,
   "end_time": "2023-01-04T05:09:46.381770",
   "environment_variables": {},
   "exception": null,
   "input_path": "__notebook__.ipynb",
   "output_path": "__notebook__.ipynb",
   "parameters": {},
   "start_time": "2023-01-04T05:09:26.625274",
   "version": "2.3.4"
  }
 },
 "nbformat": 4,
 "nbformat_minor": 5
}
