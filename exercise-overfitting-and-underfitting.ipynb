{
 "cells": [
  {
   "cell_type": "markdown",
   "id": "5ad9b413",
   "metadata": {
    "papermill": {
     "duration": 0.008995,
     "end_time": "2023-01-04T06:52:59.267993",
     "exception": false,
     "start_time": "2023-01-04T06:52:59.258998",
     "status": "completed"
    },
    "tags": []
   },
   "source": [
    "**This notebook is an exercise in the [Intro to Deep Learning](https://www.kaggle.com/learn/intro-to-deep-learning) course.  You can reference the tutorial at [this link](https://www.kaggle.com/ryanholbrook/overfitting-and-underfitting).**\n",
    "\n",
    "---\n"
   ]
  },
  {
   "cell_type": "markdown",
   "id": "570a3399",
   "metadata": {
    "papermill": {
     "duration": 0.007,
     "end_time": "2023-01-04T06:52:59.283385",
     "exception": false,
     "start_time": "2023-01-04T06:52:59.276385",
     "status": "completed"
    },
    "tags": []
   },
   "source": [
    "# Introduction #\n",
    "\n",
    "In this exercise, you’ll learn how to improve training outcomes by including an early stopping callback to prevent overfitting.\n",
    "\n",
    "When you're ready, run this next cell to set everything up!"
   ]
  },
  {
   "cell_type": "code",
   "execution_count": 1,
   "id": "72825da9",
   "metadata": {
    "execution": {
     "iopub.execute_input": "2023-01-04T06:52:59.301136Z",
     "iopub.status.busy": "2023-01-04T06:52:59.300237Z",
     "iopub.status.idle": "2023-01-04T06:52:59.345781Z",
     "shell.execute_reply": "2023-01-04T06:52:59.344448Z"
    },
    "papermill": {
     "duration": 0.057683,
     "end_time": "2023-01-04T06:52:59.348894",
     "exception": false,
     "start_time": "2023-01-04T06:52:59.291211",
     "status": "completed"
    },
    "tags": []
   },
   "outputs": [],
   "source": [
    "# Setup plotting\n",
    "import matplotlib.pyplot as plt\n",
    "plt.style.use('seaborn-whitegrid')\n",
    "# Set Matplotlib defaults\n",
    "plt.rc('figure', autolayout=True)\n",
    "plt.rc('axes', labelweight='bold', labelsize='large',\n",
    "       titleweight='bold', titlesize=18, titlepad=10)\n",
    "plt.rc('animation', html='html5')\n",
    "\n",
    "# Setup feedback system\n",
    "from learntools.core import binder\n",
    "binder.bind(globals())\n",
    "from learntools.deep_learning_intro.ex4 import *"
   ]
  },
  {
   "cell_type": "markdown",
   "id": "a2305c3d",
   "metadata": {
    "papermill": {
     "duration": 0.011009,
     "end_time": "2023-01-04T06:52:59.370803",
     "exception": false,
     "start_time": "2023-01-04T06:52:59.359794",
     "status": "completed"
    },
    "tags": []
   },
   "source": [
    "First load the *Spotify* dataset. Your task will be to predict the popularity of a song based on various audio features, like `'tempo'`, `'danceability'`, and `'mode'`."
   ]
  },
  {
   "cell_type": "code",
   "execution_count": 2,
   "id": "9bee7343",
   "metadata": {
    "execution": {
     "iopub.execute_input": "2023-01-04T06:52:59.394051Z",
     "iopub.status.busy": "2023-01-04T06:52:59.393357Z",
     "iopub.status.idle": "2023-01-04T06:53:06.089574Z",
     "shell.execute_reply": "2023-01-04T06:53:06.088536Z"
    },
    "papermill": {
     "duration": 6.710417,
     "end_time": "2023-01-04T06:53:06.092350",
     "exception": false,
     "start_time": "2023-01-04T06:52:59.381933",
     "status": "completed"
    },
    "tags": []
   },
   "outputs": [
    {
     "name": "stdout",
     "output_type": "stream",
     "text": [
      "Input shape: [18]\n"
     ]
    }
   ],
   "source": [
    "import pandas as pd\n",
    "from sklearn.preprocessing import StandardScaler, OneHotEncoder\n",
    "from sklearn.compose import make_column_transformer\n",
    "from sklearn.model_selection import GroupShuffleSplit\n",
    "\n",
    "from tensorflow import keras\n",
    "from tensorflow.keras import layers\n",
    "from tensorflow.keras import callbacks\n",
    "\n",
    "spotify = pd.read_csv('../input/dl-course-data/spotify.csv')\n",
    "\n",
    "X = spotify.copy().dropna()\n",
    "y = X.pop('track_popularity')\n",
    "artists = X['track_artist']\n",
    "\n",
    "features_num = ['danceability', 'energy', 'key', 'loudness', 'mode',\n",
    "                'speechiness', 'acousticness', 'instrumentalness',\n",
    "                'liveness', 'valence', 'tempo', 'duration_ms']\n",
    "features_cat = ['playlist_genre']\n",
    "\n",
    "preprocessor = make_column_transformer(\n",
    "    (StandardScaler(), features_num),\n",
    "    (OneHotEncoder(), features_cat),\n",
    ")\n",
    "\n",
    "# We'll do a \"grouped\" split to keep all of an artist's songs in one\n",
    "# split or the other. This is to help prevent signal leakage.\n",
    "def group_split(X, y, group, train_size=0.75):\n",
    "    splitter = GroupShuffleSplit(train_size=train_size)\n",
    "    train, test = next(splitter.split(X, y, groups=group))\n",
    "    return (X.iloc[train], X.iloc[test], y.iloc[train], y.iloc[test])\n",
    "\n",
    "X_train, X_valid, y_train, y_valid = group_split(X, y, artists)\n",
    "\n",
    "X_train = preprocessor.fit_transform(X_train)\n",
    "X_valid = preprocessor.transform(X_valid)\n",
    "y_train = y_train / 100 # popularity is on a scale 0-100, so this rescales to 0-1.\n",
    "y_valid = y_valid / 100\n",
    "\n",
    "input_shape = [X_train.shape[1]]\n",
    "print(\"Input shape: {}\".format(input_shape))"
   ]
  },
  {
   "cell_type": "markdown",
   "id": "2c90a3c2",
   "metadata": {
    "papermill": {
     "duration": 0.004328,
     "end_time": "2023-01-04T06:53:06.101818",
     "exception": false,
     "start_time": "2023-01-04T06:53:06.097490",
     "status": "completed"
    },
    "tags": []
   },
   "source": [
    "Let's start with the simplest network, a linear model. This model has low capacity.\n",
    "\n",
    "Run this next cell without any changes to train a linear model on the *Spotify* dataset."
   ]
  },
  {
   "cell_type": "code",
   "execution_count": 3,
   "id": "f04bc998",
   "metadata": {
    "execution": {
     "iopub.execute_input": "2023-01-04T06:53:06.112322Z",
     "iopub.status.busy": "2023-01-04T06:53:06.111561Z",
     "iopub.status.idle": "2023-01-04T06:53:16.035352Z",
     "shell.execute_reply": "2023-01-04T06:53:16.034320Z"
    },
    "lines_to_next_cell": 0,
    "papermill": {
     "duration": 9.931289,
     "end_time": "2023-01-04T06:53:16.037471",
     "exception": false,
     "start_time": "2023-01-04T06:53:06.106182",
     "status": "completed"
    },
    "tags": []
   },
   "outputs": [
    {
     "name": "stderr",
     "output_type": "stream",
     "text": [
      "2023-01-04 06:53:06.213723: I tensorflow/stream_executor/cuda/cuda_gpu_executor.cc:937] successful NUMA node read from SysFS had negative value (-1), but there must be at least one NUMA node, so returning NUMA node zero\n",
      "2023-01-04 06:53:06.320032: I tensorflow/stream_executor/cuda/cuda_gpu_executor.cc:937] successful NUMA node read from SysFS had negative value (-1), but there must be at least one NUMA node, so returning NUMA node zero\n",
      "2023-01-04 06:53:06.320919: I tensorflow/stream_executor/cuda/cuda_gpu_executor.cc:937] successful NUMA node read from SysFS had negative value (-1), but there must be at least one NUMA node, so returning NUMA node zero\n",
      "2023-01-04 06:53:06.322903: I tensorflow/core/platform/cpu_feature_guard.cc:142] This TensorFlow binary is optimized with oneAPI Deep Neural Network Library (oneDNN) to use the following CPU instructions in performance-critical operations:  AVX2 AVX512F FMA\n",
      "To enable them in other operations, rebuild TensorFlow with the appropriate compiler flags.\n",
      "2023-01-04 06:53:06.323333: I tensorflow/stream_executor/cuda/cuda_gpu_executor.cc:937] successful NUMA node read from SysFS had negative value (-1), but there must be at least one NUMA node, so returning NUMA node zero\n",
      "2023-01-04 06:53:06.324308: I tensorflow/stream_executor/cuda/cuda_gpu_executor.cc:937] successful NUMA node read from SysFS had negative value (-1), but there must be at least one NUMA node, so returning NUMA node zero\n",
      "2023-01-04 06:53:06.325205: I tensorflow/stream_executor/cuda/cuda_gpu_executor.cc:937] successful NUMA node read from SysFS had negative value (-1), but there must be at least one NUMA node, so returning NUMA node zero\n",
      "2023-01-04 06:53:08.686578: I tensorflow/stream_executor/cuda/cuda_gpu_executor.cc:937] successful NUMA node read from SysFS had negative value (-1), but there must be at least one NUMA node, so returning NUMA node zero\n",
      "2023-01-04 06:53:08.687481: I tensorflow/stream_executor/cuda/cuda_gpu_executor.cc:937] successful NUMA node read from SysFS had negative value (-1), but there must be at least one NUMA node, so returning NUMA node zero\n",
      "2023-01-04 06:53:08.688238: I tensorflow/stream_executor/cuda/cuda_gpu_executor.cc:937] successful NUMA node read from SysFS had negative value (-1), but there must be at least one NUMA node, so returning NUMA node zero\n",
      "2023-01-04 06:53:08.688866: I tensorflow/core/common_runtime/gpu/gpu_device.cc:1510] Created device /job:localhost/replica:0/task:0/device:GPU:0 with 15401 MB memory:  -> device: 0, name: Tesla P100-PCIE-16GB, pci bus id: 0000:00:04.0, compute capability: 6.0\n",
      "2023-01-04 06:53:09.158685: I tensorflow/compiler/mlir/mlir_graph_optimization_pass.cc:185] None of the MLIR Optimization Passes are enabled (registered 2)\n"
     ]
    },
    {
     "name": "stdout",
     "output_type": "stream",
     "text": [
      "Minimum Validation Loss: 0.2002\n"
     ]
    },
    {
     "data": {
      "image/png": "[encoded data removed]",
      "text/plain": [
       "<Figure size 432x288 with 1 Axes>"
      ]
     },
     "metadata": {},
     "output_type": "display_data"
    }
   ],
   "source": [
    "model = keras.Sequential([\n",
    "    layers.Dense(1, input_shape=input_shape),\n",
    "])\n",
    "model.compile(\n",
    "    optimizer='adam',\n",
    "    loss='mae',\n",
    ")\n",
    "history = model.fit(\n",
    "    X_train, y_train,\n",
    "    validation_data=(X_valid, y_valid),\n",
    "    batch_size=512,\n",
    "    epochs=50,\n",
    "    verbose=0, # suppress output since we'll plot the curves\n",
    ")\n",
    "history_df = pd.DataFrame(history.history)\n",
    "history_df.loc[0:, ['loss', 'val_loss']].plot()\n",
    "print(\"Minimum Validation Loss: {:0.4f}\".format(history_df['val_loss'].min()));"
   ]
  },
  {
   "cell_type": "markdown",
   "id": "8bd9d9c8",
   "metadata": {
    "papermill": {
     "duration": 0.00462,
     "end_time": "2023-01-04T06:53:16.047350",
     "exception": false,
     "start_time": "2023-01-04T06:53:16.042730",
     "status": "completed"
    },
    "tags": []
   },
   "source": [
    "It's not uncommon for the curves to follow a \"hockey stick\" pattern like you see here. This makes the final part of training hard to see, so let's start at epoch 10 instead:"
   ]
  },
  {
   "cell_type": "code",
   "execution_count": 4,
   "id": "df2dbb48",
   "metadata": {
    "execution": {
     "iopub.execute_input": "2023-01-04T06:53:16.058396Z",
     "iopub.status.busy": "2023-01-04T06:53:16.058111Z",
     "iopub.status.idle": "2023-01-04T06:53:16.346610Z",
     "shell.execute_reply": "2023-01-04T06:53:16.345610Z"
    },
    "papermill": {
     "duration": 0.296458,
     "end_time": "2023-01-04T06:53:16.348604",
     "exception": false,
     "start_time": "2023-01-04T06:53:16.052146",
     "status": "completed"
    },
    "tags": []
   },
   "outputs": [
    {
     "name": "stdout",
     "output_type": "stream",
     "text": [
      "Minimum Validation Loss: 0.2002\n"
     ]
    },
    {
     "data": {
      "image/png": "[encoded data removed]",
      "text/plain": [
       "<Figure size 432x288 with 1 Axes>"
      ]
     },
     "metadata": {},
     "output_type": "display_data"
    }
   ],
   "source": [
    "# Start the plot at epoch 10\n",
    "history_df.loc[10:, ['loss', 'val_loss']].plot()\n",
    "print(\"Minimum Validation Loss: {:0.4f}\".format(history_df['val_loss'].min()));"
   ]
  },
  {
   "cell_type": "markdown",
   "id": "32746af6",
   "metadata": {
    "papermill": {
     "duration": 0.005044,
     "end_time": "2023-01-04T06:53:16.359110",
     "exception": false,
     "start_time": "2023-01-04T06:53:16.354066",
     "status": "completed"
    },
    "tags": []
   },
   "source": [
    "# 1) Evaluate Baseline\n",
    "\n",
    "What do you think? Would you say this model is underfitting, overfitting, just right?"
   ]
  },
  {
   "cell_type": "code",
   "execution_count": 5,
   "id": "4f90dbd6",
   "metadata": {
    "execution": {
     "iopub.execute_input": "2023-01-04T06:53:16.371217Z",
     "iopub.status.busy": "2023-01-04T06:53:16.370322Z",
     "iopub.status.idle": "2023-01-04T06:53:16.378621Z",
     "shell.execute_reply": "2023-01-04T06:53:16.377580Z"
    },
    "papermill": {
     "duration": 0.017063,
     "end_time": "2023-01-04T06:53:16.381317",
     "exception": false,
     "start_time": "2023-01-04T06:53:16.364254",
     "status": "completed"
    },
    "tags": []
   },
   "outputs": [
    {
     "data": {
      "application/javascript": [
       "parent.postMessage({\"jupyterEvent\": \"custom.exercise_interaction\", \"data\": {\"outcomeType\": 1, \"valueTowardsCompletion\": 0.25, \"interactionType\": 1, \"questionType\": 4, \"questionId\": \"1_Q1\", \"learnToolsVersion\": \"0.3.4\", \"failureMessage\": \"\", \"exceptionClass\": \"\", \"trace\": \"\"}}, \"*\")"
      ],
      "text/plain": [
       "<IPython.core.display.Javascript object>"
      ]
     },
     "metadata": {},
     "output_type": "display_data"
    },
    {
     "data": {
      "text/markdown": [
       "<span style=\"color:#33cc33\">Correct:</span> \n",
       "\n",
       "The gap between these curves is quite small and the validation loss never increases, so it's more likely that the network is underfitting than overfitting. It would be worth experimenting with more capacity to see if that's the case."
      ],
      "text/plain": [
       "Correct: \n",
       "\n",
       "The gap between these curves is quite small and the validation loss never increases, so it's more likely that the network is underfitting than overfitting. It would be worth experimenting with more capacity to see if that's the case."
      ]
     },
     "metadata": {},
     "output_type": "display_data"
    }
   ],
   "source": [
    "# View the solution (Run this cell to receive credit!)\n",
    "q_1.check()"
   ]
  },
  {
   "cell_type": "markdown",
   "id": "320b3ac4",
   "metadata": {
    "papermill": {
     "duration": 0.005089,
     "end_time": "2023-01-04T06:53:16.392558",
     "exception": false,
     "start_time": "2023-01-04T06:53:16.387469",
     "status": "completed"
    },
    "tags": []
   },
   "source": [
    "Now let's add some capacity to our network. We'll add three hidden layers with 128 units each. Run the next cell to train the network and see the learning curves."
   ]
  },
  {
   "cell_type": "code",
   "execution_count": 6,
   "id": "3c76a228",
   "metadata": {
    "execution": {
     "iopub.execute_input": "2023-01-04T06:53:16.404191Z",
     "iopub.status.busy": "2023-01-04T06:53:16.403918Z",
     "iopub.status.idle": "2023-01-04T06:53:23.910986Z",
     "shell.execute_reply": "2023-01-04T06:53:23.909926Z"
    },
    "papermill": {
     "duration": 7.515398,
     "end_time": "2023-01-04T06:53:23.913262",
     "exception": false,
     "start_time": "2023-01-04T06:53:16.397864",
     "status": "completed"
    },
    "tags": []
   },
   "outputs": [
    {
     "name": "stdout",
     "output_type": "stream",
     "text": [
      "Epoch 1/50\n",
      "49/49 [==============================] - 0s 4ms/step - loss: 0.2352 - val_loss: 0.2084\n",
      "Epoch 2/50\n",
      "49/49 [==============================] - 0s 2ms/step - loss: 0.1995 - val_loss: 0.2028\n",
      "Epoch 3/50\n",
      "49/49 [==============================] - 0s 3ms/step - loss: 0.1949 - val_loss: 0.2022\n",
      "Epoch 4/50\n",
      "49/49 [==============================] - 0s 2ms/step - loss: 0.1921 - val_loss: 0.2013\n",
      "Epoch 5/50\n",
      "49/49 [==============================] - 0s 3ms/step - loss: 0.1902 - val_loss: 0.2011\n",
      "Epoch 6/50\n",
      "49/49 [==============================] - 0s 3ms/step - loss: 0.1888 - val_loss: 0.1999\n",
      "Epoch 7/50\n",
      "49/49 [==============================] - 0s 3ms/step - loss: 0.1873 - val_loss: 0.1997\n",
      "Epoch 8/50\n",
      "49/49 [==============================] - 0s 3ms/step - loss: 0.1860 - val_loss: 0.2004\n",
      "Epoch 9/50\n",
      "49/49 [==============================] - 0s 3ms/step - loss: 0.1849 - val_loss: 0.1995\n",
      "Epoch 10/50\n",
      "49/49 [==============================] - 0s 3ms/step - loss: 0.1842 - val_loss: 0.1988\n",
      "Epoch 11/50\n",
      "49/49 [==============================] - 0s 3ms/step - loss: 0.1832 - val_loss: 0.1993\n",
      "Epoch 12/50\n",
      "49/49 [==============================] - 0s 3ms/step - loss: 0.1830 - val_loss: 0.1995\n",
      "Epoch 13/50\n",
      "49/49 [==============================] - 0s 3ms/step - loss: 0.1822 - val_loss: 0.1990\n",
      "Epoch 14/50\n",
      "49/49 [==============================] - 0s 3ms/step - loss: 0.1812 - val_loss: 0.2008\n",
      "Epoch 15/50\n",
      "49/49 [==============================] - 0s 3ms/step - loss: 0.1807 - val_loss: 0.1990\n",
      "Epoch 16/50\n",
      "49/49 [==============================] - 0s 3ms/step - loss: 0.1798 - val_loss: 0.1994\n",
      "Epoch 17/50\n",
      "49/49 [==============================] - 0s 2ms/step - loss: 0.1795 - val_loss: 0.2007\n",
      "Epoch 18/50\n",
      "49/49 [==============================] - 0s 3ms/step - loss: 0.1792 - val_loss: 0.1998\n",
      "Epoch 19/50\n",
      "49/49 [==============================] - 0s 2ms/step - loss: 0.1778 - val_loss: 0.2001\n",
      "Epoch 20/50\n",
      "49/49 [==============================] - 0s 3ms/step - loss: 0.1771 - val_loss: 0.2016\n",
      "Epoch 21/50\n",
      "49/49 [==============================] - 0s 3ms/step - loss: 0.1772 - val_loss: 0.2004\n",
      "Epoch 22/50\n",
      "49/49 [==============================] - 0s 3ms/step - loss: 0.1765 - val_loss: 0.2006\n",
      "Epoch 23/50\n",
      "49/49 [==============================] - 0s 3ms/step - loss: 0.1760 - val_loss: 0.2012\n",
      "Epoch 24/50\n",
      "49/49 [==============================] - 0s 3ms/step - loss: 0.1752 - val_loss: 0.2011\n",
      "Epoch 25/50\n",
      "49/49 [==============================] - 0s 3ms/step - loss: 0.1754 - val_loss: 0.2005\n",
      "Epoch 26/50\n",
      "49/49 [==============================] - 0s 3ms/step - loss: 0.1747 - val_loss: 0.2017\n",
      "Epoch 27/50\n",
      "49/49 [==============================] - 0s 2ms/step - loss: 0.1741 - val_loss: 0.2013\n",
      "Epoch 28/50\n",
      "49/49 [==============================] - 0s 3ms/step - loss: 0.1737 - val_loss: 0.2029\n",
      "Epoch 29/50\n",
      "49/49 [==============================] - 0s 3ms/step - loss: 0.1736 - val_loss: 0.2013\n",
      "Epoch 30/50\n",
      "49/49 [==============================] - 0s 2ms/step - loss: 0.1723 - val_loss: 0.2030\n",
      "Epoch 31/50\n",
      "49/49 [==============================] - 0s 3ms/step - loss: 0.1725 - val_loss: 0.2023\n",
      "Epoch 32/50\n",
      "49/49 [==============================] - 0s 3ms/step - loss: 0.1712 - val_loss: 0.2041\n",
      "Epoch 33/50\n",
      "49/49 [==============================] - 0s 3ms/step - loss: 0.1707 - val_loss: 0.2019\n",
      "Epoch 34/50\n",
      "49/49 [==============================] - 0s 3ms/step - loss: 0.1699 - val_loss: 0.2036\n",
      "Epoch 35/50\n",
      "49/49 [==============================] - 0s 2ms/step - loss: 0.1698 - val_loss: 0.2040\n",
      "Epoch 36/50\n",
      "49/49 [==============================] - 0s 3ms/step - loss: 0.1696 - val_loss: 0.2050\n",
      "Epoch 37/50\n",
      "49/49 [==============================] - 0s 3ms/step - loss: 0.1693 - val_loss: 0.2059\n",
      "Epoch 38/50\n",
      "49/49 [==============================] - 0s 3ms/step - loss: 0.1694 - val_loss: 0.2050\n",
      "Epoch 39/50\n",
      "49/49 [==============================] - 0s 3ms/step - loss: 0.1687 - val_loss: 0.2063\n",
      "Epoch 40/50\n",
      "49/49 [==============================] - 0s 3ms/step - loss: 0.1698 - val_loss: 0.2043\n",
      "Epoch 41/50\n",
      "49/49 [==============================] - 0s 3ms/step - loss: 0.1678 - val_loss: 0.2064\n",
      "Epoch 42/50\n",
      "49/49 [==============================] - 0s 3ms/step - loss: 0.1671 - val_loss: 0.2043\n",
      "Epoch 43/50\n",
      "49/49 [==============================] - 0s 3ms/step - loss: 0.1680 - val_loss: 0.2056\n",
      "Epoch 44/50\n",
      "49/49 [==============================] - 0s 3ms/step - loss: 0.1667 - val_loss: 0.2048\n",
      "Epoch 45/50\n",
      "49/49 [==============================] - 0s 3ms/step - loss: 0.1662 - val_loss: 0.2066\n",
      "Epoch 46/50\n",
      "49/49 [==============================] - 0s 3ms/step - loss: 0.1656 - val_loss: 0.2105\n",
      "Epoch 47/50\n",
      "49/49 [==============================] - 0s 3ms/step - loss: 0.1661 - val_loss: 0.2053\n",
      "Epoch 48/50\n",
      "49/49 [==============================] - 0s 3ms/step - loss: 0.1641 - val_loss: 0.2070\n",
      "Epoch 49/50\n",
      "49/49 [==============================] - 0s 5ms/step - loss: 0.1639 - val_loss: 0.2065\n",
      "Epoch 50/50\n",
      "49/49 [==============================] - 0s 5ms/step - loss: 0.1640 - val_loss: 0.2065\n",
      "Minimum Validation Loss: 0.1988\n"
     ]
    },
    {
     "data": {
      "image/png": "[encoded data removed]",
      "text/plain": [
       "<Figure size 432x288 with 1 Axes>"
      ]
     },
     "metadata": {},
     "output_type": "display_data"
    }
   ],
   "source": [
    "model = keras.Sequential([\n",
    "    layers.Dense(128, activation='relu', input_shape=input_shape),\n",
    "    layers.Dense(64, activation='relu'),\n",
    "    layers.Dense(1)\n",
    "])\n",
    "model.compile(\n",
    "    optimizer='adam',\n",
    "    loss='mae',\n",
    ")\n",
    "history = model.fit(\n",
    "    X_train, y_train,\n",
    "    validation_data=(X_valid, y_valid),\n",
    "    batch_size=512,\n",
    "    epochs=50,\n",
    ")\n",
    "history_df = pd.DataFrame(history.history)\n",
    "history_df.loc[:, ['loss', 'val_loss']].plot()\n",
    "print(\"Minimum Validation Loss: {:0.4f}\".format(history_df['val_loss'].min()));"
   ]
  },
  {
   "cell_type": "markdown",
   "id": "bd9d3a92",
   "metadata": {
    "papermill": {
     "duration": 0.014431,
     "end_time": "2023-01-04T06:53:23.943869",
     "exception": false,
     "start_time": "2023-01-04T06:53:23.929438",
     "status": "completed"
    },
    "tags": []
   },
   "source": [
    "# 2) Add Capacity\n",
    "\n",
    "What is your evaluation of these curves? Underfitting, overfitting, just right?"
   ]
  },
  {
   "cell_type": "code",
   "execution_count": 7,
   "id": "bf753a7e",
   "metadata": {
    "execution": {
     "iopub.execute_input": "2023-01-04T06:53:23.975347Z",
     "iopub.status.busy": "2023-01-04T06:53:23.974930Z",
     "iopub.status.idle": "2023-01-04T06:53:23.982767Z",
     "shell.execute_reply": "2023-01-04T06:53:23.981826Z"
    },
    "papermill": {
     "duration": 0.026439,
     "end_time": "2023-01-04T06:53:23.984992",
     "exception": false,
     "start_time": "2023-01-04T06:53:23.958553",
     "status": "completed"
    },
    "tags": []
   },
   "outputs": [
    {
     "data": {
      "application/javascript": [
       "parent.postMessage({\"jupyterEvent\": \"custom.exercise_interaction\", \"data\": {\"outcomeType\": 1, \"valueTowardsCompletion\": 0.25, \"interactionType\": 1, \"questionType\": 4, \"questionId\": \"2_Q2\", \"learnToolsVersion\": \"0.3.4\", \"failureMessage\": \"\", \"exceptionClass\": \"\", \"trace\": \"\"}}, \"*\")"
      ],
      "text/plain": [
       "<IPython.core.display.Javascript object>"
      ]
     },
     "metadata": {},
     "output_type": "display_data"
    },
    {
     "data": {
      "text/markdown": [
       "<span style=\"color:#33cc33\">Correct:</span> \n",
       "\n",
       "Now the validation loss begins to rise very early, while the training loss continues to decrease. This indicates that the network has begun to overfit. At this point, we would need to try something to prevent it, either by reducing the number of units or through a method like early stopping. (We'll see another in the next lesson!)"
      ],
      "text/plain": [
       "Correct: \n",
       "\n",
       "Now the validation loss begins to rise very early, while the training loss continues to decrease. This indicates that the network has begun to overfit. At this point, we would need to try something to prevent it, either by reducing the number of units or through a method like early stopping. (We'll see another in the next lesson!)"
      ]
     },
     "metadata": {},
     "output_type": "display_data"
    }
   ],
   "source": [
    "# View the solution (Run this cell to receive credit!)\n",
    "q_2.check()"
   ]
  },
  {
   "cell_type": "markdown",
   "id": "4a7de42e",
   "metadata": {
    "papermill": {
     "duration": 0.014657,
     "end_time": "2023-01-04T06:53:24.014980",
     "exception": false,
     "start_time": "2023-01-04T06:53:24.000323",
     "status": "completed"
    },
    "tags": []
   },
   "source": [
    "# 3) Define Early Stopping Callback\n",
    "\n",
    "Now define an early stopping callback that waits 5 epochs (`patience'`) for a change in validation loss of at least `0.001` (`min_delta`) and keeps the weights with the best loss (`restore_best_weights`)."
   ]
  },
  {
   "cell_type": "code",
   "execution_count": 8,
   "id": "f1ad00d0",
   "metadata": {
    "execution": {
     "iopub.execute_input": "2023-01-04T06:53:24.046318Z",
     "iopub.status.busy": "2023-01-04T06:53:24.045974Z",
     "iopub.status.idle": "2023-01-04T06:53:24.055216Z",
     "shell.execute_reply": "2023-01-04T06:53:24.054134Z"
    },
    "lines_to_next_cell": 0,
    "papermill": {
     "duration": 0.029078,
     "end_time": "2023-01-04T06:53:24.058958",
     "exception": false,
     "start_time": "2023-01-04T06:53:24.029880",
     "status": "completed"
    },
    "tags": []
   },
   "outputs": [
    {
     "data": {
      "application/javascript": [
       "parent.postMessage({\"jupyterEvent\": \"custom.exercise_interaction\", \"data\": {\"outcomeType\": 1, \"valueTowardsCompletion\": 0.25, \"interactionType\": 1, \"questionType\": 2, \"questionId\": \"3_Q3\", \"learnToolsVersion\": \"0.3.4\", \"failureMessage\": \"\", \"exceptionClass\": \"\", \"trace\": \"\"}}, \"*\")"
      ],
      "text/plain": [
       "<IPython.core.display.Javascript object>"
      ]
     },
     "metadata": {},
     "output_type": "display_data"
    },
    {
     "data": {
      "text/markdown": [
       "<span style=\"color:#33cc33\">Correct</span>"
      ],
      "text/plain": [
       "Correct"
      ]
     },
     "metadata": {},
     "output_type": "display_data"
    }
   ],
   "source": [
    "from tensorflow.keras import callbacks\n",
    "\n",
    "# YOUR CODE HERE: define an early stopping callback\n",
    "early_stopping = callbacks.EarlyStopping(\n",
    "    min_delta=0.001, # minimium amount of change to count as an improvement\n",
    "    patience=5, # how many epochs to wait before stopping\n",
    "    restore_best_weights=True,\n",
    ")\n",
    "\n",
    "# Check your answer\n",
    "q_3.check()"
   ]
  },
  {
   "cell_type": "code",
   "execution_count": 9,
   "id": "90eceb43",
   "metadata": {
    "execution": {
     "iopub.execute_input": "2023-01-04T06:53:24.090610Z",
     "iopub.status.busy": "2023-01-04T06:53:24.090320Z",
     "iopub.status.idle": "2023-01-04T06:53:24.095418Z",
     "shell.execute_reply": "2023-01-04T06:53:24.094535Z"
    },
    "papermill": {
     "duration": 0.023247,
     "end_time": "2023-01-04T06:53:24.097441",
     "exception": false,
     "start_time": "2023-01-04T06:53:24.074194",
     "status": "completed"
    },
    "tags": []
   },
   "outputs": [],
   "source": [
    "# Lines below will give you a hint or solution code\n",
    "#q_3.hint()\n",
    "#q_3.solution()"
   ]
  },
  {
   "cell_type": "markdown",
   "id": "3d61893f",
   "metadata": {
    "papermill": {
     "duration": 0.014768,
     "end_time": "2023-01-04T06:53:24.127520",
     "exception": false,
     "start_time": "2023-01-04T06:53:24.112752",
     "status": "completed"
    },
    "tags": []
   },
   "source": [
    "Now run this cell to train the model and get the learning curves. Notice the `callbacks` argument in `model.fit`."
   ]
  },
  {
   "cell_type": "code",
   "execution_count": 10,
   "id": "298efb45",
   "metadata": {
    "execution": {
     "iopub.execute_input": "2023-01-04T06:53:24.158539Z",
     "iopub.status.busy": "2023-01-04T06:53:24.158248Z",
     "iopub.status.idle": "2023-01-04T06:53:26.837669Z",
     "shell.execute_reply": "2023-01-04T06:53:26.836686Z"
    },
    "papermill": {
     "duration": 2.697295,
     "end_time": "2023-01-04T06:53:26.839776",
     "exception": false,
     "start_time": "2023-01-04T06:53:24.142481",
     "status": "completed"
    },
    "tags": []
   },
   "outputs": [
    {
     "name": "stdout",
     "output_type": "stream",
     "text": [
      "Epoch 1/50\n",
      "49/49 [==============================] - 1s 5ms/step - loss: 0.2596 - val_loss: 0.2110\n",
      "Epoch 2/50\n",
      "49/49 [==============================] - 0s 3ms/step - loss: 0.2011 - val_loss: 0.2042\n",
      "Epoch 3/50\n",
      "49/49 [==============================] - 0s 3ms/step - loss: 0.1953 - val_loss: 0.2033\n",
      "Epoch 4/50\n",
      "49/49 [==============================] - 0s 3ms/step - loss: 0.1923 - val_loss: 0.2014\n",
      "Epoch 5/50\n",
      "49/49 [==============================] - 0s 3ms/step - loss: 0.1908 - val_loss: 0.2015\n",
      "Epoch 6/50\n",
      "49/49 [==============================] - 0s 3ms/step - loss: 0.1889 - val_loss: 0.2009\n",
      "Epoch 7/50\n",
      "49/49 [==============================] - 0s 3ms/step - loss: 0.1877 - val_loss: 0.2017\n",
      "Epoch 8/50\n",
      "49/49 [==============================] - 0s 3ms/step - loss: 0.1873 - val_loss: 0.2004\n",
      "Epoch 9/50\n",
      "49/49 [==============================] - 0s 3ms/step - loss: 0.1851 - val_loss: 0.2003\n",
      "Epoch 10/50\n",
      "49/49 [==============================] - 0s 3ms/step - loss: 0.1845 - val_loss: 0.2006\n",
      "Epoch 11/50\n",
      "49/49 [==============================] - 0s 3ms/step - loss: 0.1836 - val_loss: 0.2011\n",
      "Epoch 12/50\n",
      "49/49 [==============================] - 0s 3ms/step - loss: 0.1835 - val_loss: 0.2003\n",
      "Epoch 13/50\n",
      "49/49 [==============================] - 0s 3ms/step - loss: 0.1821 - val_loss: 0.2007\n",
      "Epoch 14/50\n",
      "49/49 [==============================] - 0s 3ms/step - loss: 0.1814 - val_loss: 0.2021\n",
      "Minimum Validation Loss: 0.2003\n"
     ]
    },
    {
     "data": {
      "image/png": "[encoded data removed]",
      "text/plain": [
       "<Figure size 432x288 with 1 Axes>"
      ]
     },
     "metadata": {},
     "output_type": "display_data"
    }
   ],
   "source": [
    "model = keras.Sequential([\n",
    "    layers.Dense(128, activation='relu', input_shape=input_shape),\n",
    "    layers.Dense(64, activation='relu'),    \n",
    "    layers.Dense(1)\n",
    "])\n",
    "model.compile(\n",
    "    optimizer='adam',\n",
    "    loss='mae',\n",
    ")\n",
    "history = model.fit(\n",
    "    X_train, y_train,\n",
    "    validation_data=(X_valid, y_valid),\n",
    "    batch_size=512,\n",
    "    epochs=50,\n",
    "    callbacks=[early_stopping]\n",
    ")\n",
    "history_df = pd.DataFrame(history.history)\n",
    "history_df.loc[:, ['loss', 'val_loss']].plot()\n",
    "print(\"Minimum Validation Loss: {:0.4f}\".format(history_df['val_loss'].min()));"
   ]
  },
  {
   "cell_type": "markdown",
   "id": "a1161dfe",
   "metadata": {
    "papermill": {
     "duration": 0.017747,
     "end_time": "2023-01-04T06:53:26.875856",
     "exception": false,
     "start_time": "2023-01-04T06:53:26.858109",
     "status": "completed"
    },
    "tags": []
   },
   "source": [
    "# 4) Train and Interpret\n",
    "\n",
    "Was this an improvement compared to training without early stopping?"
   ]
  },
  {
   "cell_type": "code",
   "execution_count": 11,
   "id": "230c1cb4",
   "metadata": {
    "execution": {
     "iopub.execute_input": "2023-01-04T06:53:26.914819Z",
     "iopub.status.busy": "2023-01-04T06:53:26.913824Z",
     "iopub.status.idle": "2023-01-04T06:53:26.925498Z",
     "shell.execute_reply": "2023-01-04T06:53:26.924513Z"
    },
    "papermill": {
     "duration": 0.033535,
     "end_time": "2023-01-04T06:53:26.927880",
     "exception": false,
     "start_time": "2023-01-04T06:53:26.894345",
     "status": "completed"
    },
    "tags": []
   },
   "outputs": [
    {
     "data": {
      "application/javascript": [
       "parent.postMessage({\"jupyterEvent\": \"custom.exercise_interaction\", \"data\": {\"outcomeType\": 1, \"valueTowardsCompletion\": 0.25, \"interactionType\": 1, \"questionType\": 4, \"questionId\": \"4_Q4\", \"learnToolsVersion\": \"0.3.4\", \"failureMessage\": \"\", \"exceptionClass\": \"\", \"trace\": \"\"}}, \"*\")"
      ],
      "text/plain": [
       "<IPython.core.display.Javascript object>"
      ]
     },
     "metadata": {},
     "output_type": "display_data"
    },
    {
     "data": {
      "text/markdown": [
       "<span style=\"color:#33cc33\">Correct:</span> \n",
       "\n",
       "The early stopping callback did stop the training once the network began overfitting. Moreover, by including `restore_best_weights` we still get to keep the model where validation loss was lowest."
      ],
      "text/plain": [
       "Correct: \n",
       "\n",
       "The early stopping callback did stop the training once the network began overfitting. Moreover, by including `restore_best_weights` we still get to keep the model where validation loss was lowest."
      ]
     },
     "metadata": {},
     "output_type": "display_data"
    }
   ],
   "source": [
    "# View the solution (Run this cell to receive credit!)\n",
    "q_4.check()"
   ]
  },
  {
   "cell_type": "markdown",
   "id": "7bdbd83c",
   "metadata": {
    "papermill": {
     "duration": 0.018211,
     "end_time": "2023-01-04T06:53:26.964874",
     "exception": false,
     "start_time": "2023-01-04T06:53:26.946663",
     "status": "completed"
    },
    "tags": []
   },
   "source": [
    "If you like, try experimenting with `patience` and `min_delta` to see what difference it might make.\n",
    "\n",
    "# Keep Going #\n",
    "\n",
    "Move on to [**learn about a couple of special layers**](https://www.kaggle.com/ryanholbrook/dropout-and-batch-normalization): batch normalization and dropout."
   ]
  },
  {
   "cell_type": "markdown",
   "id": "8494af14",
   "metadata": {
    "papermill": {
     "duration": 0.017562,
     "end_time": "2023-01-04T06:53:27.000416",
     "exception": false,
     "start_time": "2023-01-04T06:53:26.982854",
     "status": "completed"
    },
    "tags": []
   },
   "source": [
    "---\n",
    "\n",
    "\n",
    "\n",
    "\n",
    "*Have questions or comments? Visit the [course discussion forum](https://www.kaggle.com/learn/intro-to-deep-learning/discussion) to chat with other learners.*"
   ]
  }
 ],
 "metadata": {
  "kernelspec": {
   "display_name": "Python 3",
   "language": "python",
   "name": "python3"
  },
  "language_info": {
   "codemirror_mode": {
    "name": "ipython",
    "version": 3
   },
   "file_extension": ".py",
   "mimetype": "text/x-python",
   "name": "python",
   "nbconvert_exporter": "python",
   "pygments_lexer": "ipython3",
   "version": "3.7.12"
  },
  "papermill": {
   "default_parameters": {},
   "duration": 38.319213,
   "end_time": "2023-01-04T06:53:29.785688",
   "environment_variables": {},
   "exception": null,
   "input_path": "__notebook__.ipynb",
   "output_path": "__notebook__.ipynb",
   "parameters": {},
   "start_time": "2023-01-04T06:52:51.466475",
   "version": "2.3.4"
  }
 },
 "nbformat": 4,
 "nbformat_minor": 5
}
