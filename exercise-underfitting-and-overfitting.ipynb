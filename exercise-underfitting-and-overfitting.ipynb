{
 "cells": [
  {
   "cell_type": "markdown",
   "id": "d45db9f5",
   "metadata": {
    "papermill": {
     "duration": 0.004816,
     "end_time": "2023-01-04T05:01:21.070775",
     "exception": false,
     "start_time": "2023-01-04T05:01:21.065959",
     "status": "completed"
    },
    "tags": []
   },
   "source": [
    "**This notebook is an exercise in the [Introduction to Machine Learning](https://www.kaggle.com/learn/intro-to-machine-learning) course.  You can reference the tutorial at [this link](https://www.kaggle.com/dansbecker/underfitting-and-overfitting).**\n",
    "\n",
    "---\n"
   ]
  },
  {
   "cell_type": "markdown",
   "id": "0f703bdb",
   "metadata": {
    "papermill": {
     "duration": 0.00319,
     "end_time": "2023-01-04T05:01:21.077753",
     "exception": false,
     "start_time": "2023-01-04T05:01:21.074563",
     "status": "completed"
    },
    "tags": []
   },
   "source": [
    "## Recap\n",
    "You've built your first model, and now it's time to optimize the size of the tree to make better predictions. Run this cell to set up your coding environment where the previous step left off."
   ]
  },
  {
   "cell_type": "code",
   "execution_count": 1,
   "id": "8cd7d1d0",
   "metadata": {
    "execution": {
     "iopub.execute_input": "2023-01-04T05:01:21.086912Z",
     "iopub.status.busy": "2023-01-04T05:01:21.086310Z",
     "iopub.status.idle": "2023-01-04T05:01:22.543945Z",
     "shell.execute_reply": "2023-01-04T05:01:22.542600Z"
    },
    "papermill": {
     "duration": 1.465789,
     "end_time": "2023-01-04T05:01:22.546988",
     "exception": false,
     "start_time": "2023-01-04T05:01:21.081199",
     "status": "completed"
    },
    "tags": []
   },
   "outputs": [
    {
     "name": "stdout",
     "output_type": "stream",
     "text": [
      "Validation MAE: 29,653\n",
      "\n",
      "Setup complete\n"
     ]
    }
   ],
   "source": [
    "# Code you have previously used to load data\n",
    "import pandas as pd\n",
    "from sklearn.metrics import mean_absolute_error\n",
    "from sklearn.model_selection import train_test_split\n",
    "from sklearn.tree import DecisionTreeRegressor\n",
    "\n",
    "\n",
    "# Path of the file to read\n",
    "iowa_file_path = '../input/home-data-for-ml-course/train.csv'\n",
    "\n",
    "home_data = pd.read_csv(iowa_file_path)\n",
    "# Create target object and call it y\n",
    "y = home_data.SalePrice\n",
    "# Create X\n",
    "features = ['LotArea', 'YearBuilt', '1stFlrSF', '2ndFlrSF', 'FullBath', 'BedroomAbvGr', 'TotRmsAbvGrd']\n",
    "X = home_data[features]\n",
    "\n",
    "# Split into validation and training data\n",
    "train_X, val_X, train_y, val_y = train_test_split(X, y, random_state=1)\n",
    "\n",
    "# Specify Model\n",
    "iowa_model = DecisionTreeRegressor(random_state=1)\n",
    "# Fit Model\n",
    "iowa_model.fit(train_X, train_y)\n",
    "\n",
    "# Make validation predictions and calculate mean absolute error\n",
    "val_predictions = iowa_model.predict(val_X)\n",
    "val_mae = mean_absolute_error(val_predictions, val_y)\n",
    "print(\"Validation MAE: {:,.0f}\".format(val_mae))\n",
    "\n",
    "# Set up code checking\n",
    "from learntools.core import binder\n",
    "binder.bind(globals())\n",
    "from learntools.machine_learning.ex5 import *\n",
    "print(\"\\nSetup complete\")"
   ]
  },
  {
   "cell_type": "markdown",
   "id": "b1aebc6a",
   "metadata": {
    "papermill": {
     "duration": 0.003683,
     "end_time": "2023-01-04T05:01:22.554497",
     "exception": false,
     "start_time": "2023-01-04T05:01:22.550814",
     "status": "completed"
    },
    "tags": []
   },
   "source": [
    "# Exercises\n",
    "You could write the function `get_mae` yourself. For now, we'll supply it. This is the same function you read about in the previous lesson. Just run the cell below."
   ]
  },
  {
   "cell_type": "code",
   "execution_count": 2,
   "id": "166de595",
   "metadata": {
    "execution": {
     "iopub.execute_input": "2023-01-04T05:01:22.564512Z",
     "iopub.status.busy": "2023-01-04T05:01:22.564033Z",
     "iopub.status.idle": "2023-01-04T05:01:22.570543Z",
     "shell.execute_reply": "2023-01-04T05:01:22.569279Z"
    },
    "papermill": {
     "duration": 0.014279,
     "end_time": "2023-01-04T05:01:22.572923",
     "exception": false,
     "start_time": "2023-01-04T05:01:22.558644",
     "status": "completed"
    },
    "tags": []
   },
   "outputs": [],
   "source": [
    "def get_mae(max_leaf_nodes, train_X, val_X, train_y, val_y):\n",
    "    model = DecisionTreeRegressor(max_leaf_nodes=max_leaf_nodes, random_state=0)\n",
    "    model.fit(train_X, train_y)\n",
    "    preds_val = model.predict(val_X)\n",
    "    mae = mean_absolute_error(val_y, preds_val)\n",
    "    return(mae)"
   ]
  },
  {
   "cell_type": "markdown",
   "id": "dcdbd0ae",
   "metadata": {
    "papermill": {
     "duration": 0.003464,
     "end_time": "2023-01-04T05:01:22.580086",
     "exception": false,
     "start_time": "2023-01-04T05:01:22.576622",
     "status": "completed"
    },
    "tags": []
   },
   "source": [
    "## Step 1: Compare Different Tree Sizes\n",
    "Write a loop that tries the following values for *max_leaf_nodes* from a set of possible values.\n",
    "\n",
    "Call the *get_mae* function on each value of max_leaf_nodes. Store the output in some way that allows you to select the value of `max_leaf_nodes` that gives the most accurate model on your data."
   ]
  },
  {
   "cell_type": "code",
   "execution_count": 3,
   "id": "d72198e4",
   "metadata": {
    "execution": {
     "iopub.execute_input": "2023-01-04T05:01:22.589814Z",
     "iopub.status.busy": "2023-01-04T05:01:22.588840Z",
     "iopub.status.idle": "2023-01-04T05:01:22.638882Z",
     "shell.execute_reply": "2023-01-04T05:01:22.637486Z"
    },
    "papermill": {
     "duration": 0.057598,
     "end_time": "2023-01-04T05:01:22.641402",
     "exception": false,
     "start_time": "2023-01-04T05:01:22.583804",
     "status": "completed"
    },
    "tags": []
   },
   "outputs": [
    {
     "data": {
      "application/javascript": [
       "parent.postMessage({\"jupyterEvent\": \"custom.exercise_interaction\", \"data\": {\"outcomeType\": 1, \"valueTowardsCompletion\": 0.5, \"interactionType\": 1, \"questionType\": 1, \"questionId\": \"1_BestTreeSize\", \"learnToolsVersion\": \"0.3.4\", \"failureMessage\": \"\", \"exceptionClass\": \"\", \"trace\": \"\"}}, \"*\")"
      ],
      "text/plain": [
       "<IPython.core.display.Javascript object>"
      ]
     },
     "metadata": {},
     "output_type": "display_data"
    },
    {
     "data": {
      "text/markdown": [
       "<span style=\"color:#33cc33\">Correct</span>"
      ],
      "text/plain": [
       "Correct"
      ]
     },
     "metadata": {},
     "output_type": "display_data"
    }
   ],
   "source": [
    "candidate_max_leaf_nodes = [5, 25, 50, 100, 250, 500]\n",
    "# Write loop to find the ideal tree size from candidate_max_leaf_nodes\n",
    "results = {}\n",
    "for max_leaf_nodes in candidate_max_leaf_nodes:\n",
    "    results[max_leaf_nodes] = get_mae(max_leaf_nodes, train_X, val_X, train_y, val_y)\n",
    "\n",
    "#print(results)\n",
    "# Store the best value of max_leaf_nodes (it will be either 5, 25, 50, 100, 250 or 500)\n",
    "best_tree_size = 100\n",
    "\n",
    "# Check your answer\n",
    "step_1.check()"
   ]
  },
  {
   "cell_type": "code",
   "execution_count": 4,
   "id": "f93afa08",
   "metadata": {
    "execution": {
     "iopub.execute_input": "2023-01-04T05:01:22.652052Z",
     "iopub.status.busy": "2023-01-04T05:01:22.651656Z",
     "iopub.status.idle": "2023-01-04T05:01:22.655638Z",
     "shell.execute_reply": "2023-01-04T05:01:22.654688Z"
    },
    "papermill": {
     "duration": 0.012841,
     "end_time": "2023-01-04T05:01:22.658407",
     "exception": false,
     "start_time": "2023-01-04T05:01:22.645566",
     "status": "completed"
    },
    "tags": []
   },
   "outputs": [],
   "source": [
    "# The lines below will show you a hint or the solution.\n",
    "# step_1.hint() \n",
    "# step_1.solution()"
   ]
  },
  {
   "cell_type": "markdown",
   "id": "3b58b080",
   "metadata": {
    "papermill": {
     "duration": 0.00371,
     "end_time": "2023-01-04T05:01:22.666271",
     "exception": false,
     "start_time": "2023-01-04T05:01:22.662561",
     "status": "completed"
    },
    "tags": []
   },
   "source": [
    "## Step 2: Fit Model Using All Data\n",
    "You know the best tree size. If you were going to deploy this model in practice, you would make it even more accurate by using all of the data and keeping that tree size.  That is, you don't need to hold out the validation data now that you've made all your modeling decisions."
   ]
  },
  {
   "cell_type": "code",
   "execution_count": 5,
   "id": "4b4d852c",
   "metadata": {
    "execution": {
     "iopub.execute_input": "2023-01-04T05:01:22.677133Z",
     "iopub.status.busy": "2023-01-04T05:01:22.676371Z",
     "iopub.status.idle": "2023-01-04T05:01:22.695406Z",
     "shell.execute_reply": "2023-01-04T05:01:22.693947Z"
    },
    "papermill": {
     "duration": 0.027585,
     "end_time": "2023-01-04T05:01:22.698423",
     "exception": false,
     "start_time": "2023-01-04T05:01:22.670838",
     "status": "completed"
    },
    "tags": []
   },
   "outputs": [
    {
     "data": {
      "application/javascript": [
       "parent.postMessage({\"jupyterEvent\": \"custom.exercise_interaction\", \"data\": {\"outcomeType\": 1, \"valueTowardsCompletion\": 0.5, \"interactionType\": 1, \"questionType\": 2, \"questionId\": \"2_FitModelWithAllData\", \"learnToolsVersion\": \"0.3.4\", \"failureMessage\": \"\", \"exceptionClass\": \"\", \"trace\": \"\"}}, \"*\")"
      ],
      "text/plain": [
       "<IPython.core.display.Javascript object>"
      ]
     },
     "metadata": {},
     "output_type": "display_data"
    },
    {
     "data": {
      "text/markdown": [
       "<span style=\"color:#33cc33\">Correct</span>"
      ],
      "text/plain": [
       "Correct"
      ]
     },
     "metadata": {},
     "output_type": "display_data"
    }
   ],
   "source": [
    "# Fill in argument to make optimal size and uncomment\n",
    "final_model = DecisionTreeRegressor(max_leaf_nodes=best_tree_size, random_state=1)\n",
    "\n",
    "# fit the final model and uncomment the next two lines\n",
    "final_model.fit(X, y)\n",
    "\n",
    "# Check your answer\n",
    "step_2.check()"
   ]
  },
  {
   "cell_type": "code",
   "execution_count": 6,
   "id": "c469be4f",
   "metadata": {
    "execution": {
     "iopub.execute_input": "2023-01-04T05:01:22.709092Z",
     "iopub.status.busy": "2023-01-04T05:01:22.708705Z",
     "iopub.status.idle": "2023-01-04T05:01:22.713290Z",
     "shell.execute_reply": "2023-01-04T05:01:22.712056Z"
    },
    "papermill": {
     "duration": 0.012824,
     "end_time": "2023-01-04T05:01:22.715715",
     "exception": false,
     "start_time": "2023-01-04T05:01:22.702891",
     "status": "completed"
    },
    "tags": []
   },
   "outputs": [],
   "source": [
    "# step_2.hint()\n",
    "# step_2.solution()"
   ]
  },
  {
   "cell_type": "markdown",
   "id": "bcf8cde5",
   "metadata": {
    "papermill": {
     "duration": 0.004129,
     "end_time": "2023-01-04T05:01:22.724393",
     "exception": false,
     "start_time": "2023-01-04T05:01:22.720264",
     "status": "completed"
    },
    "tags": []
   },
   "source": [
    "You've tuned this model and improved your results. But we are still using Decision Tree models, which are not very sophisticated by modern machine learning standards. In the next step you will learn to use Random Forests to improve your models even more.\n",
    "\n",
    "# Keep Going\n",
    "\n",
    "You are ready for **[Random Forests](https://www.kaggle.com/dansbecker/random-forests).**\n"
   ]
  },
  {
   "cell_type": "markdown",
   "id": "bf83739a",
   "metadata": {
    "papermill": {
     "duration": 0.003758,
     "end_time": "2023-01-04T05:01:22.732288",
     "exception": false,
     "start_time": "2023-01-04T05:01:22.728530",
     "status": "completed"
    },
    "tags": []
   },
   "source": [
    "---\n",
    "\n",
    "\n",
    "\n",
    "\n",
    "*Have questions or comments? Visit the [course discussion forum](https://www.kaggle.com/learn/intro-to-machine-learning/discussion) to chat with other learners.*"
   ]
  }
 ],
 "metadata": {
  "kernelspec": {
   "display_name": "Python 3",
   "language": "python",
   "name": "python3"
  },
  "language_info": {
   "codemirror_mode": {
    "name": "ipython",
    "version": 3
   },
   "file_extension": ".py",
   "mimetype": "text/x-python",
   "name": "python",
   "nbconvert_exporter": "python",
   "pygments_lexer": "ipython3",
   "version": "3.7.12"
  },
  "papermill": {
   "default_parameters": {},
   "duration": 11.851562,
   "end_time": "2023-01-04T05:01:23.459133",
   "environment_variables": {},
   "exception": null,
   "input_path": "__notebook__.ipynb",
   "output_path": "__notebook__.ipynb",
   "parameters": {},
   "start_time": "2023-01-04T05:01:11.607571",
   "version": "2.3.4"
  }
 },
 "nbformat": 4,
 "nbformat_minor": 5
}
