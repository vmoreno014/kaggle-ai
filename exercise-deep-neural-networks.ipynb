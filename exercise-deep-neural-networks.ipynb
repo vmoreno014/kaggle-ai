{
 "cells": [
  {
   "cell_type": "markdown",
   "id": "a4715dee",
   "metadata": {
    "papermill": {
     "duration": 0.005533,
     "end_time": "2023-01-04T05:11:47.552759",
     "exception": false,
     "start_time": "2023-01-04T05:11:47.547226",
     "status": "completed"
    },
    "tags": []
   },
   "source": [
    "**This notebook is an exercise in the [Intro to Deep Learning](https://www.kaggle.com/learn/intro-to-deep-learning) course.  You can reference the tutorial at [this link](https://www.kaggle.com/ryanholbrook/deep-neural-networks).**\n",
    "\n",
    "---\n"
   ]
  },
  {
   "cell_type": "markdown",
   "id": "27595f4f",
   "metadata": {
    "papermill": {
     "duration": 0.003949,
     "end_time": "2023-01-04T05:11:47.561188",
     "exception": false,
     "start_time": "2023-01-04T05:11:47.557239",
     "status": "completed"
    },
    "tags": []
   },
   "source": [
    "# Introduction #\n",
    "\n",
    "In the tutorial, we saw how to build deep neural networks by stacking layers inside a `Sequential` model. By adding an *activation function* after the hidden layers, we gave the network the ability to learn more complex (non-linear) relationships in the data.\n",
    "\n",
    "In these exercises, you'll build a neural network with several hidden layers and then explore some activation functions beyond ReLU. Run this next cell to set everything up!"
   ]
  },
  {
   "cell_type": "code",
   "execution_count": 1,
   "id": "e4b67fb8",
   "metadata": {
    "execution": {
     "iopub.execute_input": "2023-01-04T05:11:47.572676Z",
     "iopub.status.busy": "2023-01-04T05:11:47.571670Z",
     "iopub.status.idle": "2023-01-04T05:11:53.692721Z",
     "shell.execute_reply": "2023-01-04T05:11:53.691262Z"
    },
    "papermill": {
     "duration": 6.130421,
     "end_time": "2023-01-04T05:11:53.695797",
     "exception": false,
     "start_time": "2023-01-04T05:11:47.565376",
     "status": "completed"
    },
    "tags": []
   },
   "outputs": [],
   "source": [
    "import tensorflow as tf\n",
    "\n",
    "# Setup plotting\n",
    "import matplotlib.pyplot as plt\n",
    "\n",
    "plt.style.use('seaborn-whitegrid')\n",
    "# Set Matplotlib defaults\n",
    "plt.rc('figure', autolayout=True)\n",
    "plt.rc('axes', labelweight='bold', labelsize='large',\n",
    "       titleweight='bold', titlesize=18, titlepad=10)\n",
    "\n",
    "# Setup feedback system\n",
    "from learntools.core import binder\n",
    "binder.bind(globals())\n",
    "from learntools.deep_learning_intro.ex2 import *"
   ]
  },
  {
   "cell_type": "markdown",
   "id": "1be9e4f6",
   "metadata": {
    "papermill": {
     "duration": 0.004427,
     "end_time": "2023-01-04T05:11:53.705069",
     "exception": false,
     "start_time": "2023-01-04T05:11:53.700642",
     "status": "completed"
    },
    "tags": []
   },
   "source": [
    "In the *Concrete* dataset, your task is to predict the compressive strength of concrete manufactured according to various recipes.\n",
    "\n",
    "Run the next code cell without changes to load the dataset."
   ]
  },
  {
   "cell_type": "code",
   "execution_count": 2,
   "id": "f095b759",
   "metadata": {
    "execution": {
     "iopub.execute_input": "2023-01-04T05:11:53.717398Z",
     "iopub.status.busy": "2023-01-04T05:11:53.716186Z",
     "iopub.status.idle": "2023-01-04T05:11:53.761697Z",
     "shell.execute_reply": "2023-01-04T05:11:53.760123Z"
    },
    "papermill": {
     "duration": 0.054458,
     "end_time": "2023-01-04T05:11:53.764365",
     "exception": false,
     "start_time": "2023-01-04T05:11:53.709907",
     "status": "completed"
    },
    "tags": []
   },
   "outputs": [
    {
     "name": "stdout",
     "output_type": "stream",
     "text": [
      "(1030, 9)\n"
     ]
    },
    {
     "data": {
      "text/html": [
       "<div>\n",
       "<style scoped>\n",
       "    .dataframe tbody tr th:only-of-type {\n",
       "        vertical-align: middle;\n",
       "    }\n",
       "\n",
       "    .dataframe tbody tr th {\n",
       "        vertical-align: top;\n",
       "    }\n",
       "\n",
       "    .dataframe thead th {\n",
       "        text-align: right;\n",
       "    }\n",
       "</style>\n",
       "<table border=\"1\" class=\"dataframe\">\n",
       "  <thead>\n",
       "    <tr style=\"text-align: right;\">\n",
       "      <th></th>\n",
       "      <th>Cement</th>\n",
       "      <th>BlastFurnaceSlag</th>\n",
       "      <th>FlyAsh</th>\n",
       "      <th>Water</th>\n",
       "      <th>Superplasticizer</th>\n",
       "      <th>CoarseAggregate</th>\n",
       "      <th>FineAggregate</th>\n",
       "      <th>Age</th>\n",
       "      <th>CompressiveStrength</th>\n",
       "    </tr>\n",
       "  </thead>\n",
       "  <tbody>\n",
       "    <tr>\n",
       "      <th>0</th>\n",
       "      <td>540.0</td>\n",
       "      <td>0.0</td>\n",
       "      <td>0.0</td>\n",
       "      <td>162.0</td>\n",
       "      <td>2.5</td>\n",
       "      <td>1040.0</td>\n",
       "      <td>676.0</td>\n",
       "      <td>28</td>\n",
       "      <td>79.99</td>\n",
       "    </tr>\n",
       "    <tr>\n",
       "      <th>1</th>\n",
       "      <td>540.0</td>\n",
       "      <td>0.0</td>\n",
       "      <td>0.0</td>\n",
       "      <td>162.0</td>\n",
       "      <td>2.5</td>\n",
       "      <td>1055.0</td>\n",
       "      <td>676.0</td>\n",
       "      <td>28</td>\n",
       "      <td>61.89</td>\n",
       "    </tr>\n",
       "    <tr>\n",
       "      <th>2</th>\n",
       "      <td>332.5</td>\n",
       "      <td>142.5</td>\n",
       "      <td>0.0</td>\n",
       "      <td>228.0</td>\n",
       "      <td>0.0</td>\n",
       "      <td>932.0</td>\n",
       "      <td>594.0</td>\n",
       "      <td>270</td>\n",
       "      <td>40.27</td>\n",
       "    </tr>\n",
       "    <tr>\n",
       "      <th>3</th>\n",
       "      <td>332.5</td>\n",
       "      <td>142.5</td>\n",
       "      <td>0.0</td>\n",
       "      <td>228.0</td>\n",
       "      <td>0.0</td>\n",
       "      <td>932.0</td>\n",
       "      <td>594.0</td>\n",
       "      <td>365</td>\n",
       "      <td>41.05</td>\n",
       "    </tr>\n",
       "    <tr>\n",
       "      <th>4</th>\n",
       "      <td>198.6</td>\n",
       "      <td>132.4</td>\n",
       "      <td>0.0</td>\n",
       "      <td>192.0</td>\n",
       "      <td>0.0</td>\n",
       "      <td>978.4</td>\n",
       "      <td>825.5</td>\n",
       "      <td>360</td>\n",
       "      <td>44.30</td>\n",
       "    </tr>\n",
       "  </tbody>\n",
       "</table>\n",
       "</div>"
      ],
      "text/plain": [
       "   Cement  BlastFurnaceSlag  FlyAsh  Water  Superplasticizer  CoarseAggregate  \\\n",
       "0   540.0               0.0     0.0  162.0               2.5           1040.0   \n",
       "1   540.0               0.0     0.0  162.0               2.5           1055.0   \n",
       "2   332.5             142.5     0.0  228.0               0.0            932.0   \n",
       "3   332.5             142.5     0.0  228.0               0.0            932.0   \n",
       "4   198.6             132.4     0.0  192.0               0.0            978.4   \n",
       "\n",
       "   FineAggregate  Age  CompressiveStrength  \n",
       "0          676.0   28                79.99  \n",
       "1          676.0   28                61.89  \n",
       "2          594.0  270                40.27  \n",
       "3          594.0  365                41.05  \n",
       "4          825.5  360                44.30  "
      ]
     },
     "execution_count": 2,
     "metadata": {},
     "output_type": "execute_result"
    }
   ],
   "source": [
    "import pandas as pd\n",
    "\n",
    "concrete = pd.read_csv('../input/dl-course-data/concrete.csv')\n",
    "print(concrete.shape)\n",
    "concrete.head()"
   ]
  },
  {
   "cell_type": "markdown",
   "id": "a1aec8dd",
   "metadata": {
    "papermill": {
     "duration": 0.004339,
     "end_time": "2023-01-04T05:11:53.773637",
     "exception": false,
     "start_time": "2023-01-04T05:11:53.769298",
     "status": "completed"
    },
    "tags": []
   },
   "source": [
    "# 1) Input Shape #\n",
    "\n",
    "The target for this task is the column `'CompressiveStrength'`. The remaining columns are the features we'll use as inputs.\n",
    "\n",
    "What would be the input shape for this dataset?"
   ]
  },
  {
   "cell_type": "code",
   "execution_count": 3,
   "id": "6013359a",
   "metadata": {
    "execution": {
     "iopub.execute_input": "2023-01-04T05:11:53.784640Z",
     "iopub.status.busy": "2023-01-04T05:11:53.784237Z",
     "iopub.status.idle": "2023-01-04T05:11:53.793579Z",
     "shell.execute_reply": "2023-01-04T05:11:53.792776Z"
    },
    "lines_to_next_cell": 2,
    "papermill": {
     "duration": 0.017622,
     "end_time": "2023-01-04T05:11:53.795841",
     "exception": false,
     "start_time": "2023-01-04T05:11:53.778219",
     "status": "completed"
    },
    "tags": []
   },
   "outputs": [
    {
     "data": {
      "application/javascript": [
       "parent.postMessage({\"jupyterEvent\": \"custom.exercise_interaction\", \"data\": {\"outcomeType\": 1, \"valueTowardsCompletion\": 0.3333333333333333, \"interactionType\": 1, \"questionType\": 2, \"questionId\": \"1_Q1\", \"learnToolsVersion\": \"0.3.4\", \"failureMessage\": \"\", \"exceptionClass\": \"\", \"trace\": \"\"}}, \"*\")"
      ],
      "text/plain": [
       "<IPython.core.display.Javascript object>"
      ]
     },
     "metadata": {},
     "output_type": "display_data"
    },
    {
     "data": {
      "text/markdown": [
       "<span style=\"color:#33cc33\">Correct</span>"
      ],
      "text/plain": [
       "Correct"
      ]
     },
     "metadata": {},
     "output_type": "display_data"
    }
   ],
   "source": [
    "# YOUR CODE HERE\n",
    "input_shape = [8]\n",
    "\n",
    "# Check your answer\n",
    "q_1.check()"
   ]
  },
  {
   "cell_type": "code",
   "execution_count": 4,
   "id": "c26e4ef5",
   "metadata": {
    "execution": {
     "iopub.execute_input": "2023-01-04T05:11:53.808310Z",
     "iopub.status.busy": "2023-01-04T05:11:53.807584Z",
     "iopub.status.idle": "2023-01-04T05:11:53.811551Z",
     "shell.execute_reply": "2023-01-04T05:11:53.810744Z"
    },
    "papermill": {
     "duration": 0.012586,
     "end_time": "2023-01-04T05:11:53.813621",
     "exception": false,
     "start_time": "2023-01-04T05:11:53.801035",
     "status": "completed"
    },
    "tags": []
   },
   "outputs": [],
   "source": [
    "# Lines below will give you a hint or solution code\n",
    "#q_1.hint()\n",
    "#q_1.solution()"
   ]
  },
  {
   "cell_type": "markdown",
   "id": "7d37fc19",
   "metadata": {
    "papermill": {
     "duration": 0.004711,
     "end_time": "2023-01-04T05:11:53.823312",
     "exception": false,
     "start_time": "2023-01-04T05:11:53.818601",
     "status": "completed"
    },
    "tags": []
   },
   "source": [
    "# 2) Define a Model with Hidden Layers #\n",
    "\n",
    "Now create a model with three hidden layers, each having 512 units and the ReLU activation.  Be sure to include an output layer of one unit and no activation, and also `input_shape` as an argument to the first layer."
   ]
  },
  {
   "cell_type": "code",
   "execution_count": 5,
   "id": "8d66e070",
   "metadata": {
    "execution": {
     "iopub.execute_input": "2023-01-04T05:11:53.835128Z",
     "iopub.status.busy": "2023-01-04T05:11:53.834447Z",
     "iopub.status.idle": "2023-01-04T05:11:55.086397Z",
     "shell.execute_reply": "2023-01-04T05:11:55.085217Z"
    },
    "lines_to_next_cell": 0,
    "papermill": {
     "duration": 1.260794,
     "end_time": "2023-01-04T05:11:55.088907",
     "exception": false,
     "start_time": "2023-01-04T05:11:53.828113",
     "status": "completed"
    },
    "tags": []
   },
   "outputs": [
    {
     "name": "stderr",
     "output_type": "stream",
     "text": [
      "2023-01-04 05:11:54.985932: I tensorflow/core/common_runtime/process_util.cc:146] Creating new thread pool with default inter op setting: 2. Tune using inter_op_parallelism_threads for best performance.\n"
     ]
    },
    {
     "data": {
      "application/javascript": [
       "parent.postMessage({\"jupyterEvent\": \"custom.exercise_interaction\", \"data\": {\"outcomeType\": 1, \"valueTowardsCompletion\": 0.3333333333333333, \"interactionType\": 1, \"questionType\": 2, \"questionId\": \"2_Q2\", \"learnToolsVersion\": \"0.3.4\", \"failureMessage\": \"\", \"exceptionClass\": \"\", \"trace\": \"\"}}, \"*\")"
      ],
      "text/plain": [
       "<IPython.core.display.Javascript object>"
      ]
     },
     "metadata": {},
     "output_type": "display_data"
    },
    {
     "data": {
      "text/markdown": [
       "<span style=\"color:#33cc33\">Correct</span>"
      ],
      "text/plain": [
       "Correct"
      ]
     },
     "metadata": {},
     "output_type": "display_data"
    }
   ],
   "source": [
    "from tensorflow import keras\n",
    "from tensorflow.keras import layers\n",
    "\n",
    "# YOUR CODE HERE\n",
    "model = keras.Sequential([\n",
    "    # the hidden ReLU layers\n",
    "    layers.Dense(units=512, activation='relu', input_shape=[8]),\n",
    "    layers.Dense(units=512, activation='relu'),\n",
    "    layers.Dense(units=512, activation='relu'),\n",
    "    # the linear output layer \n",
    "    layers.Dense(units=1),\n",
    "])\n",
    "\n",
    "# Check your answer\n",
    "q_2.check()"
   ]
  },
  {
   "cell_type": "code",
   "execution_count": 6,
   "id": "460c99c4",
   "metadata": {
    "execution": {
     "iopub.execute_input": "2023-01-04T05:11:55.102030Z",
     "iopub.status.busy": "2023-01-04T05:11:55.100852Z",
     "iopub.status.idle": "2023-01-04T05:11:55.106351Z",
     "shell.execute_reply": "2023-01-04T05:11:55.105226Z"
    },
    "papermill": {
     "duration": 0.015001,
     "end_time": "2023-01-04T05:11:55.109173",
     "exception": false,
     "start_time": "2023-01-04T05:11:55.094172",
     "status": "completed"
    },
    "tags": []
   },
   "outputs": [],
   "source": [
    "# Lines below will give you a hint or solution code\n",
    "#q_2.hint()\n",
    "#q_2.solution()"
   ]
  },
  {
   "cell_type": "markdown",
   "id": "72317678",
   "metadata": {
    "papermill": {
     "duration": 0.005007,
     "end_time": "2023-01-04T05:11:55.119645",
     "exception": false,
     "start_time": "2023-01-04T05:11:55.114638",
     "status": "completed"
    },
    "tags": []
   },
   "source": [
    "# 3) Activation Layers #\n",
    "\n",
    "Let's explore activations functions some.\n",
    "\n",
    "The usual way of attaching an activation function to a `Dense` layer is to include it as part of the definition with the `activation` argument. Sometimes though you'll want to put some other layer between the `Dense` layer and its activation function. (We'll see an example of this in Lesson 5 with *batch normalization*.) In this case, we can define the activation in its own `Activation` layer, like so:\n",
    "\n",
    "```\n",
    "layers.Dense(units=8),\n",
    "layers.Activation('relu')\n",
    "```\n",
    "\n",
    "This is completely equivalent to the ordinary way: `layers.Dense(units=8, activation='relu')`.\n",
    "\n",
    "Rewrite the following model so that each activation is in its own `Activation` layer."
   ]
  },
  {
   "cell_type": "code",
   "execution_count": 7,
   "id": "78bc3427",
   "metadata": {
    "execution": {
     "iopub.execute_input": "2023-01-04T05:11:55.132300Z",
     "iopub.status.busy": "2023-01-04T05:11:55.131625Z",
     "iopub.status.idle": "2023-01-04T05:11:55.342061Z",
     "shell.execute_reply": "2023-01-04T05:11:55.340977Z"
    },
    "lines_to_next_cell": 0,
    "papermill": {
     "duration": 0.221286,
     "end_time": "2023-01-04T05:11:55.346134",
     "exception": false,
     "start_time": "2023-01-04T05:11:55.124848",
     "status": "completed"
    },
    "tags": []
   },
   "outputs": [
    {
     "data": {
      "application/javascript": [
       "parent.postMessage({\"jupyterEvent\": \"custom.exercise_interaction\", \"data\": {\"outcomeType\": 1, \"valueTowardsCompletion\": 0.3333333333333333, \"interactionType\": 1, \"questionType\": 2, \"questionId\": \"3_Q3\", \"learnToolsVersion\": \"0.3.4\", \"failureMessage\": \"\", \"exceptionClass\": \"\", \"trace\": \"\"}}, \"*\")"
      ],
      "text/plain": [
       "<IPython.core.display.Javascript object>"
      ]
     },
     "metadata": {},
     "output_type": "display_data"
    },
    {
     "data": {
      "text/markdown": [
       "<span style=\"color:#33cc33\">Correct</span>"
      ],
      "text/plain": [
       "Correct"
      ]
     },
     "metadata": {},
     "output_type": "display_data"
    }
   ],
   "source": [
    "### YOUR CODE HERE: rewrite this to use activation layers\n",
    "model = keras.Sequential([\n",
    "    layers.Dense(units=32, input_shape=[8]),\n",
    "    layers.Activation('relu'),\n",
    "    layers.Dense(units=32),\n",
    "    layers.Activation('relu'),\n",
    "    layers.Dense(1),\n",
    "])\n",
    "\n",
    "# Check your answer\n",
    "q_3.check()"
   ]
  },
  {
   "cell_type": "code",
   "execution_count": 8,
   "id": "12be6092",
   "metadata": {
    "execution": {
     "iopub.execute_input": "2023-01-04T05:11:55.359351Z",
     "iopub.status.busy": "2023-01-04T05:11:55.358921Z",
     "iopub.status.idle": "2023-01-04T05:11:55.363127Z",
     "shell.execute_reply": "2023-01-04T05:11:55.362009Z"
    },
    "papermill": {
     "duration": 0.014152,
     "end_time": "2023-01-04T05:11:55.365809",
     "exception": false,
     "start_time": "2023-01-04T05:11:55.351657",
     "status": "completed"
    },
    "tags": []
   },
   "outputs": [],
   "source": [
    "# Lines below will give you a hint or solution code\n",
    "#q_3.hint()\n",
    "#q_3.solution()"
   ]
  },
  {
   "cell_type": "markdown",
   "id": "e134a6f0",
   "metadata": {
    "papermill": {
     "duration": 0.005154,
     "end_time": "2023-01-04T05:11:55.376511",
     "exception": false,
     "start_time": "2023-01-04T05:11:55.371357",
     "status": "completed"
    },
    "tags": []
   },
   "source": [
    "# Optional: Alternatives to ReLU #\n",
    "\n",
    "There is a whole family of variants of the `'relu'` activation -- `'elu'`, `'selu'`, and `'swish'`, among others -- all of which you can use in Keras. Sometimes one activation will perform better than another on a given task, so you could consider experimenting with activations as you develop a model. The ReLU activation tends to do well on most problems, so it's a good one to start with.\n",
    "\n",
    "Let's look at the graphs of some of these. Change the activation from `'relu'` to one of the others named above. Then run the cell to see the graph. (Check out the [documentation](https://www.tensorflow.org/api_docs/python/tf/keras/activations) for more ideas.)"
   ]
  },
  {
   "cell_type": "code",
   "execution_count": 9,
   "id": "d8f33d96",
   "metadata": {
    "execution": {
     "iopub.execute_input": "2023-01-04T05:11:55.390636Z",
     "iopub.status.busy": "2023-01-04T05:11:55.389651Z",
     "iopub.status.idle": "2023-01-04T05:11:56.576266Z",
     "shell.execute_reply": "2023-01-04T05:11:56.575012Z"
    },
    "lines_to_next_cell": 0,
    "papermill": {
     "duration": 1.197223,
     "end_time": "2023-01-04T05:11:56.579147",
     "exception": false,
     "start_time": "2023-01-04T05:11:55.381924",
     "status": "completed"
    },
    "tags": []
   },
   "outputs": [
    {
     "data": {
      "image/png": "[encoded data removed]",
      "text/plain": [
       "<Figure size 600x400 with 1 Axes>"
      ]
     },
     "metadata": {},
     "output_type": "display_data"
    },
    {
     "data": {
      "image/png": "[encoded data removed]",
      "text/plain": [
       "<Figure size 600x400 with 1 Axes>"
      ]
     },
     "metadata": {},
     "output_type": "display_data"
    },
    {
     "data": {
      "image/png": "[encoded data removed]",
      "text/plain": [
       "<Figure size 600x400 with 1 Axes>"
      ]
     },
     "metadata": {},
     "output_type": "display_data"
    },
    {
     "data": {
      "image/png": "[encoded data removed]",
      "text/plain": [
       "<Figure size 600x400 with 1 Axes>"
      ]
     },
     "metadata": {},
     "output_type": "display_data"
    }
   ],
   "source": [
    "# YOUR CODE HERE: Change 'relu' to 'elu', 'selu', 'swish'... or something else\n",
    "for act in ['relu', 'elu', 'selu', 'swish']:\n",
    "    activation_layer = layers.Activation(act)\n",
    "\n",
    "    x = tf.linspace(-3.0, 3.0, 100)\n",
    "    y = activation_layer(x) # once created, a layer is callable just like a function\n",
    "\n",
    "    plt.figure(dpi=100)\n",
    "    plt.plot(x, y)\n",
    "    plt.title(act)\n",
    "    plt.xlim(-3, 3)\n",
    "    plt.xlabel(\"Input\")\n",
    "    plt.ylabel(\"Output\")\n",
    "    plt.show()"
   ]
  },
  {
   "cell_type": "markdown",
   "id": "e88826f7",
   "metadata": {
    "papermill": {
     "duration": 0.006966,
     "end_time": "2023-01-04T05:11:56.594007",
     "exception": false,
     "start_time": "2023-01-04T05:11:56.587041",
     "status": "completed"
    },
    "tags": []
   },
   "source": [
    "# Keep Going #\n",
    "\n",
    "Now move on to Lesson 3 and [**learn how to train neural networks**](https://www.kaggle.com/ryanholbrook/stochastic-gradient-descent) with stochastic gradient descent."
   ]
  },
  {
   "cell_type": "markdown",
   "id": "e2e882ac",
   "metadata": {
    "papermill": {
     "duration": 0.006731,
     "end_time": "2023-01-04T05:11:56.607904",
     "exception": false,
     "start_time": "2023-01-04T05:11:56.601173",
     "status": "completed"
    },
    "tags": []
   },
   "source": [
    "---\n",
    "\n",
    "\n",
    "\n",
    "\n",
    "*Have questions or comments? Visit the [course discussion forum](https://www.kaggle.com/learn/intro-to-deep-learning/discussion) to chat with other learners.*"
   ]
  }
 ],
 "metadata": {
  "kernelspec": {
   "display_name": "Python 3",
   "language": "python",
   "name": "python3"
  },
  "language_info": {
   "codemirror_mode": {
    "name": "ipython",
    "version": 3
   },
   "file_extension": ".py",
   "mimetype": "text/x-python",
   "name": "python",
   "nbconvert_exporter": "python",
   "pygments_lexer": "ipython3",
   "version": "3.7.12"
  },
  "papermill": {
   "default_parameters": {},
   "duration": 21.243765,
   "end_time": "2023-01-04T05:11:59.935243",
   "environment_variables": {},
   "exception": null,
   "input_path": "__notebook__.ipynb",
   "output_path": "__notebook__.ipynb",
   "parameters": {},
   "start_time": "2023-01-04T05:11:38.691478",
   "version": "2.3.4"
  }
 },
 "nbformat": 4,
 "nbformat_minor": 5
}
