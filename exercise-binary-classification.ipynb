{
 "cells": [
  {
   "cell_type": "markdown",
   "id": "62ff830d",
   "metadata": {
    "papermill": {
     "duration": 0.004555,
     "end_time": "2023-01-04T07:41:19.200533",
     "exception": false,
     "start_time": "2023-01-04T07:41:19.195978",
     "status": "completed"
    },
    "tags": []
   },
   "source": [
    "**This notebook is an exercise in the [Intro to Deep Learning](https://www.kaggle.com/learn/intro-to-deep-learning) course.  You can reference the tutorial at [this link](https://www.kaggle.com/ryanholbrook/binary-classification).**\n",
    "\n",
    "---\n"
   ]
  },
  {
   "cell_type": "markdown",
   "id": "8c68e341",
   "metadata": {
    "papermill": {
     "duration": 0.002997,
     "end_time": "2023-01-04T07:41:19.207110",
     "exception": false,
     "start_time": "2023-01-04T07:41:19.204113",
     "status": "completed"
    },
    "tags": []
   },
   "source": [
    "# Introduction #\n",
    "\n",
    "In this exercise, you'll build a model to predict hotel cancellations with a binary classifier."
   ]
  },
  {
   "cell_type": "code",
   "execution_count": 1,
   "id": "0b16c064",
   "metadata": {
    "execution": {
     "iopub.execute_input": "2023-01-04T07:41:19.215731Z",
     "iopub.status.busy": "2023-01-04T07:41:19.215193Z",
     "iopub.status.idle": "2023-01-04T07:41:19.245809Z",
     "shell.execute_reply": "2023-01-04T07:41:19.244864Z"
    },
    "lines_to_next_cell": 0,
    "papermill": {
     "duration": 0.037541,
     "end_time": "2023-01-04T07:41:19.247844",
     "exception": false,
     "start_time": "2023-01-04T07:41:19.210303",
     "status": "completed"
    },
    "tags": []
   },
   "outputs": [],
   "source": [
    "# Setup plotting\n",
    "import matplotlib.pyplot as plt\n",
    "plt.style.use('seaborn-whitegrid')\n",
    "# Set Matplotlib defaults\n",
    "plt.rc('figure', autolayout=True)\n",
    "plt.rc('axes', labelweight='bold', labelsize='large',\n",
    "       titleweight='bold', titlesize=18, titlepad=10)\n",
    "plt.rc('animation', html='html5')\n",
    "\n",
    "# Setup feedback system\n",
    "from learntools.core import binder\n",
    "binder.bind(globals())\n",
    "from learntools.deep_learning_intro.ex6 import *"
   ]
  },
  {
   "cell_type": "markdown",
   "id": "267702a6",
   "metadata": {
    "papermill": {
     "duration": 0.002981,
     "end_time": "2023-01-04T07:41:19.254291",
     "exception": false,
     "start_time": "2023-01-04T07:41:19.251310",
     "status": "completed"
    },
    "tags": []
   },
   "source": [
    "First, load the *Hotel Cancellations* dataset."
   ]
  },
  {
   "cell_type": "code",
   "execution_count": 2,
   "id": "a26387f1",
   "metadata": {
    "execution": {
     "iopub.execute_input": "2023-01-04T07:41:19.262549Z",
     "iopub.status.busy": "2023-01-04T07:41:19.261730Z",
     "iopub.status.idle": "2023-01-04T07:41:21.253536Z",
     "shell.execute_reply": "2023-01-04T07:41:21.252544Z"
    },
    "lines_to_next_cell": 2,
    "papermill": {
     "duration": 1.998628,
     "end_time": "2023-01-04T07:41:21.256083",
     "exception": false,
     "start_time": "2023-01-04T07:41:19.257455",
     "status": "completed"
    },
    "tags": []
   },
   "outputs": [],
   "source": [
    "import pandas as pd\n",
    "\n",
    "from sklearn.model_selection import train_test_split\n",
    "from sklearn.preprocessing import StandardScaler, OneHotEncoder\n",
    "from sklearn.impute import SimpleImputer\n",
    "from sklearn.pipeline import make_pipeline\n",
    "from sklearn.compose import make_column_transformer\n",
    "\n",
    "hotel = pd.read_csv('../input/dl-course-data/hotel.csv')\n",
    "\n",
    "X = hotel.copy()\n",
    "y = X.pop('is_canceled')\n",
    "\n",
    "X['arrival_date_month'] = \\\n",
    "    X['arrival_date_month'].map(\n",
    "        {'January':1, 'February': 2, 'March':3,\n",
    "         'April':4, 'May':5, 'June':6, 'July':7,\n",
    "         'August':8, 'September':9, 'October':10,\n",
    "         'November':11, 'December':12}\n",
    "    )\n",
    "\n",
    "features_num = [\n",
    "    \"lead_time\", \"arrival_date_week_number\",\n",
    "    \"arrival_date_day_of_month\", \"stays_in_weekend_nights\",\n",
    "    \"stays_in_week_nights\", \"adults\", \"children\", \"babies\",\n",
    "    \"is_repeated_guest\", \"previous_cancellations\",\n",
    "    \"previous_bookings_not_canceled\", \"required_car_parking_spaces\",\n",
    "    \"total_of_special_requests\", \"adr\",\n",
    "]\n",
    "features_cat = [\n",
    "    \"hotel\", \"arrival_date_month\", \"meal\",\n",
    "    \"market_segment\", \"distribution_channel\",\n",
    "    \"reserved_room_type\", \"deposit_type\", \"customer_type\",\n",
    "]\n",
    "\n",
    "transformer_num = make_pipeline(\n",
    "    SimpleImputer(strategy=\"constant\"), # there are a few missing values\n",
    "    StandardScaler(),\n",
    ")\n",
    "transformer_cat = make_pipeline(\n",
    "    SimpleImputer(strategy=\"constant\", fill_value=\"NA\"),\n",
    "    OneHotEncoder(handle_unknown='ignore'),\n",
    ")\n",
    "\n",
    "preprocessor = make_column_transformer(\n",
    "    (transformer_num, features_num),\n",
    "    (transformer_cat, features_cat),\n",
    ")\n",
    "\n",
    "# stratify - make sure classes are evenlly represented across splits\n",
    "X_train, X_valid, y_train, y_valid = \\\n",
    "    train_test_split(X, y, stratify=y, train_size=0.75)\n",
    "\n",
    "X_train = preprocessor.fit_transform(X_train)\n",
    "X_valid = preprocessor.transform(X_valid)\n",
    "\n",
    "input_shape = [X_train.shape[1]]"
   ]
  },
  {
   "cell_type": "markdown",
   "id": "5cb324bd",
   "metadata": {
    "papermill": {
     "duration": 0.003432,
     "end_time": "2023-01-04T07:41:21.263027",
     "exception": false,
     "start_time": "2023-01-04T07:41:21.259595",
     "status": "completed"
    },
    "tags": []
   },
   "source": [
    "# 1) Define Model #\n",
    "\n",
    "The model we'll use this time will have both batch normalization and dropout layers. To ease reading we've broken the diagram into blocks, but you can define it layer by layer as usual.\n",
    "\n",
    "Define a model with an architecture given by this diagram:\n",
    "\n",
    "<figure style=\"padding: 1em;\">\n",
    "<img src=\"https://i.imgur.com/V04o59Z.png\" width=\"400\" alt=\"Diagram of network architecture: BatchNorm, Dense, BatchNorm, Dropout, Dense, BatchNorm, Dropout, Dense.\">\n",
    "<figcaption style=\"textalign: center; font-style: italic\"><center>Diagram of a binary classifier.</center></figcaption>\n",
    "</figure>\n"
   ]
  },
  {
   "cell_type": "code",
   "execution_count": 3,
   "id": "0d3f8bae",
   "metadata": {
    "execution": {
     "iopub.execute_input": "2023-01-04T07:41:21.270849Z",
     "iopub.status.busy": "2023-01-04T07:41:21.270529Z",
     "iopub.status.idle": "2023-01-04T07:41:28.390098Z",
     "shell.execute_reply": "2023-01-04T07:41:28.389053Z"
    },
    "lines_to_next_cell": 2,
    "papermill": {
     "duration": 7.126179,
     "end_time": "2023-01-04T07:41:28.392377",
     "exception": false,
     "start_time": "2023-01-04T07:41:21.266198",
     "status": "completed"
    },
    "tags": []
   },
   "outputs": [
    {
     "name": "stderr",
     "output_type": "stream",
     "text": [
      "2023-01-04 07:41:25.991766: I tensorflow/stream_executor/cuda/cuda_gpu_executor.cc:937] successful NUMA node read from SysFS had negative value (-1), but there must be at least one NUMA node, so returning NUMA node zero\n",
      "2023-01-04 07:41:26.075227: I tensorflow/stream_executor/cuda/cuda_gpu_executor.cc:937] successful NUMA node read from SysFS had negative value (-1), but there must be at least one NUMA node, so returning NUMA node zero\n",
      "2023-01-04 07:41:26.076005: I tensorflow/stream_executor/cuda/cuda_gpu_executor.cc:937] successful NUMA node read from SysFS had negative value (-1), but there must be at least one NUMA node, so returning NUMA node zero\n",
      "2023-01-04 07:41:26.077223: I tensorflow/core/platform/cpu_feature_guard.cc:142] This TensorFlow binary is optimized with oneAPI Deep Neural Network Library (oneDNN) to use the following CPU instructions in performance-critical operations:  AVX2 AVX512F FMA\n",
      "To enable them in other operations, rebuild TensorFlow with the appropriate compiler flags.\n",
      "2023-01-04 07:41:26.085860: I tensorflow/stream_executor/cuda/cuda_gpu_executor.cc:937] successful NUMA node read from SysFS had negative value (-1), but there must be at least one NUMA node, so returning NUMA node zero\n",
      "2023-01-04 07:41:26.086565: I tensorflow/stream_executor/cuda/cuda_gpu_executor.cc:937] successful NUMA node read from SysFS had negative value (-1), but there must be at least one NUMA node, so returning NUMA node zero\n",
      "2023-01-04 07:41:26.087268: I tensorflow/stream_executor/cuda/cuda_gpu_executor.cc:937] successful NUMA node read from SysFS had negative value (-1), but there must be at least one NUMA node, so returning NUMA node zero\n",
      "2023-01-04 07:41:28.021988: I tensorflow/stream_executor/cuda/cuda_gpu_executor.cc:937] successful NUMA node read from SysFS had negative value (-1), but there must be at least one NUMA node, so returning NUMA node zero\n",
      "2023-01-04 07:41:28.022830: I tensorflow/stream_executor/cuda/cuda_gpu_executor.cc:937] successful NUMA node read from SysFS had negative value (-1), but there must be at least one NUMA node, so returning NUMA node zero\n",
      "2023-01-04 07:41:28.023523: I tensorflow/stream_executor/cuda/cuda_gpu_executor.cc:937] successful NUMA node read from SysFS had negative value (-1), but there must be at least one NUMA node, so returning NUMA node zero\n",
      "2023-01-04 07:41:28.024117: I tensorflow/core/common_runtime/gpu/gpu_device.cc:1510] Created device /job:localhost/replica:0/task:0/device:GPU:0 with 15401 MB memory:  -> device: 0, name: Tesla P100-PCIE-16GB, pci bus id: 0000:00:04.0, compute capability: 6.0\n"
     ]
    },
    {
     "data": {
      "application/javascript": [
       "parent.postMessage({\"jupyterEvent\": \"custom.exercise_interaction\", \"data\": {\"outcomeType\": 1, \"valueTowardsCompletion\": 0.3333333333333333, \"interactionType\": 1, \"questionType\": 2, \"questionId\": \"1_Q1\", \"learnToolsVersion\": \"0.3.4\", \"failureMessage\": \"\", \"exceptionClass\": \"\", \"trace\": \"\"}}, \"*\")"
      ],
      "text/plain": [
       "<IPython.core.display.Javascript object>"
      ]
     },
     "metadata": {},
     "output_type": "display_data"
    },
    {
     "data": {
      "text/markdown": [
       "<span style=\"color:#33cc33\">Correct</span>"
      ],
      "text/plain": [
       "Correct"
      ]
     },
     "metadata": {},
     "output_type": "display_data"
    }
   ],
   "source": [
    "from tensorflow import keras\n",
    "from tensorflow.keras import layers\n",
    "\n",
    "# YOUR CODE HERE: define the model given in the diagram\n",
    "model = keras.Sequential([\n",
    "    layers.BatchNormalization(),\n",
    "    layers.Dense(256, activation='relu'),\n",
    "    layers.BatchNormalization(),\n",
    "    layers.Dropout(rate=0.3),\n",
    "    layers.Dense(256, activation='relu'),\n",
    "    layers.BatchNormalization(),\n",
    "    layers.Dropout(rate=0.3),\n",
    "    layers.Dense(1, activation='sigmoid'),\n",
    "])\n",
    "\n",
    "# Check your answer\n",
    "q_1.check()"
   ]
  },
  {
   "cell_type": "markdown",
   "id": "9d1728db",
   "metadata": {
    "papermill": {
     "duration": 0.003532,
     "end_time": "2023-01-04T07:41:28.399647",
     "exception": false,
     "start_time": "2023-01-04T07:41:28.396115",
     "status": "completed"
    },
    "tags": []
   },
   "source": [
    "# 2) Add Optimizer, Loss, and Metric #\n",
    "\n",
    "Now compile the model with the Adam optimizer and binary versions of the cross-entropy loss and accuracy metric."
   ]
  },
  {
   "cell_type": "code",
   "execution_count": 4,
   "id": "e39fb190",
   "metadata": {
    "execution": {
     "iopub.execute_input": "2023-01-04T07:41:28.408378Z",
     "iopub.status.busy": "2023-01-04T07:41:28.407898Z",
     "iopub.status.idle": "2023-01-04T07:41:28.428337Z",
     "shell.execute_reply": "2023-01-04T07:41:28.427482Z"
    },
    "lines_to_next_cell": 0,
    "papermill": {
     "duration": 0.027096,
     "end_time": "2023-01-04T07:41:28.430380",
     "exception": false,
     "start_time": "2023-01-04T07:41:28.403284",
     "status": "completed"
    },
    "tags": []
   },
   "outputs": [
    {
     "data": {
      "application/javascript": [
       "parent.postMessage({\"jupyterEvent\": \"custom.exercise_interaction\", \"data\": {\"outcomeType\": 1, \"valueTowardsCompletion\": 0.3333333333333333, \"interactionType\": 1, \"questionType\": 2, \"questionId\": \"2_Q2\", \"learnToolsVersion\": \"0.3.4\", \"failureMessage\": \"\", \"exceptionClass\": \"\", \"trace\": \"\"}}, \"*\")"
      ],
      "text/plain": [
       "<IPython.core.display.Javascript object>"
      ]
     },
     "metadata": {},
     "output_type": "display_data"
    },
    {
     "data": {
      "text/markdown": [
       "<span style=\"color:#33cc33\">Correct</span>"
      ],
      "text/plain": [
       "Correct"
      ]
     },
     "metadata": {},
     "output_type": "display_data"
    }
   ],
   "source": [
    "# YOUR CODE HERE\n",
    "\n",
    "\n",
    "model.compile(\n",
    "    optimizer='adam',\n",
    "    loss='binary_crossentropy',\n",
    "    metrics=['binary_accuracy'],\n",
    ")\n",
    "\n",
    "# Check your answer\n",
    "q_2.check()"
   ]
  },
  {
   "cell_type": "code",
   "execution_count": 5,
   "id": "1ed8fe84",
   "metadata": {
    "execution": {
     "iopub.execute_input": "2023-01-04T07:41:28.439021Z",
     "iopub.status.busy": "2023-01-04T07:41:28.438731Z",
     "iopub.status.idle": "2023-01-04T07:41:28.443396Z",
     "shell.execute_reply": "2023-01-04T07:41:28.442581Z"
    },
    "lines_to_next_cell": 0,
    "papermill": {
     "duration": 0.011249,
     "end_time": "2023-01-04T07:41:28.445289",
     "exception": false,
     "start_time": "2023-01-04T07:41:28.434040",
     "status": "completed"
    },
    "tags": []
   },
   "outputs": [],
   "source": [
    "# Lines below will give you a hint or solution code\n",
    "#q_2.hint()\n",
    "#q_2.solution()"
   ]
  },
  {
   "cell_type": "markdown",
   "id": "5b95f8da",
   "metadata": {
    "papermill": {
     "duration": 0.003479,
     "end_time": "2023-01-04T07:41:28.452408",
     "exception": false,
     "start_time": "2023-01-04T07:41:28.448929",
     "status": "completed"
    },
    "tags": []
   },
   "source": [
    "Finally, run this cell to train the model and view the learning curves. It may run for around 60 to 70 epochs, which could take a minute or two."
   ]
  },
  {
   "cell_type": "code",
   "execution_count": 6,
   "id": "cc924566",
   "metadata": {
    "execution": {
     "iopub.execute_input": "2023-01-04T07:41:28.461957Z",
     "iopub.status.busy": "2023-01-04T07:41:28.460433Z",
     "iopub.status.idle": "2023-01-04T07:42:00.327760Z",
     "shell.execute_reply": "2023-01-04T07:42:00.326784Z"
    },
    "papermill": {
     "duration": 31.873895,
     "end_time": "2023-01-04T07:42:00.329913",
     "exception": false,
     "start_time": "2023-01-04T07:41:28.456018",
     "status": "completed"
    },
    "tags": []
   },
   "outputs": [
    {
     "name": "stderr",
     "output_type": "stream",
     "text": [
      "2023-01-04 07:41:28.580947: I tensorflow/compiler/mlir/mlir_graph_optimization_pass.cc:185] None of the MLIR Optimization Passes are enabled (registered 2)\n"
     ]
    },
    {
     "name": "stdout",
     "output_type": "stream",
     "text": [
      "Epoch 1/200\n",
      "175/175 [==============================] - 3s 5ms/step - loss: 0.4783 - binary_accuracy: 0.7719 - val_loss: 0.4450 - val_binary_accuracy: 0.8044\n",
      "Epoch 2/200\n",
      "175/175 [==============================] - 1s 4ms/step - loss: 0.4217 - binary_accuracy: 0.8023 - val_loss: 0.4083 - val_binary_accuracy: 0.8076\n",
      "Epoch 3/200\n",
      "175/175 [==============================] - 1s 4ms/step - loss: 0.4086 - binary_accuracy: 0.8093 - val_loss: 0.3993 - val_binary_accuracy: 0.8116\n",
      "Epoch 4/200\n",
      "175/175 [==============================] - 1s 4ms/step - loss: 0.4013 - binary_accuracy: 0.8131 - val_loss: 0.3920 - val_binary_accuracy: 0.8172\n",
      "Epoch 5/200\n",
      "175/175 [==============================] - 1s 4ms/step - loss: 0.3974 - binary_accuracy: 0.8149 - val_loss: 0.3903 - val_binary_accuracy: 0.8180\n",
      "Epoch 6/200\n",
      "175/175 [==============================] - 1s 7ms/step - loss: 0.3921 - binary_accuracy: 0.8180 - val_loss: 0.3862 - val_binary_accuracy: 0.8204\n",
      "Epoch 7/200\n",
      "175/175 [==============================] - 1s 6ms/step - loss: 0.3872 - binary_accuracy: 0.8204 - val_loss: 0.3834 - val_binary_accuracy: 0.8207\n",
      "Epoch 8/200\n",
      "175/175 [==============================] - 1s 5ms/step - loss: 0.3839 - binary_accuracy: 0.8228 - val_loss: 0.3813 - val_binary_accuracy: 0.8255\n",
      "Epoch 9/200\n",
      "175/175 [==============================] - 1s 4ms/step - loss: 0.3819 - binary_accuracy: 0.8240 - val_loss: 0.3782 - val_binary_accuracy: 0.8259\n",
      "Epoch 10/200\n",
      "175/175 [==============================] - 1s 5ms/step - loss: 0.3768 - binary_accuracy: 0.8267 - val_loss: 0.3751 - val_binary_accuracy: 0.8253\n",
      "Epoch 11/200\n",
      "175/175 [==============================] - 1s 5ms/step - loss: 0.3737 - binary_accuracy: 0.8273 - val_loss: 0.3732 - val_binary_accuracy: 0.8289\n",
      "Epoch 12/200\n",
      "175/175 [==============================] - 1s 5ms/step - loss: 0.3726 - binary_accuracy: 0.8281 - val_loss: 0.3733 - val_binary_accuracy: 0.8265\n",
      "Epoch 13/200\n",
      "175/175 [==============================] - 1s 4ms/step - loss: 0.3701 - binary_accuracy: 0.8280 - val_loss: 0.3693 - val_binary_accuracy: 0.8298\n",
      "Epoch 14/200\n",
      "175/175 [==============================] - 1s 5ms/step - loss: 0.3684 - binary_accuracy: 0.8296 - val_loss: 0.3687 - val_binary_accuracy: 0.8320\n",
      "Epoch 15/200\n",
      "175/175 [==============================] - 1s 4ms/step - loss: 0.3664 - binary_accuracy: 0.8315 - val_loss: 0.3683 - val_binary_accuracy: 0.8293\n",
      "Epoch 16/200\n",
      "175/175 [==============================] - 1s 4ms/step - loss: 0.3643 - binary_accuracy: 0.8322 - val_loss: 0.3669 - val_binary_accuracy: 0.8305\n",
      "Epoch 17/200\n",
      "175/175 [==============================] - 1s 5ms/step - loss: 0.3631 - binary_accuracy: 0.8327 - val_loss: 0.3618 - val_binary_accuracy: 0.8331\n",
      "Epoch 18/200\n",
      "175/175 [==============================] - 1s 4ms/step - loss: 0.3628 - binary_accuracy: 0.8326 - val_loss: 0.3657 - val_binary_accuracy: 0.8322\n",
      "Epoch 19/200\n",
      "175/175 [==============================] - 1s 6ms/step - loss: 0.3604 - binary_accuracy: 0.8337 - val_loss: 0.3613 - val_binary_accuracy: 0.8347\n",
      "Epoch 20/200\n",
      "175/175 [==============================] - 1s 4ms/step - loss: 0.3583 - binary_accuracy: 0.8347 - val_loss: 0.3620 - val_binary_accuracy: 0.8340\n",
      "Epoch 21/200\n",
      "175/175 [==============================] - 1s 5ms/step - loss: 0.3565 - binary_accuracy: 0.8353 - val_loss: 0.3597 - val_binary_accuracy: 0.8354\n",
      "Epoch 22/200\n",
      "175/175 [==============================] - 1s 5ms/step - loss: 0.3569 - binary_accuracy: 0.8353 - val_loss: 0.3604 - val_binary_accuracy: 0.8347\n",
      "Epoch 23/200\n",
      "175/175 [==============================] - 1s 4ms/step - loss: 0.3550 - binary_accuracy: 0.8361 - val_loss: 0.3576 - val_binary_accuracy: 0.8354\n",
      "Epoch 24/200\n",
      "175/175 [==============================] - 1s 4ms/step - loss: 0.3545 - binary_accuracy: 0.8355 - val_loss: 0.3584 - val_binary_accuracy: 0.8354\n",
      "Epoch 25/200\n",
      "175/175 [==============================] - 1s 4ms/step - loss: 0.3529 - binary_accuracy: 0.8366 - val_loss: 0.3557 - val_binary_accuracy: 0.8369\n",
      "Epoch 26/200\n",
      "175/175 [==============================] - 1s 4ms/step - loss: 0.3508 - binary_accuracy: 0.8385 - val_loss: 0.3563 - val_binary_accuracy: 0.8364\n",
      "Epoch 27/200\n",
      "175/175 [==============================] - 1s 4ms/step - loss: 0.3491 - binary_accuracy: 0.8391 - val_loss: 0.3554 - val_binary_accuracy: 0.8368\n",
      "Epoch 28/200\n",
      "175/175 [==============================] - 1s 5ms/step - loss: 0.3494 - binary_accuracy: 0.8389 - val_loss: 0.3556 - val_binary_accuracy: 0.8376\n",
      "Epoch 29/200\n",
      "175/175 [==============================] - 1s 5ms/step - loss: 0.3479 - binary_accuracy: 0.8382 - val_loss: 0.3542 - val_binary_accuracy: 0.8380\n",
      "Epoch 30/200\n",
      "175/175 [==============================] - 1s 5ms/step - loss: 0.3470 - binary_accuracy: 0.8401 - val_loss: 0.3552 - val_binary_accuracy: 0.8376\n",
      "Epoch 31/200\n",
      "175/175 [==============================] - 1s 5ms/step - loss: 0.3445 - binary_accuracy: 0.8415 - val_loss: 0.3529 - val_binary_accuracy: 0.8377\n",
      "Epoch 32/200\n",
      "175/175 [==============================] - 1s 4ms/step - loss: 0.3468 - binary_accuracy: 0.8398 - val_loss: 0.3531 - val_binary_accuracy: 0.8393\n",
      "Epoch 33/200\n",
      "175/175 [==============================] - 1s 6ms/step - loss: 0.3458 - binary_accuracy: 0.8409 - val_loss: 0.3526 - val_binary_accuracy: 0.8386\n",
      "Epoch 34/200\n",
      "175/175 [==============================] - 1s 4ms/step - loss: 0.3433 - binary_accuracy: 0.8412 - val_loss: 0.3533 - val_binary_accuracy: 0.8375\n",
      "Epoch 35/200\n",
      "175/175 [==============================] - 1s 5ms/step - loss: 0.3433 - binary_accuracy: 0.8407 - val_loss: 0.3579 - val_binary_accuracy: 0.8362\n",
      "Epoch 36/200\n",
      "175/175 [==============================] - 1s 4ms/step - loss: 0.3428 - binary_accuracy: 0.8418 - val_loss: 0.3530 - val_binary_accuracy: 0.8381\n"
     ]
    },
    {
     "data": {
      "text/plain": [
       "<AxesSubplot:title={'center':'Accuracy'}>"
      ]
     },
     "execution_count": 6,
     "metadata": {},
     "output_type": "execute_result"
    },
    {
     "data": {
      "image/png": "[encoded data removed]",
      "text/plain": [
       "<Figure size 432x288 with 1 Axes>"
      ]
     },
     "metadata": {},
     "output_type": "display_data"
    },
    {
     "data": {
      "image/png": "[encoded data removed]",
      "text/plain": [
       "<Figure size 432x288 with 1 Axes>"
      ]
     },
     "metadata": {},
     "output_type": "display_data"
    }
   ],
   "source": [
    "early_stopping = keras.callbacks.EarlyStopping(\n",
    "    patience=5,\n",
    "    min_delta=0.001,\n",
    "    restore_best_weights=True,\n",
    ")\n",
    "history = model.fit(\n",
    "    X_train, y_train,\n",
    "    validation_data=(X_valid, y_valid),\n",
    "    batch_size=512,\n",
    "    epochs=200,\n",
    "    callbacks=[early_stopping],\n",
    ")\n",
    "\n",
    "history_df = pd.DataFrame(history.history)\n",
    "history_df.loc[:, ['loss', 'val_loss']].plot(title=\"Cross-entropy\")\n",
    "history_df.loc[:, ['binary_accuracy', 'val_binary_accuracy']].plot(title=\"Accuracy\")"
   ]
  },
  {
   "cell_type": "markdown",
   "id": "0e875658",
   "metadata": {
    "papermill": {
     "duration": 0.030085,
     "end_time": "2023-01-04T07:42:00.390946",
     "exception": false,
     "start_time": "2023-01-04T07:42:00.360861",
     "status": "completed"
    },
    "tags": []
   },
   "source": [
    "# 3) Train and Evaluate #\n",
    "\n",
    "\n",
    "What do you think about the learning curves? Does it look like the model underfit or overfit? Was the cross-entropy loss a good stand-in for accuracy?"
   ]
  },
  {
   "cell_type": "code",
   "execution_count": 7,
   "id": "88c8bf88",
   "metadata": {
    "execution": {
     "iopub.execute_input": "2023-01-04T07:42:00.453319Z",
     "iopub.status.busy": "2023-01-04T07:42:00.452435Z",
     "iopub.status.idle": "2023-01-04T07:42:00.463089Z",
     "shell.execute_reply": "2023-01-04T07:42:00.461781Z"
    },
    "papermill": {
     "duration": 0.047053,
     "end_time": "2023-01-04T07:42:00.468303",
     "exception": false,
     "start_time": "2023-01-04T07:42:00.421250",
     "status": "completed"
    },
    "tags": []
   },
   "outputs": [
    {
     "data": {
      "application/javascript": [
       "parent.postMessage({\"jupyterEvent\": \"custom.exercise_interaction\", \"data\": {\"outcomeType\": 1, \"valueTowardsCompletion\": 0.3333333333333333, \"interactionType\": 1, \"questionType\": 4, \"questionId\": \"3_Q3\", \"learnToolsVersion\": \"0.3.4\", \"failureMessage\": \"\", \"exceptionClass\": \"\", \"trace\": \"\"}}, \"*\")"
      ],
      "text/plain": [
       "<IPython.core.display.Javascript object>"
      ]
     },
     "metadata": {},
     "output_type": "display_data"
    },
    {
     "data": {
      "text/markdown": [
       "<span style=\"color:#33cc33\">Correct:</span> \n",
       "\n",
       "Though we can see the training loss continuing to fall, the early stopping callback prevented any overfitting. Moreover, the accuracy rose at the same rate as the cross-entropy fell, so it appears that minimizing cross-entropy was a good stand-in. All in all, it looks like this training was a success!"
      ],
      "text/plain": [
       "Correct: \n",
       "\n",
       "Though we can see the training loss continuing to fall, the early stopping callback prevented any overfitting. Moreover, the accuracy rose at the same rate as the cross-entropy fell, so it appears that minimizing cross-entropy was a good stand-in. All in all, it looks like this training was a success!"
      ]
     },
     "metadata": {},
     "output_type": "display_data"
    }
   ],
   "source": [
    "# View the solution (Run this cell to receive credit!)\n",
    "q_3.check()"
   ]
  },
  {
   "cell_type": "markdown",
   "id": "4069c7f9",
   "metadata": {
    "papermill": {
     "duration": 0.030282,
     "end_time": "2023-01-04T07:42:00.534927",
     "exception": false,
     "start_time": "2023-01-04T07:42:00.504645",
     "status": "completed"
    },
    "tags": []
   },
   "source": [
    "# Conclusion #\n",
    "\n",
    "Congratulations! You've completed Kaggle's *Introduction to Deep Learning* course!\n",
    "\n",
    "With your new skills you're ready to take on more advanced applications like computer vision and sentiment classification. What would you like to do next?\n",
    "\n",
    "Why not try one of our *Getting Started* competitions?\n",
    "\n",
    "- Classify images with TPUs in [**Petals to the Metal**](https://www.kaggle.com/c/tpu-getting-started)\n",
    "- Create art with GANs in [**I'm Something of a Painter Myself**](https://www.kaggle.com/c/gan-getting-started)\n",
    "- Classify Tweets in [**Real or Not? NLP with Disaster Tweets**](https://www.kaggle.com/c/nlp-getting-started)\n",
    "- Detect contradiction and entailment in [**Contradictory, My Dear Watson**](https://www.kaggle.com/c/contradictory-my-dear-watson)\n",
    "\n",
    "Until next time, Kagglers!"
   ]
  },
  {
   "cell_type": "markdown",
   "id": "4ffe3ee8",
   "metadata": {
    "papermill": {
     "duration": 0.03032,
     "end_time": "2023-01-04T07:42:00.595803",
     "exception": false,
     "start_time": "2023-01-04T07:42:00.565483",
     "status": "completed"
    },
    "tags": []
   },
   "source": [
    "---\n",
    "\n",
    "\n",
    "\n",
    "\n",
    "*Have questions or comments? Visit the [course discussion forum](https://www.kaggle.com/learn/intro-to-deep-learning/discussion) to chat with other learners.*"
   ]
  }
 ],
 "metadata": {
  "kernelspec": {
   "display_name": "Python 3",
   "language": "python",
   "name": "python3"
  },
  "language_info": {
   "codemirror_mode": {
    "name": "ipython",
    "version": 3
   },
   "file_extension": ".py",
   "mimetype": "text/x-python",
   "name": "python",
   "nbconvert_exporter": "python",
   "pygments_lexer": "ipython3",
   "version": "3.7.12"
  },
  "papermill": {
   "default_parameters": {},
   "duration": 52.420496,
   "end_time": "2023-01-04T07:42:04.114261",
   "environment_variables": {},
   "exception": null,
   "input_path": "__notebook__.ipynb",
   "output_path": "__notebook__.ipynb",
   "parameters": {},
   "start_time": "2023-01-04T07:41:11.693765",
   "version": "2.3.4"
  }
 },
 "nbformat": 4,
 "nbformat_minor": 5
}
