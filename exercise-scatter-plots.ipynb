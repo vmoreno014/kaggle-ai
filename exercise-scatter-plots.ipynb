{
 "cells": [
  {
   "cell_type": "markdown",
   "id": "e94c2ac8",
   "metadata": {
    "papermill": {
     "duration": 0.011114,
     "end_time": "2023-01-08T23:05:46.840318",
     "exception": false,
     "start_time": "2023-01-08T23:05:46.829204",
     "status": "completed"
    },
    "tags": []
   },
   "source": [
    "**This notebook is an exercise in the [Data Visualization](https://www.kaggle.com/learn/data-visualization) course.  You can reference the tutorial at [this link](https://www.kaggle.com/alexisbcook/scatter-plots).**\n",
    "\n",
    "---\n"
   ]
  },
  {
   "cell_type": "markdown",
   "id": "bd31163e",
   "metadata": {
    "papermill": {
     "duration": 0.009425,
     "end_time": "2023-01-08T23:05:46.859940",
     "exception": false,
     "start_time": "2023-01-08T23:05:46.850515",
     "status": "completed"
    },
    "tags": []
   },
   "source": [
    "In this exercise, you will use your new knowledge to propose a solution to a real-world scenario.  To succeed, you will need to import data into Python, answer questions using the data, and generate **scatter plots** to understand patterns in the data.\n",
    "\n",
    "## Scenario\n",
    "\n",
    "You work for a major candy producer, and your goal is to write a report that your company can use to guide the design of its next product.  Soon after starting your research, you stumble across this [very interesting dataset](https://fivethirtyeight.com/features/the-ultimate-halloween-candy-power-ranking/) containing results from a fun survey to crowdsource favorite candies.\n",
    "\n",
    "## Setup\n",
    "\n",
    "Run the next cell to import and configure the Python libraries that you need to complete the exercise."
   ]
  },
  {
   "cell_type": "code",
   "execution_count": 1,
   "id": "0672cac4",
   "metadata": {
    "execution": {
     "iopub.execute_input": "2023-01-08T23:05:46.881341Z",
     "iopub.status.busy": "2023-01-08T23:05:46.880556Z",
     "iopub.status.idle": "2023-01-08T23:05:48.076873Z",
     "shell.execute_reply": "2023-01-08T23:05:48.075532Z"
    },
    "papermill": {
     "duration": 1.211101,
     "end_time": "2023-01-08T23:05:48.080851",
     "exception": false,
     "start_time": "2023-01-08T23:05:46.869750",
     "status": "completed"
    },
    "tags": []
   },
   "outputs": [
    {
     "name": "stdout",
     "output_type": "stream",
     "text": [
      "Setup Complete\n"
     ]
    }
   ],
   "source": [
    "import pandas as pd\n",
    "pd.plotting.register_matplotlib_converters()\n",
    "import matplotlib.pyplot as plt\n",
    "%matplotlib inline\n",
    "import seaborn as sns\n",
    "print(\"Setup Complete\")"
   ]
  },
  {
   "cell_type": "markdown",
   "id": "76feb9e9",
   "metadata": {
    "papermill": {
     "duration": 0.008566,
     "end_time": "2023-01-08T23:05:48.099931",
     "exception": false,
     "start_time": "2023-01-08T23:05:48.091365",
     "status": "completed"
    },
    "tags": []
   },
   "source": [
    "The questions below will give you feedback on your work. Run the following cell to set up our feedback system."
   ]
  },
  {
   "cell_type": "code",
   "execution_count": 2,
   "id": "628399e6",
   "metadata": {
    "execution": {
     "iopub.execute_input": "2023-01-08T23:05:48.121147Z",
     "iopub.status.busy": "2023-01-08T23:05:48.120748Z",
     "iopub.status.idle": "2023-01-08T23:05:48.189946Z",
     "shell.execute_reply": "2023-01-08T23:05:48.188540Z"
    },
    "papermill": {
     "duration": 0.082132,
     "end_time": "2023-01-08T23:05:48.192695",
     "exception": false,
     "start_time": "2023-01-08T23:05:48.110563",
     "status": "completed"
    },
    "tags": []
   },
   "outputs": [
    {
     "name": "stdout",
     "output_type": "stream",
     "text": [
      "Setup Complete\n"
     ]
    }
   ],
   "source": [
    "# Set up code checking\n",
    "import os\n",
    "if not os.path.exists(\"../input/candy.csv\"):\n",
    "    os.symlink(\"../input/data-for-datavis/candy.csv\", \"../input/candy.csv\") \n",
    "from learntools.core import binder\n",
    "binder.bind(globals())\n",
    "from learntools.data_viz_to_coder.ex4 import *\n",
    "print(\"Setup Complete\")"
   ]
  },
  {
   "cell_type": "markdown",
   "id": "42d23e85",
   "metadata": {
    "papermill": {
     "duration": 0.008638,
     "end_time": "2023-01-08T23:05:48.211371",
     "exception": false,
     "start_time": "2023-01-08T23:05:48.202733",
     "status": "completed"
    },
    "tags": []
   },
   "source": [
    "## Step 1: Load the Data\n",
    "\n",
    "Read the candy data file into `candy_data`.  Use the `\"id\"` column to label the rows."
   ]
  },
  {
   "cell_type": "code",
   "execution_count": 3,
   "id": "aa9d8c63",
   "metadata": {
    "execution": {
     "iopub.execute_input": "2023-01-08T23:05:48.231782Z",
     "iopub.status.busy": "2023-01-08T23:05:48.231089Z",
     "iopub.status.idle": "2023-01-08T23:05:48.247485Z",
     "shell.execute_reply": "2023-01-08T23:05:48.246430Z"
    },
    "papermill": {
     "duration": 0.028752,
     "end_time": "2023-01-08T23:05:48.249493",
     "exception": false,
     "start_time": "2023-01-08T23:05:48.220741",
     "status": "completed"
    },
    "tags": []
   },
   "outputs": [
    {
     "data": {
      "application/javascript": [
       "parent.postMessage({\"jupyterEvent\": \"custom.exercise_interaction\", \"data\": {\"outcomeType\": 1, \"valueTowardsCompletion\": 0.3333333333333333, \"interactionType\": 1, \"questionType\": 1, \"questionId\": \"1_LoadData\", \"learnToolsVersion\": \"0.3.4\", \"failureMessage\": \"\", \"exceptionClass\": \"\", \"trace\": \"\"}}, \"*\")"
      ],
      "text/plain": [
       "<IPython.core.display.Javascript object>"
      ]
     },
     "metadata": {},
     "output_type": "display_data"
    },
    {
     "data": {
      "text/markdown": [
       "<span style=\"color:#33cc33\">Correct</span>"
      ],
      "text/plain": [
       "Correct"
      ]
     },
     "metadata": {},
     "output_type": "display_data"
    }
   ],
   "source": [
    "# Path of the file to read\n",
    "candy_filepath = \"../input/candy.csv\"\n",
    "\n",
    "# Fill in the line below to read the file into a variable candy_data\n",
    "candy_data = pd.read_csv(candy_filepath, index_col='id')\n",
    "\n",
    "# Run the line below with no changes to check that you've loaded the data correctly\n",
    "step_1.check()"
   ]
  },
  {
   "cell_type": "code",
   "execution_count": 4,
   "id": "edab6179",
   "metadata": {
    "execution": {
     "iopub.execute_input": "2023-01-08T23:05:48.269700Z",
     "iopub.status.busy": "2023-01-08T23:05:48.269254Z",
     "iopub.status.idle": "2023-01-08T23:05:48.274623Z",
     "shell.execute_reply": "2023-01-08T23:05:48.273403Z"
    },
    "papermill": {
     "duration": 0.018155,
     "end_time": "2023-01-08T23:05:48.276956",
     "exception": false,
     "start_time": "2023-01-08T23:05:48.258801",
     "status": "completed"
    },
    "tags": []
   },
   "outputs": [],
   "source": [
    "# Lines below will give you a hint or solution code\n",
    "#step_1.hint()\n",
    "#step_1.solution()"
   ]
  },
  {
   "cell_type": "markdown",
   "id": "4396bfa9",
   "metadata": {
    "papermill": {
     "duration": 0.008756,
     "end_time": "2023-01-08T23:05:48.294897",
     "exception": false,
     "start_time": "2023-01-08T23:05:48.286141",
     "status": "completed"
    },
    "tags": []
   },
   "source": [
    "## Step 2: Review the data\n",
    "\n",
    "Use a Python command to print the first five rows of the data."
   ]
  },
  {
   "cell_type": "code",
   "execution_count": 5,
   "id": "7c775e01",
   "metadata": {
    "execution": {
     "iopub.execute_input": "2023-01-08T23:05:48.315184Z",
     "iopub.status.busy": "2023-01-08T23:05:48.314789Z",
     "iopub.status.idle": "2023-01-08T23:05:48.344622Z",
     "shell.execute_reply": "2023-01-08T23:05:48.343802Z"
    },
    "papermill": {
     "duration": 0.042831,
     "end_time": "2023-01-08T23:05:48.346971",
     "exception": false,
     "start_time": "2023-01-08T23:05:48.304140",
     "status": "completed"
    },
    "tags": []
   },
   "outputs": [
    {
     "data": {
      "text/html": [
       "<div>\n",
       "<style scoped>\n",
       "    .dataframe tbody tr th:only-of-type {\n",
       "        vertical-align: middle;\n",
       "    }\n",
       "\n",
       "    .dataframe tbody tr th {\n",
       "        vertical-align: top;\n",
       "    }\n",
       "\n",
       "    .dataframe thead th {\n",
       "        text-align: right;\n",
       "    }\n",
       "</style>\n",
       "<table border=\"1\" class=\"dataframe\">\n",
       "  <thead>\n",
       "    <tr style=\"text-align: right;\">\n",
       "      <th></th>\n",
       "      <th>competitorname</th>\n",
       "      <th>chocolate</th>\n",
       "      <th>fruity</th>\n",
       "      <th>caramel</th>\n",
       "      <th>peanutyalmondy</th>\n",
       "      <th>nougat</th>\n",
       "      <th>crispedricewafer</th>\n",
       "      <th>hard</th>\n",
       "      <th>bar</th>\n",
       "      <th>pluribus</th>\n",
       "      <th>sugarpercent</th>\n",
       "      <th>pricepercent</th>\n",
       "      <th>winpercent</th>\n",
       "    </tr>\n",
       "    <tr>\n",
       "      <th>id</th>\n",
       "      <th></th>\n",
       "      <th></th>\n",
       "      <th></th>\n",
       "      <th></th>\n",
       "      <th></th>\n",
       "      <th></th>\n",
       "      <th></th>\n",
       "      <th></th>\n",
       "      <th></th>\n",
       "      <th></th>\n",
       "      <th></th>\n",
       "      <th></th>\n",
       "      <th></th>\n",
       "    </tr>\n",
       "  </thead>\n",
       "  <tbody>\n",
       "    <tr>\n",
       "      <th>49</th>\n",
       "      <td>Reese's Miniatures</td>\n",
       "      <td>Yes</td>\n",
       "      <td>No</td>\n",
       "      <td>No</td>\n",
       "      <td>Yes</td>\n",
       "      <td>No</td>\n",
       "      <td>No</td>\n",
       "      <td>No</td>\n",
       "      <td>No</td>\n",
       "      <td>No</td>\n",
       "      <td>0.034</td>\n",
       "      <td>0.279</td>\n",
       "      <td>81.866257</td>\n",
       "    </tr>\n",
       "    <tr>\n",
       "      <th>10</th>\n",
       "      <td>Chiclets</td>\n",
       "      <td>No</td>\n",
       "      <td>Yes</td>\n",
       "      <td>No</td>\n",
       "      <td>No</td>\n",
       "      <td>No</td>\n",
       "      <td>No</td>\n",
       "      <td>No</td>\n",
       "      <td>No</td>\n",
       "      <td>Yes</td>\n",
       "      <td>0.046</td>\n",
       "      <td>0.325</td>\n",
       "      <td>24.524988</td>\n",
       "    </tr>\n",
       "    <tr>\n",
       "      <th>28</th>\n",
       "      <td>Lemonhead</td>\n",
       "      <td>No</td>\n",
       "      <td>Yes</td>\n",
       "      <td>No</td>\n",
       "      <td>No</td>\n",
       "      <td>No</td>\n",
       "      <td>No</td>\n",
       "      <td>Yes</td>\n",
       "      <td>No</td>\n",
       "      <td>No</td>\n",
       "      <td>0.046</td>\n",
       "      <td>0.104</td>\n",
       "      <td>39.141056</td>\n",
       "    </tr>\n",
       "    <tr>\n",
       "      <th>64</th>\n",
       "      <td>Sour Patch Kids</td>\n",
       "      <td>No</td>\n",
       "      <td>Yes</td>\n",
       "      <td>No</td>\n",
       "      <td>No</td>\n",
       "      <td>No</td>\n",
       "      <td>No</td>\n",
       "      <td>No</td>\n",
       "      <td>No</td>\n",
       "      <td>Yes</td>\n",
       "      <td>0.069</td>\n",
       "      <td>0.116</td>\n",
       "      <td>59.863998</td>\n",
       "    </tr>\n",
       "    <tr>\n",
       "      <th>65</th>\n",
       "      <td>Sour Patch Tricksters</td>\n",
       "      <td>No</td>\n",
       "      <td>Yes</td>\n",
       "      <td>No</td>\n",
       "      <td>No</td>\n",
       "      <td>No</td>\n",
       "      <td>No</td>\n",
       "      <td>No</td>\n",
       "      <td>No</td>\n",
       "      <td>Yes</td>\n",
       "      <td>0.069</td>\n",
       "      <td>0.116</td>\n",
       "      <td>52.825947</td>\n",
       "    </tr>\n",
       "    <tr>\n",
       "      <th>...</th>\n",
       "      <td>...</td>\n",
       "      <td>...</td>\n",
       "      <td>...</td>\n",
       "      <td>...</td>\n",
       "      <td>...</td>\n",
       "      <td>...</td>\n",
       "      <td>...</td>\n",
       "      <td>...</td>\n",
       "      <td>...</td>\n",
       "      <td>...</td>\n",
       "      <td>...</td>\n",
       "      <td>...</td>\n",
       "      <td>...</td>\n",
       "    </tr>\n",
       "    <tr>\n",
       "      <th>59</th>\n",
       "      <td>Skittles wildberry</td>\n",
       "      <td>No</td>\n",
       "      <td>Yes</td>\n",
       "      <td>No</td>\n",
       "      <td>No</td>\n",
       "      <td>No</td>\n",
       "      <td>No</td>\n",
       "      <td>No</td>\n",
       "      <td>No</td>\n",
       "      <td>Yes</td>\n",
       "      <td>0.941</td>\n",
       "      <td>0.220</td>\n",
       "      <td>55.103695</td>\n",
       "    </tr>\n",
       "    <tr>\n",
       "      <th>58</th>\n",
       "      <td>Skittles original</td>\n",
       "      <td>No</td>\n",
       "      <td>Yes</td>\n",
       "      <td>No</td>\n",
       "      <td>No</td>\n",
       "      <td>No</td>\n",
       "      <td>No</td>\n",
       "      <td>No</td>\n",
       "      <td>No</td>\n",
       "      <td>Yes</td>\n",
       "      <td>0.941</td>\n",
       "      <td>0.220</td>\n",
       "      <td>63.085140</td>\n",
       "    </tr>\n",
       "    <tr>\n",
       "      <th>36</th>\n",
       "      <td>Milky Way Simply Caramel</td>\n",
       "      <td>Yes</td>\n",
       "      <td>No</td>\n",
       "      <td>Yes</td>\n",
       "      <td>No</td>\n",
       "      <td>No</td>\n",
       "      <td>No</td>\n",
       "      <td>No</td>\n",
       "      <td>Yes</td>\n",
       "      <td>No</td>\n",
       "      <td>0.965</td>\n",
       "      <td>0.860</td>\n",
       "      <td>64.353340</td>\n",
       "    </tr>\n",
       "    <tr>\n",
       "      <th>68</th>\n",
       "      <td>Sugar Babies</td>\n",
       "      <td>No</td>\n",
       "      <td>No</td>\n",
       "      <td>Yes</td>\n",
       "      <td>No</td>\n",
       "      <td>No</td>\n",
       "      <td>No</td>\n",
       "      <td>No</td>\n",
       "      <td>No</td>\n",
       "      <td>Yes</td>\n",
       "      <td>0.965</td>\n",
       "      <td>0.767</td>\n",
       "      <td>33.437550</td>\n",
       "    </tr>\n",
       "    <tr>\n",
       "      <th>52</th>\n",
       "      <td>Reese's stuffed with pieces</td>\n",
       "      <td>Yes</td>\n",
       "      <td>No</td>\n",
       "      <td>No</td>\n",
       "      <td>Yes</td>\n",
       "      <td>No</td>\n",
       "      <td>No</td>\n",
       "      <td>No</td>\n",
       "      <td>No</td>\n",
       "      <td>No</td>\n",
       "      <td>0.988</td>\n",
       "      <td>0.651</td>\n",
       "      <td>72.887901</td>\n",
       "    </tr>\n",
       "  </tbody>\n",
       "</table>\n",
       "<p>83 rows × 13 columns</p>\n",
       "</div>"
      ],
      "text/plain": [
       "                 competitorname chocolate fruity caramel peanutyalmondy  \\\n",
       "id                                                                        \n",
       "49           Reese's Miniatures       Yes     No      No            Yes   \n",
       "10                     Chiclets        No    Yes      No             No   \n",
       "28                    Lemonhead        No    Yes      No             No   \n",
       "64              Sour Patch Kids        No    Yes      No             No   \n",
       "65        Sour Patch Tricksters        No    Yes      No             No   \n",
       "..                          ...       ...    ...     ...            ...   \n",
       "59           Skittles wildberry        No    Yes      No             No   \n",
       "58            Skittles original        No    Yes      No             No   \n",
       "36     Milky Way Simply Caramel       Yes     No     Yes             No   \n",
       "68                 Sugar Babies        No     No     Yes             No   \n",
       "52  Reese's stuffed with pieces       Yes     No      No            Yes   \n",
       "\n",
       "   nougat crispedricewafer hard  bar pluribus  sugarpercent  pricepercent  \\\n",
       "id                                                                          \n",
       "49     No               No   No   No       No         0.034         0.279   \n",
       "10     No               No   No   No      Yes         0.046         0.325   \n",
       "28     No               No  Yes   No       No         0.046         0.104   \n",
       "64     No               No   No   No      Yes         0.069         0.116   \n",
       "65     No               No   No   No      Yes         0.069         0.116   \n",
       "..    ...              ...  ...  ...      ...           ...           ...   \n",
       "59     No               No   No   No      Yes         0.941         0.220   \n",
       "58     No               No   No   No      Yes         0.941         0.220   \n",
       "36     No               No   No  Yes       No         0.965         0.860   \n",
       "68     No               No   No   No      Yes         0.965         0.767   \n",
       "52     No               No   No   No       No         0.988         0.651   \n",
       "\n",
       "    winpercent  \n",
       "id              \n",
       "49   81.866257  \n",
       "10   24.524988  \n",
       "28   39.141056  \n",
       "64   59.863998  \n",
       "65   52.825947  \n",
       "..         ...  \n",
       "59   55.103695  \n",
       "58   63.085140  \n",
       "36   64.353340  \n",
       "68   33.437550  \n",
       "52   72.887901  \n",
       "\n",
       "[83 rows x 13 columns]"
      ]
     },
     "execution_count": 5,
     "metadata": {},
     "output_type": "execute_result"
    }
   ],
   "source": [
    "# Print the first five rows of the data\n",
    "candy_data.sort_values(by='sugarpercent')"
   ]
  },
  {
   "cell_type": "markdown",
   "id": "61cf90ec",
   "metadata": {
    "papermill": {
     "duration": 0.010106,
     "end_time": "2023-01-08T23:05:48.367884",
     "exception": false,
     "start_time": "2023-01-08T23:05:48.357778",
     "status": "completed"
    },
    "tags": []
   },
   "source": [
    "The dataset contains 83 rows, where each corresponds to a different candy bar.  There are 13 columns:\n",
    "- `'competitorname'` contains the name of the candy bar. \n",
    "- the next **9** columns (from `'chocolate'` to `'pluribus'`) describe the candy.  For instance, rows with chocolate candies have `\"Yes\"` in the `'chocolate'` column (and candies without chocolate have `\"No\"` in the same column).\n",
    "- `'sugarpercent'` provides some indication of the amount of sugar, where higher values signify higher sugar content.\n",
    "- `'pricepercent'` shows the price per unit, relative to the other candies in the dataset.\n",
    "- `'winpercent'` is calculated from the survey results; higher values indicate that the candy was more popular with survey respondents.\n",
    "\n",
    "Use the first five rows of the data to answer the questions below."
   ]
  },
  {
   "cell_type": "code",
   "execution_count": 6,
   "id": "fefec9ab",
   "metadata": {
    "execution": {
     "iopub.execute_input": "2023-01-08T23:05:48.389617Z",
     "iopub.status.busy": "2023-01-08T23:05:48.388464Z",
     "iopub.status.idle": "2023-01-08T23:05:48.398323Z",
     "shell.execute_reply": "2023-01-08T23:05:48.397175Z"
    },
    "papermill": {
     "duration": 0.023047,
     "end_time": "2023-01-08T23:05:48.400703",
     "exception": false,
     "start_time": "2023-01-08T23:05:48.377656",
     "status": "completed"
    },
    "tags": []
   },
   "outputs": [
    {
     "data": {
      "application/javascript": [
       "parent.postMessage({\"jupyterEvent\": \"custom.exercise_interaction\", \"data\": {\"outcomeType\": 1, \"valueTowardsCompletion\": 0.3333333333333333, \"interactionType\": 1, \"questionType\": 1, \"questionId\": \"2_ReviewData\", \"learnToolsVersion\": \"0.3.4\", \"failureMessage\": \"\", \"exceptionClass\": \"\", \"trace\": \"\"}}, \"*\")"
      ],
      "text/plain": [
       "<IPython.core.display.Javascript object>"
      ]
     },
     "metadata": {},
     "output_type": "display_data"
    },
    {
     "data": {
      "text/markdown": [
       "<span style=\"color:#33cc33\">Correct</span>"
      ],
      "text/plain": [
       "Correct"
      ]
     },
     "metadata": {},
     "output_type": "display_data"
    }
   ],
   "source": [
    "# Fill in the line below: Which candy was more popular with survey respondents:\n",
    "# '3 Musketeers' or 'Almond Joy'?  (Please enclose your answer in single quotes.)\n",
    "\n",
    "# candy_data[candy_data['winpercent'] > 80]\n",
    "more_popular = '3 Musketeers'\n",
    "#most_popular = \"Reese's Peanut Butter cup\"\n",
    "\n",
    "# Fill in the line below: Which candy has higher sugar content: 'Air Heads'\n",
    "# or 'Baby Ruth'? (Please enclose your answer in single quotes.)\n",
    "\n",
    "more_sugar = 'Air Heads'\n",
    "# candy_data.sort_values(by='sugarpercent')\n",
    "#most_sugar = \"Reese's stuffed with pieces\"\n",
    "\n",
    "# Check your answers\n",
    "step_2.check()"
   ]
  },
  {
   "cell_type": "code",
   "execution_count": 7,
   "id": "5d87088c",
   "metadata": {
    "execution": {
     "iopub.execute_input": "2023-01-08T23:05:48.423031Z",
     "iopub.status.busy": "2023-01-08T23:05:48.422098Z",
     "iopub.status.idle": "2023-01-08T23:05:48.426954Z",
     "shell.execute_reply": "2023-01-08T23:05:48.426128Z"
    },
    "papermill": {
     "duration": 0.018643,
     "end_time": "2023-01-08T23:05:48.429245",
     "exception": false,
     "start_time": "2023-01-08T23:05:48.410602",
     "status": "completed"
    },
    "tags": []
   },
   "outputs": [],
   "source": [
    "# Lines below will give you a hint or solution code\n",
    "# step_2.hint()\n",
    "# step_2.solution()"
   ]
  },
  {
   "cell_type": "markdown",
   "id": "293a4b4f",
   "metadata": {
    "papermill": {
     "duration": 0.009673,
     "end_time": "2023-01-08T23:05:48.449023",
     "exception": false,
     "start_time": "2023-01-08T23:05:48.439350",
     "status": "completed"
    },
    "tags": []
   },
   "source": [
    "## Step 3: The role of sugar\n",
    "\n",
    "Do people tend to prefer candies with higher sugar content?  \n",
    "\n",
    "#### Part A\n",
    "\n",
    "Create a scatter plot that shows the relationship between `'sugarpercent'` (on the horizontal x-axis) and `'winpercent'` (on the vertical y-axis).  _Don't add a regression line just yet -- you'll do that in the next step!_"
   ]
  },
  {
   "cell_type": "code",
   "execution_count": 8,
   "id": "5676406e",
   "metadata": {
    "execution": {
     "iopub.execute_input": "2023-01-08T23:05:48.471669Z",
     "iopub.status.busy": "2023-01-08T23:05:48.470704Z",
     "iopub.status.idle": "2023-01-08T23:05:48.757432Z",
     "shell.execute_reply": "2023-01-08T23:05:48.756206Z"
    },
    "papermill": {
     "duration": 0.302163,
     "end_time": "2023-01-08T23:05:48.761215",
     "exception": false,
     "start_time": "2023-01-08T23:05:48.459052",
     "status": "completed"
    },
    "tags": []
   },
   "outputs": [
    {
     "data": {
      "application/javascript": [
       "parent.postMessage({\"jupyterEvent\": \"custom.exercise_interaction\", \"data\": {\"outcomeType\": 1, \"valueTowardsCompletion\": 0.3333333333333333, \"interactionType\": 1, \"questionType\": 2, \"questionId\": \"3.1_PlotBlueScatter\", \"learnToolsVersion\": \"0.3.4\", \"failureMessage\": \"\", \"exceptionClass\": \"\", \"trace\": \"\"}}, \"*\")"
      ],
      "text/plain": [
       "<IPython.core.display.Javascript object>"
      ]
     },
     "metadata": {},
     "output_type": "display_data"
    },
    {
     "data": {
      "text/markdown": [
       "<span style=\"color:#33cc33\">Correct</span>"
      ],
      "text/plain": [
       "Correct"
      ]
     },
     "metadata": {},
     "output_type": "display_data"
    },
    {
     "data": {
      "image/png": "[encoded data removed]",
      "text/plain": [
       "<Figure size 432x288 with 1 Axes>"
      ]
     },
     "metadata": {
      "needs_background": "light"
     },
     "output_type": "display_data"
    }
   ],
   "source": [
    "# Scatter plot showing the relationship between 'sugarpercent' and 'winpercent'\n",
    "sns.scatterplot(x=candy_data['sugarpercent'], y=candy_data['winpercent'])\n",
    "\n",
    "# Check your answer\n",
    "step_3.a.check()"
   ]
  },
  {
   "cell_type": "code",
   "execution_count": 9,
   "id": "d5a71b6d",
   "metadata": {
    "execution": {
     "iopub.execute_input": "2023-01-08T23:05:48.796216Z",
     "iopub.status.busy": "2023-01-08T23:05:48.795194Z",
     "iopub.status.idle": "2023-01-08T23:05:48.802666Z",
     "shell.execute_reply": "2023-01-08T23:05:48.800503Z"
    },
    "jupyter": {
     "source_hidden": true
    },
    "papermill": {
     "duration": 0.028979,
     "end_time": "2023-01-08T23:05:48.805887",
     "exception": false,
     "start_time": "2023-01-08T23:05:48.776908",
     "status": "completed"
    },
    "tags": []
   },
   "outputs": [],
   "source": [
    "# Lines below will give you a hint or solution code\n",
    "#step_3.a.hint()\n",
    "#step_3.a.solution_plot()"
   ]
  },
  {
   "cell_type": "markdown",
   "id": "719e7deb",
   "metadata": {
    "papermill": {
     "duration": 0.010281,
     "end_time": "2023-01-08T23:05:48.828131",
     "exception": false,
     "start_time": "2023-01-08T23:05:48.817850",
     "status": "completed"
    },
    "tags": []
   },
   "source": [
    "#### Part B\n",
    "\n",
    "Does the scatter plot show a **strong** correlation between the two variables?  If so, are candies with more sugar relatively more or less popular with the survey respondents?"
   ]
  },
  {
   "cell_type": "code",
   "execution_count": 10,
   "id": "55e4bb6e",
   "metadata": {
    "execution": {
     "iopub.execute_input": "2023-01-08T23:05:48.855897Z",
     "iopub.status.busy": "2023-01-08T23:05:48.855495Z",
     "iopub.status.idle": "2023-01-08T23:05:48.865207Z",
     "shell.execute_reply": "2023-01-08T23:05:48.863861Z"
    },
    "papermill": {
     "duration": 0.024899,
     "end_time": "2023-01-08T23:05:48.868010",
     "exception": false,
     "start_time": "2023-01-08T23:05:48.843111",
     "status": "completed"
    },
    "tags": []
   },
   "outputs": [
    {
     "data": {
      "application/javascript": [
       "parent.postMessage({\"jupyterEvent\": \"custom.exercise_interaction\", \"data\": {\"interactionType\": 2, \"questionType\": 4, \"questionId\": \"3.2_ThinkBlueScatter\", \"learnToolsVersion\": \"0.3.4\", \"valueTowardsCompletion\": 0.0, \"failureMessage\": \"\", \"exceptionClass\": \"\", \"trace\": \"\", \"outcomeType\": 4}}, \"*\")"
      ],
      "text/plain": [
       "<IPython.core.display.Javascript object>"
      ]
     },
     "metadata": {},
     "output_type": "display_data"
    },
    {
     "data": {
      "text/markdown": [
       "<span style=\"color:#3366cc\">Hint:</span> Compare candies with higher sugar content (on the right side of the chart) to candies with lower sugar content (on the left side of the chart). Is one group clearly more popular than the other?"
      ],
      "text/plain": [
       "Hint: Compare candies with higher sugar content (on the right side of the chart) to candies with lower sugar content (on the left side of the chart). Is one group clearly more popular than the other?"
      ]
     },
     "metadata": {},
     "output_type": "display_data"
    }
   ],
   "source": [
    "step_3.b.hint()"
   ]
  },
  {
   "cell_type": "code",
   "execution_count": 11,
   "id": "4f8f606f",
   "metadata": {
    "execution": {
     "iopub.execute_input": "2023-01-08T23:05:48.892749Z",
     "iopub.status.busy": "2023-01-08T23:05:48.892326Z",
     "iopub.status.idle": "2023-01-08T23:05:48.900329Z",
     "shell.execute_reply": "2023-01-08T23:05:48.899218Z"
    },
    "papermill": {
     "duration": 0.022564,
     "end_time": "2023-01-08T23:05:48.902529",
     "exception": false,
     "start_time": "2023-01-08T23:05:48.879965",
     "status": "completed"
    },
    "tags": []
   },
   "outputs": [
    {
     "data": {
      "application/javascript": [
       "parent.postMessage({\"jupyterEvent\": \"custom.exercise_interaction\", \"data\": {\"interactionType\": 3, \"questionType\": 4, \"questionId\": \"3.2_ThinkBlueScatter\", \"learnToolsVersion\": \"0.3.4\", \"valueTowardsCompletion\": 0.0, \"failureMessage\": \"\", \"exceptionClass\": \"\", \"trace\": \"\", \"outcomeType\": 4}}, \"*\")"
      ],
      "text/plain": [
       "<IPython.core.display.Javascript object>"
      ]
     },
     "metadata": {},
     "output_type": "display_data"
    },
    {
     "data": {
      "text/markdown": [
       "<span style=\"color:#33cc99\">Solution:</span> The scatter plot does not show a strong correlation between the two variables. Since there is no clear relationship between the two variables, this tells us that sugar content does not play a strong role in candy popularity."
      ],
      "text/plain": [
       "Solution: The scatter plot does not show a strong correlation between the two variables. Since there is no clear relationship between the two variables, this tells us that sugar content does not play a strong role in candy popularity."
      ]
     },
     "metadata": {},
     "output_type": "display_data"
    }
   ],
   "source": [
    "# Check your answer (Run this code cell to receive credit!)\n",
    "step_3.b.solution()"
   ]
  },
  {
   "cell_type": "markdown",
   "id": "a715a2ec",
   "metadata": {
    "papermill": {
     "duration": 0.010756,
     "end_time": "2023-01-08T23:05:48.924956",
     "exception": false,
     "start_time": "2023-01-08T23:05:48.914200",
     "status": "completed"
    },
    "tags": []
   },
   "source": [
    "## Step 4: Take a closer look\n",
    "\n",
    "#### Part A\n",
    "\n",
    "Create the same scatter plot you created in **Step 3**, but now with a regression line!"
   ]
  },
  {
   "cell_type": "code",
   "execution_count": 12,
   "id": "eaa60580",
   "metadata": {
    "execution": {
     "iopub.execute_input": "2023-01-08T23:05:48.949925Z",
     "iopub.status.busy": "2023-01-08T23:05:48.949187Z",
     "iopub.status.idle": "2023-01-08T23:05:49.295417Z",
     "shell.execute_reply": "2023-01-08T23:05:49.294218Z"
    },
    "papermill": {
     "duration": 0.361786,
     "end_time": "2023-01-08T23:05:49.298006",
     "exception": false,
     "start_time": "2023-01-08T23:05:48.936220",
     "status": "completed"
    },
    "tags": []
   },
   "outputs": [
    {
     "data": {
      "application/javascript": [
       "parent.postMessage({\"jupyterEvent\": \"custom.exercise_interaction\", \"data\": {\"outcomeType\": 1, \"valueTowardsCompletion\": 0.3333333333333333, \"interactionType\": 1, \"questionType\": 2, \"questionId\": \"4.1_PlotBlueReg\", \"learnToolsVersion\": \"0.3.4\", \"failureMessage\": \"\", \"exceptionClass\": \"\", \"trace\": \"\"}}, \"*\")"
      ],
      "text/plain": [
       "<IPython.core.display.Javascript object>"
      ]
     },
     "metadata": {},
     "output_type": "display_data"
    },
    {
     "data": {
      "text/markdown": [
       "<span style=\"color:#33cc33\">Correct</span>"
      ],
      "text/plain": [
       "Correct"
      ]
     },
     "metadata": {},
     "output_type": "display_data"
    },
    {
     "data": {
      "image/png": "[encoded data removed]",
      "text/plain": [
       "<Figure size 432x288 with 1 Axes>"
      ]
     },
     "metadata": {
      "needs_background": "light"
     },
     "output_type": "display_data"
    }
   ],
   "source": [
    "# Scatter plot w/ regression line showing the relationship between 'sugarpercent' and 'winpercent'\n",
    "sns.regplot(x=candy_data['sugarpercent'], y=candy_data['winpercent'])\n",
    "\n",
    "\n",
    "\n",
    "# Check your answer\n",
    "step_4.a.check()"
   ]
  },
  {
   "cell_type": "code",
   "execution_count": 13,
   "id": "6bac036e",
   "metadata": {
    "execution": {
     "iopub.execute_input": "2023-01-08T23:05:49.323540Z",
     "iopub.status.busy": "2023-01-08T23:05:49.323115Z",
     "iopub.status.idle": "2023-01-08T23:05:49.328307Z",
     "shell.execute_reply": "2023-01-08T23:05:49.327152Z"
    },
    "papermill": {
     "duration": 0.021011,
     "end_time": "2023-01-08T23:05:49.330771",
     "exception": false,
     "start_time": "2023-01-08T23:05:49.309760",
     "status": "completed"
    },
    "tags": []
   },
   "outputs": [],
   "source": [
    "# Lines below will give you a hint or solution code\n",
    "#step_4.a.hint()\n",
    "#step_4.a.solution_plot()"
   ]
  },
  {
   "cell_type": "markdown",
   "id": "110dc05f",
   "metadata": {
    "papermill": {
     "duration": 0.011223,
     "end_time": "2023-01-08T23:05:49.354104",
     "exception": false,
     "start_time": "2023-01-08T23:05:49.342881",
     "status": "completed"
    },
    "tags": []
   },
   "source": [
    "#### Part B\n",
    "\n",
    "According to the plot above, is there a **slight** correlation between `'winpercent'` and `'sugarpercent'`?  What does this tell you about the candy that people tend to prefer?"
   ]
  },
  {
   "cell_type": "code",
   "execution_count": 14,
   "id": "9e63eb19",
   "metadata": {
    "execution": {
     "iopub.execute_input": "2023-01-08T23:05:49.379261Z",
     "iopub.status.busy": "2023-01-08T23:05:49.378539Z",
     "iopub.status.idle": "2023-01-08T23:05:49.383796Z",
     "shell.execute_reply": "2023-01-08T23:05:49.382748Z"
    },
    "papermill": {
     "duration": 0.020344,
     "end_time": "2023-01-08T23:05:49.386061",
     "exception": false,
     "start_time": "2023-01-08T23:05:49.365717",
     "status": "completed"
    },
    "tags": []
   },
   "outputs": [],
   "source": [
    "#step_4.b.hint()"
   ]
  },
  {
   "cell_type": "code",
   "execution_count": 15,
   "id": "6f6a8453",
   "metadata": {
    "execution": {
     "iopub.execute_input": "2023-01-08T23:05:49.411534Z",
     "iopub.status.busy": "2023-01-08T23:05:49.410514Z",
     "iopub.status.idle": "2023-01-08T23:05:49.420224Z",
     "shell.execute_reply": "2023-01-08T23:05:49.419098Z"
    },
    "papermill": {
     "duration": 0.024964,
     "end_time": "2023-01-08T23:05:49.422686",
     "exception": false,
     "start_time": "2023-01-08T23:05:49.397722",
     "status": "completed"
    },
    "tags": []
   },
   "outputs": [
    {
     "data": {
      "application/javascript": [
       "parent.postMessage({\"jupyterEvent\": \"custom.exercise_interaction\", \"data\": {\"interactionType\": 3, \"questionType\": 4, \"questionId\": \"4.2_ThinkBlueReg\", \"learnToolsVersion\": \"0.3.4\", \"valueTowardsCompletion\": 0.0, \"failureMessage\": \"\", \"exceptionClass\": \"\", \"trace\": \"\", \"outcomeType\": 4}}, \"*\")"
      ],
      "text/plain": [
       "<IPython.core.display.Javascript object>"
      ]
     },
     "metadata": {},
     "output_type": "display_data"
    },
    {
     "data": {
      "text/markdown": [
       "<span style=\"color:#33cc99\">Solution:</span> Since the regression line has a slightly positive slope, this tells us that there is a slightly positive correlation between `'winpercent'` and `'sugarpercent'`. Thus, people have a slight preference for candies containing relatively more sugar."
      ],
      "text/plain": [
       "Solution: Since the regression line has a slightly positive slope, this tells us that there is a slightly positive correlation between `'winpercent'` and `'sugarpercent'`. Thus, people have a slight preference for candies containing relatively more sugar."
      ]
     },
     "metadata": {},
     "output_type": "display_data"
    }
   ],
   "source": [
    "# Check your answer (Run this code cell to receive credit!)\n",
    "step_4.b.solution()"
   ]
  },
  {
   "cell_type": "markdown",
   "id": "5e90c135",
   "metadata": {
    "papermill": {
     "duration": 0.011572,
     "end_time": "2023-01-08T23:05:49.446370",
     "exception": false,
     "start_time": "2023-01-08T23:05:49.434798",
     "status": "completed"
    },
    "tags": []
   },
   "source": [
    "## Step 5: Chocolate!\n",
    "\n",
    "In the code cell below, create a scatter plot to show the relationship between `'pricepercent'` (on the horizontal x-axis) and `'winpercent'` (on the vertical y-axis). Use the `'chocolate'` column to color-code the points.  _Don't add any regression lines just yet -- you'll do that in the next step!_"
   ]
  },
  {
   "cell_type": "code",
   "execution_count": 16,
   "id": "393ae627",
   "metadata": {
    "execution": {
     "iopub.execute_input": "2023-01-08T23:05:49.471915Z",
     "iopub.status.busy": "2023-01-08T23:05:49.471522Z",
     "iopub.status.idle": "2023-01-08T23:05:49.679288Z",
     "shell.execute_reply": "2023-01-08T23:05:49.678315Z"
    },
    "papermill": {
     "duration": 0.223477,
     "end_time": "2023-01-08T23:05:49.681687",
     "exception": false,
     "start_time": "2023-01-08T23:05:49.458210",
     "status": "completed"
    },
    "tags": []
   },
   "outputs": [
    {
     "data": {
      "application/javascript": [
       "parent.postMessage({\"jupyterEvent\": \"custom.exercise_interaction\", \"data\": {\"outcomeType\": 1, \"valueTowardsCompletion\": 0.3333333333333333, \"interactionType\": 1, \"questionType\": 2, \"questionId\": \"5_ColorScatter\", \"learnToolsVersion\": \"0.3.4\", \"failureMessage\": \"\", \"exceptionClass\": \"\", \"trace\": \"\"}}, \"*\")"
      ],
      "text/plain": [
       "<IPython.core.display.Javascript object>"
      ]
     },
     "metadata": {},
     "output_type": "display_data"
    },
    {
     "data": {
      "text/markdown": [
       "<span style=\"color:#33cc33\">Correct</span>"
      ],
      "text/plain": [
       "Correct"
      ]
     },
     "metadata": {},
     "output_type": "display_data"
    },
    {
     "data": {
      "image/png": "[encoded data removed]",
      "text/plain": [
       "<Figure size 432x288 with 1 Axes>"
      ]
     },
     "metadata": {
      "needs_background": "light"
     },
     "output_type": "display_data"
    }
   ],
   "source": [
    "# Scatter plot showing the relationship between 'pricepercent', 'winpercent', and 'chocolate'\n",
    "sns.scatterplot(x=candy_data['pricepercent'], y=candy_data['chocolate'])\n",
    "\n",
    "# Check your answer\n",
    "step_5.check()"
   ]
  },
  {
   "cell_type": "code",
   "execution_count": 17,
   "id": "acd9db7f",
   "metadata": {
    "execution": {
     "iopub.execute_input": "2023-01-08T23:05:49.709167Z",
     "iopub.status.busy": "2023-01-08T23:05:49.708126Z",
     "iopub.status.idle": "2023-01-08T23:05:49.713398Z",
     "shell.execute_reply": "2023-01-08T23:05:49.712207Z"
    },
    "papermill": {
     "duration": 0.022866,
     "end_time": "2023-01-08T23:05:49.717071",
     "exception": false,
     "start_time": "2023-01-08T23:05:49.694205",
     "status": "completed"
    },
    "tags": []
   },
   "outputs": [],
   "source": [
    "# Lines below will give you a hint or solution code\n",
    "#step_5.hint()\n",
    "#step_5.solution_plot()"
   ]
  },
  {
   "cell_type": "markdown",
   "id": "bc127eb7",
   "metadata": {
    "papermill": {
     "duration": 0.017431,
     "end_time": "2023-01-08T23:05:49.751222",
     "exception": false,
     "start_time": "2023-01-08T23:05:49.733791",
     "status": "completed"
    },
    "tags": []
   },
   "source": [
    "Can you see any interesting patterns in the scatter plot?  We'll investigate this plot further  by adding regression lines in the next step!\n",
    "\n",
    "## Step 6: Investigate chocolate\n",
    "\n",
    "#### Part A\n",
    "\n",
    "Create the same scatter plot you created in **Step 5**, but now with two regression lines, corresponding to (1) chocolate candies and (2) candies without chocolate."
   ]
  },
  {
   "cell_type": "code",
   "execution_count": 18,
   "id": "0c720266",
   "metadata": {
    "execution": {
     "iopub.execute_input": "2023-01-08T23:05:49.779534Z",
     "iopub.status.busy": "2023-01-08T23:05:49.778706Z",
     "iopub.status.idle": "2023-01-08T23:05:50.452433Z",
     "shell.execute_reply": "2023-01-08T23:05:50.451532Z"
    },
    "papermill": {
     "duration": 0.690915,
     "end_time": "2023-01-08T23:05:50.455039",
     "exception": false,
     "start_time": "2023-01-08T23:05:49.764124",
     "status": "completed"
    },
    "tags": []
   },
   "outputs": [
    {
     "data": {
      "application/javascript": [
       "parent.postMessage({\"jupyterEvent\": \"custom.exercise_interaction\", \"data\": {\"outcomeType\": 1, \"valueTowardsCompletion\": 0.3333333333333333, \"interactionType\": 1, \"questionType\": 2, \"questionId\": \"6.1_PlotColorReg\", \"learnToolsVersion\": \"0.3.4\", \"failureMessage\": \"\", \"exceptionClass\": \"\", \"trace\": \"\"}}, \"*\")"
      ],
      "text/plain": [
       "<IPython.core.display.Javascript object>"
      ]
     },
     "metadata": {},
     "output_type": "display_data"
    },
    {
     "data": {
      "text/markdown": [
       "<span style=\"color:#33cc33\">Correct</span>"
      ],
      "text/plain": [
       "Correct"
      ]
     },
     "metadata": {},
     "output_type": "display_data"
    },
    {
     "data": {
      "image/png": "[encoded data removed]",
      "text/plain": [
       "<Figure size 416.375x360 with 1 Axes>"
      ]
     },
     "metadata": {
      "needs_background": "light"
     },
     "output_type": "display_data"
    }
   ],
   "source": [
    "# Color-coded scatter plot w/ regression lines\n",
    "sns.lmplot(x=\"pricepercent\", y=\"winpercent\", hue=\"chocolate\", data=candy_data)\n",
    "\n",
    "# Check your answer\n",
    "step_6.a.check()"
   ]
  },
  {
   "cell_type": "code",
   "execution_count": 19,
   "id": "69d895a8",
   "metadata": {
    "execution": {
     "iopub.execute_input": "2023-01-08T23:05:50.483990Z",
     "iopub.status.busy": "2023-01-08T23:05:50.483121Z",
     "iopub.status.idle": "2023-01-08T23:05:51.151244Z",
     "shell.execute_reply": "2023-01-08T23:05:51.150003Z"
    },
    "papermill": {
     "duration": 0.685613,
     "end_time": "2023-01-08T23:05:51.153705",
     "exception": false,
     "start_time": "2023-01-08T23:05:50.468092",
     "status": "completed"
    },
    "tags": []
   },
   "outputs": [
    {
     "data": {
      "application/javascript": [
       "parent.postMessage({\"jupyterEvent\": \"custom.exercise_interaction\", \"data\": {\"interactionType\": 3, \"questionType\": 2, \"questionId\": \"6.1_PlotColorReg\", \"learnToolsVersion\": \"0.3.4\", \"valueTowardsCompletion\": 0.0, \"failureMessage\": \"\", \"exceptionClass\": \"\", \"trace\": \"\", \"outcomeType\": 4}}, \"*\")"
      ],
      "text/plain": [
       "<IPython.core.display.Javascript object>"
      ]
     },
     "metadata": {},
     "output_type": "display_data"
    },
    {
     "data": {
      "text/markdown": [
       "<span style=\"color:#33cc99\">Solution:</span> \n",
       "```python\n",
       "# Color-coded scatter plot w/ regression lines\n",
       "sns.lmplot(x=\"pricepercent\", y=\"winpercent\", hue=\"chocolate\", data=candy_data)\n",
       "\n",
       "```"
      ],
      "text/plain": [
       "Solution: \n",
       "```python\n",
       "# Color-coded scatter plot w/ regression lines\n",
       "sns.lmplot(x=\"pricepercent\", y=\"winpercent\", hue=\"chocolate\", data=candy_data)\n",
       "\n",
       "```"
      ]
     },
     "metadata": {},
     "output_type": "display_data"
    },
    {
     "data": {
      "image/png": "[encoded data removed]",
      "text/plain": [
       "<Figure size 416.375x360 with 1 Axes>"
      ]
     },
     "metadata": {
      "needs_background": "light"
     },
     "output_type": "display_data"
    }
   ],
   "source": [
    "# Lines below will give you a hint or solution code\n",
    "#step_6.a.hint()\n",
    "step_6.a.solution_plot()"
   ]
  },
  {
   "cell_type": "markdown",
   "id": "c7035dc4",
   "metadata": {
    "papermill": {
     "duration": 0.013214,
     "end_time": "2023-01-08T23:05:51.180641",
     "exception": false,
     "start_time": "2023-01-08T23:05:51.167427",
     "status": "completed"
    },
    "tags": []
   },
   "source": [
    "#### Part B\n",
    "\n",
    "Using the regression lines, what conclusions can you draw about the effects of chocolate and price on candy popularity?"
   ]
  },
  {
   "cell_type": "code",
   "execution_count": 20,
   "id": "802b1866",
   "metadata": {
    "execution": {
     "iopub.execute_input": "2023-01-08T23:05:51.209498Z",
     "iopub.status.busy": "2023-01-08T23:05:51.209030Z",
     "iopub.status.idle": "2023-01-08T23:05:51.214284Z",
     "shell.execute_reply": "2023-01-08T23:05:51.212978Z"
    },
    "papermill": {
     "duration": 0.02246,
     "end_time": "2023-01-08T23:05:51.216593",
     "exception": false,
     "start_time": "2023-01-08T23:05:51.194133",
     "status": "completed"
    },
    "tags": []
   },
   "outputs": [],
   "source": [
    "#step_6.b.hint()"
   ]
  },
  {
   "cell_type": "code",
   "execution_count": 21,
   "id": "c8482367",
   "metadata": {
    "execution": {
     "iopub.execute_input": "2023-01-08T23:05:51.245832Z",
     "iopub.status.busy": "2023-01-08T23:05:51.245360Z",
     "iopub.status.idle": "2023-01-08T23:05:51.254651Z",
     "shell.execute_reply": "2023-01-08T23:05:51.253262Z"
    },
    "papermill": {
     "duration": 0.026769,
     "end_time": "2023-01-08T23:05:51.257031",
     "exception": false,
     "start_time": "2023-01-08T23:05:51.230262",
     "status": "completed"
    },
    "tags": []
   },
   "outputs": [
    {
     "data": {
      "application/javascript": [
       "parent.postMessage({\"jupyterEvent\": \"custom.exercise_interaction\", \"data\": {\"interactionType\": 3, \"questionType\": 4, \"questionId\": \"6.2_ThinkColorReg\", \"learnToolsVersion\": \"0.3.4\", \"valueTowardsCompletion\": 0.0, \"failureMessage\": \"\", \"exceptionClass\": \"\", \"trace\": \"\", \"outcomeType\": 4}}, \"*\")"
      ],
      "text/plain": [
       "<IPython.core.display.Javascript object>"
      ]
     },
     "metadata": {},
     "output_type": "display_data"
    },
    {
     "data": {
      "text/markdown": [
       "<span style=\"color:#33cc99\">Solution:</span> We'll begin with the regression line for chocolate candies. Since this line has a slightly positive slope, we can say that more expensive chocolate candies tend to be more popular (than relatively cheaper chocolate candies).  Likewise, since the regression line for candies without chocolate has a negative slope, we can say that if candies don't contain chocolate, they tend to be more popular when they are cheaper.  One important note, however, is that the dataset is quite small -- so we shouldn't invest too much trust in these patterns!  To inspire more confidence in the results, we should add more candies to the dataset."
      ],
      "text/plain": [
       "Solution: We'll begin with the regression line for chocolate candies. Since this line has a slightly positive slope, we can say that more expensive chocolate candies tend to be more popular (than relatively cheaper chocolate candies).  Likewise, since the regression line for candies without chocolate has a negative slope, we can say that if candies don't contain chocolate, they tend to be more popular when they are cheaper.  One important note, however, is that the dataset is quite small -- so we shouldn't invest too much trust in these patterns!  To inspire more confidence in the results, we should add more candies to the dataset."
      ]
     },
     "metadata": {},
     "output_type": "display_data"
    }
   ],
   "source": [
    "# Check your answer (Run this code cell to receive credit!)\n",
    "step_6.b.solution()"
   ]
  },
  {
   "cell_type": "markdown",
   "id": "ac367863",
   "metadata": {
    "papermill": {
     "duration": 0.013402,
     "end_time": "2023-01-08T23:05:51.284191",
     "exception": false,
     "start_time": "2023-01-08T23:05:51.270789",
     "status": "completed"
    },
    "tags": []
   },
   "source": [
    "## Step 7: Everybody loves chocolate.\n",
    "\n",
    "#### Part A\n",
    "\n",
    "Create a categorical scatter plot to highlight the relationship between `'chocolate'` and `'winpercent'`.  Put `'chocolate'` on the (horizontal) x-axis, and `'winpercent'` on the (vertical) y-axis."
   ]
  },
  {
   "cell_type": "code",
   "execution_count": 22,
   "id": "ddf6ca66",
   "metadata": {
    "execution": {
     "iopub.execute_input": "2023-01-08T23:05:51.314110Z",
     "iopub.status.busy": "2023-01-08T23:05:51.313676Z",
     "iopub.status.idle": "2023-01-08T23:05:51.546982Z",
     "shell.execute_reply": "2023-01-08T23:05:51.546088Z"
    },
    "papermill": {
     "duration": 0.251148,
     "end_time": "2023-01-08T23:05:51.549345",
     "exception": false,
     "start_time": "2023-01-08T23:05:51.298197",
     "status": "completed"
    },
    "tags": []
   },
   "outputs": [
    {
     "data": {
      "application/javascript": [
       "parent.postMessage({\"jupyterEvent\": \"custom.exercise_interaction\", \"data\": {\"outcomeType\": 1, \"valueTowardsCompletion\": 0.3333333333333333, \"interactionType\": 1, \"questionType\": 2, \"questionId\": \"7.1_PlotSwarm\", \"learnToolsVersion\": \"0.3.4\", \"failureMessage\": \"\", \"exceptionClass\": \"\", \"trace\": \"\"}}, \"*\")"
      ],
      "text/plain": [
       "<IPython.core.display.Javascript object>"
      ]
     },
     "metadata": {},
     "output_type": "display_data"
    },
    {
     "data": {
      "text/markdown": [
       "<span style=\"color:#33cc33\">Correct</span>"
      ],
      "text/plain": [
       "Correct"
      ]
     },
     "metadata": {},
     "output_type": "display_data"
    },
    {
     "data": {
      "image/png": "[encoded data removed]",
      "text/plain": [
       "<Figure size 432x288 with 1 Axes>"
      ]
     },
     "metadata": {
      "needs_background": "light"
     },
     "output_type": "display_data"
    }
   ],
   "source": [
    "# Scatter plot showing the relationship between 'chocolate' and 'winpercent'\n",
    "sns.swarmplot(x=candy_data['chocolate'], y=candy_data['winpercent'])\n",
    "\n",
    "# Check your answer\n",
    "step_7.a.check()"
   ]
  },
  {
   "cell_type": "code",
   "execution_count": 23,
   "id": "6a39b529",
   "metadata": {
    "execution": {
     "iopub.execute_input": "2023-01-08T23:05:51.580729Z",
     "iopub.status.busy": "2023-01-08T23:05:51.580261Z",
     "iopub.status.idle": "2023-01-08T23:05:51.585081Z",
     "shell.execute_reply": "2023-01-08T23:05:51.583691Z"
    },
    "papermill": {
     "duration": 0.023694,
     "end_time": "2023-01-08T23:05:51.587595",
     "exception": false,
     "start_time": "2023-01-08T23:05:51.563901",
     "status": "completed"
    },
    "tags": []
   },
   "outputs": [],
   "source": [
    "# Lines below will give you a hint or solution code\n",
    "#step_7.a.hint()\n",
    "#step_7.a.solution_plot()"
   ]
  },
  {
   "cell_type": "markdown",
   "id": "735873a0",
   "metadata": {
    "papermill": {
     "duration": 0.013968,
     "end_time": "2023-01-08T23:05:51.616014",
     "exception": false,
     "start_time": "2023-01-08T23:05:51.602046",
     "status": "completed"
    },
    "tags": []
   },
   "source": [
    "#### Part B\n",
    "\n",
    "You decide to dedicate a section of your report to the fact that chocolate candies tend to be more popular than candies without chocolate.  Which plot is more appropriate to tell this story: the plot from **Step 6**, or the plot from **Step 7**?"
   ]
  },
  {
   "cell_type": "code",
   "execution_count": 24,
   "id": "293b7454",
   "metadata": {
    "execution": {
     "iopub.execute_input": "2023-01-08T23:05:51.646363Z",
     "iopub.status.busy": "2023-01-08T23:05:51.645926Z",
     "iopub.status.idle": "2023-01-08T23:05:51.651354Z",
     "shell.execute_reply": "2023-01-08T23:05:51.650130Z"
    },
    "papermill": {
     "duration": 0.02351,
     "end_time": "2023-01-08T23:05:51.653784",
     "exception": false,
     "start_time": "2023-01-08T23:05:51.630274",
     "status": "completed"
    },
    "tags": []
   },
   "outputs": [],
   "source": [
    "#step_7.b.hint()"
   ]
  },
  {
   "cell_type": "code",
   "execution_count": 25,
   "id": "1e90ea91",
   "metadata": {
    "execution": {
     "iopub.execute_input": "2023-01-08T23:05:51.685002Z",
     "iopub.status.busy": "2023-01-08T23:05:51.684568Z",
     "iopub.status.idle": "2023-01-08T23:05:51.692757Z",
     "shell.execute_reply": "2023-01-08T23:05:51.691833Z"
    },
    "papermill": {
     "duration": 0.026048,
     "end_time": "2023-01-08T23:05:51.694731",
     "exception": false,
     "start_time": "2023-01-08T23:05:51.668683",
     "status": "completed"
    },
    "tags": []
   },
   "outputs": [
    {
     "data": {
      "application/javascript": [
       "parent.postMessage({\"jupyterEvent\": \"custom.exercise_interaction\", \"data\": {\"interactionType\": 3, \"questionType\": 4, \"questionId\": \"7.2_ThinkSwarm\", \"learnToolsVersion\": \"0.3.4\", \"valueTowardsCompletion\": 0.0, \"failureMessage\": \"\", \"exceptionClass\": \"\", \"trace\": \"\", \"outcomeType\": 4}}, \"*\")"
      ],
      "text/plain": [
       "<IPython.core.display.Javascript object>"
      ]
     },
     "metadata": {},
     "output_type": "display_data"
    },
    {
     "data": {
      "text/markdown": [
       "<span style=\"color:#33cc99\">Solution:</span> In this case, the categorical scatter plot from **Step 7** is the more appropriate plot. While both plots tell the desired story, the plot from **Step 6** conveys far more information that could distract from the main point."
      ],
      "text/plain": [
       "Solution: In this case, the categorical scatter plot from **Step 7** is the more appropriate plot. While both plots tell the desired story, the plot from **Step 6** conveys far more information that could distract from the main point."
      ]
     },
     "metadata": {},
     "output_type": "display_data"
    }
   ],
   "source": [
    "# Check your answer (Run this code cell to receive credit!)\n",
    "step_7.b.solution()"
   ]
  },
  {
   "cell_type": "markdown",
   "id": "18424e12",
   "metadata": {
    "papermill": {
     "duration": 0.014135,
     "end_time": "2023-01-08T23:05:51.723416",
     "exception": false,
     "start_time": "2023-01-08T23:05:51.709281",
     "status": "completed"
    },
    "tags": []
   },
   "source": [
    "## Keep going\n",
    "\n",
    "Explore **[histograms and density plots](https://www.kaggle.com/alexisbcook/distributions)**."
   ]
  },
  {
   "cell_type": "markdown",
   "id": "9a7cf239",
   "metadata": {
    "papermill": {
     "duration": 0.014182,
     "end_time": "2023-01-08T23:05:51.752097",
     "exception": false,
     "start_time": "2023-01-08T23:05:51.737915",
     "status": "completed"
    },
    "tags": []
   },
   "source": [
    "---\n",
    "\n",
    "\n",
    "\n",
    "\n",
    "*Have questions or comments? Visit the [course discussion forum](https://www.kaggle.com/learn/data-visualization/discussion) to chat with other learners.*"
   ]
  }
 ],
 "metadata": {
  "kernelspec": {
   "display_name": "Python 3",
   "language": "python",
   "name": "python3"
  },
  "language_info": {
   "codemirror_mode": {
    "name": "ipython",
    "version": 3
   },
   "file_extension": ".py",
   "mimetype": "text/x-python",
   "name": "python",
   "nbconvert_exporter": "python",
   "pygments_lexer": "ipython3",
   "version": "3.7.12"
  },
  "papermill": {
   "default_parameters": {},
   "duration": 14.95728,
   "end_time": "2023-01-08T23:05:52.588894",
   "environment_variables": {},
   "exception": null,
   "input_path": "__notebook__.ipynb",
   "output_path": "__notebook__.ipynb",
   "parameters": {},
   "start_time": "2023-01-08T23:05:37.631614",
   "version": "2.3.4"
  }
 },
 "nbformat": 4,
 "nbformat_minor": 5
}
