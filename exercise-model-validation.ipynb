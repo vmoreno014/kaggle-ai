{
 "cells": [
  {
   "cell_type": "markdown",
   "id": "aabe9737",
   "metadata": {
    "papermill": {
     "duration": 0.006095,
     "end_time": "2023-01-04T04:41:28.947539",
     "exception": false,
     "start_time": "2023-01-04T04:41:28.941444",
     "status": "completed"
    },
    "tags": []
   },
   "source": [
    "**This notebook is an exercise in the [Introduction to Machine Learning](https://www.kaggle.com/learn/intro-to-machine-learning) course.  You can reference the tutorial at [this link](https://www.kaggle.com/dansbecker/model-validation).**\n",
    "\n",
    "---\n"
   ]
  },
  {
   "cell_type": "markdown",
   "id": "c4878140",
   "metadata": {
    "papermill": {
     "duration": 0.004549,
     "end_time": "2023-01-04T04:41:28.957128",
     "exception": false,
     "start_time": "2023-01-04T04:41:28.952579",
     "status": "completed"
    },
    "tags": []
   },
   "source": [
    "## Recap\n",
    "You've built a model. In this exercise you will test how good your model is.\n",
    "\n",
    "Run the cell below to set up your coding environment where the previous exercise left off."
   ]
  },
  {
   "cell_type": "code",
   "execution_count": 1,
   "id": "f1272dbb",
   "metadata": {
    "execution": {
     "iopub.execute_input": "2023-01-04T04:41:28.969957Z",
     "iopub.status.busy": "2023-01-04T04:41:28.968975Z",
     "iopub.status.idle": "2023-01-04T04:41:30.427246Z",
     "shell.execute_reply": "2023-01-04T04:41:30.425681Z"
    },
    "papermill": {
     "duration": 1.468248,
     "end_time": "2023-01-04T04:41:30.430346",
     "exception": false,
     "start_time": "2023-01-04T04:41:28.962098",
     "status": "completed"
    },
    "tags": []
   },
   "outputs": [
    {
     "name": "stdout",
     "output_type": "stream",
     "text": [
      "First in-sample predictions: [208500. 181500. 223500. 140000. 250000.]\n",
      "Actual target values for those homes: [208500, 181500, 223500, 140000, 250000]\n",
      "Setup Complete\n"
     ]
    }
   ],
   "source": [
    "# Code you have previously used to load data\n",
    "import pandas as pd\n",
    "from sklearn.tree import DecisionTreeRegressor\n",
    "\n",
    "# Path of the file to read\n",
    "iowa_file_path = '../input/home-data-for-ml-course/train.csv'\n",
    "\n",
    "home_data = pd.read_csv(iowa_file_path)\n",
    "y = home_data.SalePrice\n",
    "feature_columns = ['LotArea', 'YearBuilt', '1stFlrSF', '2ndFlrSF', 'FullBath', 'BedroomAbvGr', 'TotRmsAbvGrd']\n",
    "X = home_data[feature_columns]\n",
    "\n",
    "# Specify Model\n",
    "iowa_model = DecisionTreeRegressor()\n",
    "# Fit Model\n",
    "iowa_model.fit(X, y)\n",
    "\n",
    "print(\"First in-sample predictions:\", iowa_model.predict(X.head()))\n",
    "print(\"Actual target values for those homes:\", y.head().tolist())\n",
    "\n",
    "# Set up code checking\n",
    "from learntools.core import binder\n",
    "binder.bind(globals())\n",
    "from learntools.machine_learning.ex4 import *\n",
    "print(\"Setup Complete\")"
   ]
  },
  {
   "cell_type": "markdown",
   "id": "dc7d824a",
   "metadata": {
    "papermill": {
     "duration": 0.005117,
     "end_time": "2023-01-04T04:41:30.440610",
     "exception": false,
     "start_time": "2023-01-04T04:41:30.435493",
     "status": "completed"
    },
    "tags": []
   },
   "source": [
    "# Exercises\n",
    "\n",
    "## Step 1: Split Your Data\n",
    "Use the `train_test_split` function to split up your data.\n",
    "\n",
    "Give it the argument `random_state=1` so the `check` functions know what to expect when verifying your code.\n",
    "\n",
    "Recall, your features are loaded in the DataFrame **X** and your target is loaded in **y**.\n"
   ]
  },
  {
   "cell_type": "code",
   "execution_count": 2,
   "id": "b48c21d2",
   "metadata": {
    "execution": {
     "iopub.execute_input": "2023-01-04T04:41:30.453253Z",
     "iopub.status.busy": "2023-01-04T04:41:30.452390Z",
     "iopub.status.idle": "2023-01-04T04:41:30.469786Z",
     "shell.execute_reply": "2023-01-04T04:41:30.468556Z"
    },
    "papermill": {
     "duration": 0.026421,
     "end_time": "2023-01-04T04:41:30.472226",
     "exception": false,
     "start_time": "2023-01-04T04:41:30.445805",
     "status": "completed"
    },
    "tags": []
   },
   "outputs": [
    {
     "data": {
      "application/javascript": [
       "parent.postMessage({\"jupyterEvent\": \"custom.exercise_interaction\", \"data\": {\"outcomeType\": 1, \"valueTowardsCompletion\": 0.25, \"interactionType\": 1, \"questionType\": 2, \"questionId\": \"1_SplitData\", \"learnToolsVersion\": \"0.3.4\", \"failureMessage\": \"\", \"exceptionClass\": \"\", \"trace\": \"\"}}, \"*\")"
      ],
      "text/plain": [
       "<IPython.core.display.Javascript object>"
      ]
     },
     "metadata": {},
     "output_type": "display_data"
    },
    {
     "data": {
      "text/markdown": [
       "<span style=\"color:#33cc33\">Correct</span>"
      ],
      "text/plain": [
       "Correct"
      ]
     },
     "metadata": {},
     "output_type": "display_data"
    }
   ],
   "source": [
    "# Import the train_test_split function and uncomment\n",
    "from sklearn.model_selection import train_test_split\n",
    "\n",
    "# fill in and uncomment\n",
    "train_X, val_X, train_y, val_y = train_test_split(X, y, random_state=1)\n",
    "\n",
    "# Check your answer\n",
    "step_1.check()"
   ]
  },
  {
   "cell_type": "code",
   "execution_count": 3,
   "id": "27dcd3a1",
   "metadata": {
    "execution": {
     "iopub.execute_input": "2023-01-04T04:41:30.485715Z",
     "iopub.status.busy": "2023-01-04T04:41:30.484831Z",
     "iopub.status.idle": "2023-01-04T04:41:30.490126Z",
     "shell.execute_reply": "2023-01-04T04:41:30.488794Z"
    },
    "papermill": {
     "duration": 0.015059,
     "end_time": "2023-01-04T04:41:30.492687",
     "exception": false,
     "start_time": "2023-01-04T04:41:30.477628",
     "status": "completed"
    },
    "tags": []
   },
   "outputs": [],
   "source": [
    "# The lines below will show you a hint or the solution.\n",
    "# step_1.hint() \n",
    "# step_1.solution()\n"
   ]
  },
  {
   "cell_type": "markdown",
   "id": "10b172fc",
   "metadata": {
    "papermill": {
     "duration": 0.005255,
     "end_time": "2023-01-04T04:41:30.503539",
     "exception": false,
     "start_time": "2023-01-04T04:41:30.498284",
     "status": "completed"
    },
    "tags": []
   },
   "source": [
    "## Step 2: Specify and Fit the Model\n",
    "\n",
    "Create a `DecisionTreeRegressor` model and fit it to the relevant data.\n",
    "Set `random_state` to 1 again when creating the model."
   ]
  },
  {
   "cell_type": "code",
   "execution_count": 4,
   "id": "38c7793a",
   "metadata": {
    "execution": {
     "iopub.execute_input": "2023-01-04T04:41:30.516126Z",
     "iopub.status.busy": "2023-01-04T04:41:30.515655Z",
     "iopub.status.idle": "2023-01-04T04:41:30.543600Z",
     "shell.execute_reply": "2023-01-04T04:41:30.542181Z"
    },
    "papermill": {
     "duration": 0.037196,
     "end_time": "2023-01-04T04:41:30.545972",
     "exception": false,
     "start_time": "2023-01-04T04:41:30.508776",
     "status": "completed"
    },
    "tags": []
   },
   "outputs": [
    {
     "name": "stdout",
     "output_type": "stream",
     "text": [
      "[186500. 184000. 130000.  92000. 164500. 220000. 335000. 144152. 215000.\n",
      " 262000.]\n",
      "[186500. 184000. 130000.  92000. 164500. 220000. 335000. 144152. 215000.\n",
      " 262000.]\n"
     ]
    },
    {
     "data": {
      "application/javascript": [
       "parent.postMessage({\"jupyterEvent\": \"custom.exercise_interaction\", \"data\": {\"outcomeType\": 1, \"valueTowardsCompletion\": 0.25, \"interactionType\": 1, \"questionType\": 2, \"questionId\": \"2_FitModelWithTrain\", \"learnToolsVersion\": \"0.3.4\", \"failureMessage\": \"\", \"exceptionClass\": \"\", \"trace\": \"\"}}, \"*\")"
      ],
      "text/plain": [
       "<IPython.core.display.Javascript object>"
      ]
     },
     "metadata": {},
     "output_type": "display_data"
    },
    {
     "data": {
      "text/markdown": [
       "<span style=\"color:#33cc33\">Correct</span>"
      ],
      "text/plain": [
       "Correct"
      ]
     },
     "metadata": {},
     "output_type": "display_data"
    }
   ],
   "source": [
    "# You imported DecisionTreeRegressor in your last exercise\n",
    "# and that code has been copied to the setup code above. So, no need to\n",
    "# import it again\n",
    "\n",
    "# Specify the model\n",
    "iowa_model = DecisionTreeRegressor(random_state=1)\n",
    "\n",
    "# Fit iowa_model with the training data.\n",
    "iowa_model.fit(train_X, train_y)\n",
    "\n",
    "# Check your answer\n",
    "step_2.check()"
   ]
  },
  {
   "cell_type": "code",
   "execution_count": 5,
   "id": "e48e4de4",
   "metadata": {
    "execution": {
     "iopub.execute_input": "2023-01-04T04:41:30.560404Z",
     "iopub.status.busy": "2023-01-04T04:41:30.559993Z",
     "iopub.status.idle": "2023-01-04T04:41:30.564904Z",
     "shell.execute_reply": "2023-01-04T04:41:30.563694Z"
    },
    "papermill": {
     "duration": 0.014583,
     "end_time": "2023-01-04T04:41:30.567499",
     "exception": false,
     "start_time": "2023-01-04T04:41:30.552916",
     "status": "completed"
    },
    "tags": []
   },
   "outputs": [],
   "source": [
    "#step_2.hint()\n",
    "#step_2.solution()"
   ]
  },
  {
   "cell_type": "markdown",
   "id": "8b2882e4",
   "metadata": {
    "papermill": {
     "duration": 0.005058,
     "end_time": "2023-01-04T04:41:30.579710",
     "exception": false,
     "start_time": "2023-01-04T04:41:30.574652",
     "status": "completed"
    },
    "tags": []
   },
   "source": [
    "## Step 3: Make Predictions with Validation data\n"
   ]
  },
  {
   "cell_type": "code",
   "execution_count": 6,
   "id": "fade9b1c",
   "metadata": {
    "execution": {
     "iopub.execute_input": "2023-01-04T04:41:30.592815Z",
     "iopub.status.busy": "2023-01-04T04:41:30.592051Z",
     "iopub.status.idle": "2023-01-04T04:41:30.607245Z",
     "shell.execute_reply": "2023-01-04T04:41:30.605841Z"
    },
    "papermill": {
     "duration": 0.024534,
     "end_time": "2023-01-04T04:41:30.609787",
     "exception": false,
     "start_time": "2023-01-04T04:41:30.585253",
     "status": "completed"
    },
    "tags": []
   },
   "outputs": [
    {
     "data": {
      "application/javascript": [
       "parent.postMessage({\"jupyterEvent\": \"custom.exercise_interaction\", \"data\": {\"outcomeType\": 1, \"valueTowardsCompletion\": 0.25, \"interactionType\": 1, \"questionType\": 2, \"questionId\": \"3_ValPreds\", \"learnToolsVersion\": \"0.3.4\", \"failureMessage\": \"\", \"exceptionClass\": \"\", \"trace\": \"\"}}, \"*\")"
      ],
      "text/plain": [
       "<IPython.core.display.Javascript object>"
      ]
     },
     "metadata": {},
     "output_type": "display_data"
    },
    {
     "data": {
      "text/markdown": [
       "<span style=\"color:#33cc33\">Correct</span>"
      ],
      "text/plain": [
       "Correct"
      ]
     },
     "metadata": {},
     "output_type": "display_data"
    }
   ],
   "source": [
    "# Predict with all validation observations\n",
    "val_predictions = iowa_model.predict(val_X)\n",
    "\n",
    "# Check your answer\n",
    "step_3.check()"
   ]
  },
  {
   "cell_type": "code",
   "execution_count": 7,
   "id": "97b0916b",
   "metadata": {
    "execution": {
     "iopub.execute_input": "2023-01-04T04:41:30.623622Z",
     "iopub.status.busy": "2023-01-04T04:41:30.622682Z",
     "iopub.status.idle": "2023-01-04T04:41:30.627881Z",
     "shell.execute_reply": "2023-01-04T04:41:30.626657Z"
    },
    "papermill": {
     "duration": 0.014823,
     "end_time": "2023-01-04T04:41:30.630383",
     "exception": false,
     "start_time": "2023-01-04T04:41:30.615560",
     "status": "completed"
    },
    "tags": []
   },
   "outputs": [],
   "source": [
    "# step_3.hint()\n",
    "# step_3.solution()"
   ]
  },
  {
   "cell_type": "markdown",
   "id": "2ddc5d78",
   "metadata": {
    "papermill": {
     "duration": 0.00549,
     "end_time": "2023-01-04T04:41:30.641650",
     "exception": false,
     "start_time": "2023-01-04T04:41:30.636160",
     "status": "completed"
    },
    "tags": []
   },
   "source": [
    "Inspect your predictions and actual values from validation data."
   ]
  },
  {
   "cell_type": "code",
   "execution_count": 8,
   "id": "d576df2d",
   "metadata": {
    "execution": {
     "iopub.execute_input": "2023-01-04T04:41:30.654716Z",
     "iopub.status.busy": "2023-01-04T04:41:30.654317Z",
     "iopub.status.idle": "2023-01-04T04:41:30.659931Z",
     "shell.execute_reply": "2023-01-04T04:41:30.658651Z"
    },
    "papermill": {
     "duration": 0.014965,
     "end_time": "2023-01-04T04:41:30.662312",
     "exception": false,
     "start_time": "2023-01-04T04:41:30.647347",
     "status": "completed"
    },
    "tags": []
   },
   "outputs": [],
   "source": [
    "import numpy as np"
   ]
  },
  {
   "cell_type": "code",
   "execution_count": 9,
   "id": "da6710ec",
   "metadata": {
    "execution": {
     "iopub.execute_input": "2023-01-04T04:41:30.676077Z",
     "iopub.status.busy": "2023-01-04T04:41:30.675250Z",
     "iopub.status.idle": "2023-01-04T04:41:30.683297Z",
     "shell.execute_reply": "2023-01-04T04:41:30.681647Z"
    },
    "papermill": {
     "duration": 0.018833,
     "end_time": "2023-01-04T04:41:30.687026",
     "exception": false,
     "start_time": "2023-01-04T04:41:30.668193",
     "status": "completed"
    },
    "tags": []
   },
   "outputs": [
    {
     "name": "stdout",
     "output_type": "stream",
     "text": [
      "[186500. 184000. 130000.  92000. 164500.]\n",
      "258     231500\n",
      "267     179500\n",
      "288     122000\n",
      "649      84500\n",
      "1233    142000\n",
      "Name: SalePrice, dtype: int64\n"
     ]
    }
   ],
   "source": [
    "# print the top few validation predictions\n",
    "print(val_predictions[:5])\n",
    "# print the top few actual prices from validation data\n",
    "print(val_y[:5])"
   ]
  },
  {
   "cell_type": "markdown",
   "id": "3202d82f",
   "metadata": {
    "papermill": {
     "duration": 0.005746,
     "end_time": "2023-01-04T04:41:30.699061",
     "exception": false,
     "start_time": "2023-01-04T04:41:30.693315",
     "status": "completed"
    },
    "tags": []
   },
   "source": [
    "What do you notice that is different from what you saw with in-sample predictions (which are printed after the top code cell in this page).\n",
    "\n",
    "Do you remember why validation predictions differ from in-sample (or training) predictions? This is an important idea from the last lesson.\n",
    "\n",
    "## Step 4: Calculate the Mean Absolute Error in Validation Data\n"
   ]
  },
  {
   "cell_type": "code",
   "execution_count": 10,
   "id": "bbf5601f",
   "metadata": {
    "execution": {
     "iopub.execute_input": "2023-01-04T04:41:30.712761Z",
     "iopub.status.busy": "2023-01-04T04:41:30.712359Z",
     "iopub.status.idle": "2023-01-04T04:41:30.723711Z",
     "shell.execute_reply": "2023-01-04T04:41:30.722638Z"
    },
    "papermill": {
     "duration": 0.020727,
     "end_time": "2023-01-04T04:41:30.725970",
     "exception": false,
     "start_time": "2023-01-04T04:41:30.705243",
     "status": "completed"
    },
    "tags": []
   },
   "outputs": [
    {
     "name": "stdout",
     "output_type": "stream",
     "text": [
      "29652.931506849316\n"
     ]
    },
    {
     "data": {
      "application/javascript": [
       "parent.postMessage({\"jupyterEvent\": \"custom.exercise_interaction\", \"data\": {\"outcomeType\": 1, \"valueTowardsCompletion\": 0.25, \"interactionType\": 1, \"questionType\": 1, \"questionId\": \"4_MAE\", \"learnToolsVersion\": \"0.3.4\", \"failureMessage\": \"\", \"exceptionClass\": \"\", \"trace\": \"\"}}, \"*\")"
      ],
      "text/plain": [
       "<IPython.core.display.Javascript object>"
      ]
     },
     "metadata": {},
     "output_type": "display_data"
    },
    {
     "data": {
      "text/markdown": [
       "<span style=\"color:#33cc33\">Correct</span>"
      ],
      "text/plain": [
       "Correct"
      ]
     },
     "metadata": {},
     "output_type": "display_data"
    }
   ],
   "source": [
    "from sklearn.metrics import mean_absolute_error\n",
    "val_mae = mean_absolute_error(val_y, val_predictions)\n",
    "\n",
    "# uncomment following line to see the validation_mae\n",
    "print(val_mae)\n",
    "\n",
    "# Check your answer\n",
    "step_4.check()"
   ]
  },
  {
   "cell_type": "code",
   "execution_count": 11,
   "id": "ededecf2",
   "metadata": {
    "execution": {
     "iopub.execute_input": "2023-01-04T04:41:30.739982Z",
     "iopub.status.busy": "2023-01-04T04:41:30.739563Z",
     "iopub.status.idle": "2023-01-04T04:41:30.743844Z",
     "shell.execute_reply": "2023-01-04T04:41:30.742668Z"
    },
    "papermill": {
     "duration": 0.014048,
     "end_time": "2023-01-04T04:41:30.746057",
     "exception": false,
     "start_time": "2023-01-04T04:41:30.732009",
     "status": "completed"
    },
    "tags": []
   },
   "outputs": [],
   "source": [
    "# step_4.hint()\n",
    "#step_4.solution()"
   ]
  },
  {
   "cell_type": "markdown",
   "id": "b527ffb8",
   "metadata": {
    "papermill": {
     "duration": 0.005857,
     "end_time": "2023-01-04T04:41:30.758196",
     "exception": false,
     "start_time": "2023-01-04T04:41:30.752339",
     "status": "completed"
    },
    "tags": []
   },
   "source": [
    "Is that MAE good?  There isn't a general rule for what values are good that applies across applications. But you'll see how to use (and improve) this number in the next step.\n",
    "\n",
    "# Keep Going\n",
    "\n",
    "You are ready for **[Underfitting and Overfitting](https://www.kaggle.com/dansbecker/underfitting-and-overfitting).**\n"
   ]
  },
  {
   "cell_type": "markdown",
   "id": "670654f5",
   "metadata": {
    "papermill": {
     "duration": 0.005809,
     "end_time": "2023-01-04T04:41:30.770405",
     "exception": false,
     "start_time": "2023-01-04T04:41:30.764596",
     "status": "completed"
    },
    "tags": []
   },
   "source": [
    "---\n",
    "\n",
    "\n",
    "\n",
    "\n",
    "*Have questions or comments? Visit the [course discussion forum](https://www.kaggle.com/learn/intro-to-machine-learning/discussion) to chat with other learners.*"
   ]
  }
 ],
 "metadata": {
  "kernelspec": {
   "display_name": "Python 3",
   "language": "python",
   "name": "python3"
  },
  "language_info": {
   "codemirror_mode": {
    "name": "ipython",
    "version": 3
   },
   "file_extension": ".py",
   "mimetype": "text/x-python",
   "name": "python",
   "nbconvert_exporter": "python",
   "pygments_lexer": "ipython3",
   "version": "3.7.12"
  },
  "papermill": {
   "default_parameters": {},
   "duration": 15.207964,
   "end_time": "2023-01-04T04:41:33.506337",
   "environment_variables": {},
   "exception": null,
   "input_path": "__notebook__.ipynb",
   "output_path": "__notebook__.ipynb",
   "parameters": {},
   "start_time": "2023-01-04T04:41:18.298373",
   "version": "2.3.4"
  }
 },
 "nbformat": 4,
 "nbformat_minor": 5
}
