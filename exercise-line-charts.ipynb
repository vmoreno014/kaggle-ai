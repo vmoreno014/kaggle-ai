{
 "cells": [
  {
   "cell_type": "markdown",
   "id": "292d0183",
   "metadata": {
    "papermill": {
     "duration": 0.010587,
     "end_time": "2023-01-08T18:56:53.184545",
     "exception": false,
     "start_time": "2023-01-08T18:56:53.173958",
     "status": "completed"
    },
    "tags": []
   },
   "source": [
    "**This notebook is an exercise in the [Data Visualization](https://www.kaggle.com/learn/data-visualization) course.  You can reference the tutorial at [this link](https://www.kaggle.com/alexisbcook/line-charts).**\n",
    "\n",
    "---\n"
   ]
  },
  {
   "cell_type": "markdown",
   "id": "eab32481",
   "metadata": {
    "papermill": {
     "duration": 0.008322,
     "end_time": "2023-01-08T18:56:53.201719",
     "exception": false,
     "start_time": "2023-01-08T18:56:53.193397",
     "status": "completed"
    },
    "tags": []
   },
   "source": [
    "In this exercise, you will use your new knowledge to propose a solution to a real-world scenario. To succeed, you will need to import data into Python, answer questions using the data, and generate **line charts** to understand patterns in the data.\n",
    "\n",
    "## Scenario\n",
    "\n",
    "You have recently been hired to manage the museums in the City of Los Angeles. Your first project focuses on the four museums pictured in the images below.\n",
    "\n",
    "![ex1_museums](https://i.imgur.com/pFYL8J1.png)\n",
    "\n",
    "You will leverage data from the Los Angeles [Data Portal](https://data.lacity.org/) that tracks monthly visitors to each museum.  \n",
    "\n",
    "![ex1_xlsx](https://i.imgur.com/mGWYlym.png)\n",
    "\n",
    "## Setup\n",
    "\n",
    "Run the next cell to import and configure the Python libraries that you need to complete the exercise."
   ]
  },
  {
   "cell_type": "code",
   "execution_count": 1,
   "id": "4cea362d",
   "metadata": {
    "execution": {
     "iopub.execute_input": "2023-01-08T18:56:53.219048Z",
     "iopub.status.busy": "2023-01-08T18:56:53.218086Z",
     "iopub.status.idle": "2023-01-08T18:56:54.473045Z",
     "shell.execute_reply": "2023-01-08T18:56:54.471829Z"
    },
    "papermill": {
     "duration": 1.266421,
     "end_time": "2023-01-08T18:56:54.476321",
     "exception": false,
     "start_time": "2023-01-08T18:56:53.209900",
     "status": "completed"
    },
    "tags": []
   },
   "outputs": [
    {
     "name": "stdout",
     "output_type": "stream",
     "text": [
      "Setup Complete\n"
     ]
    }
   ],
   "source": [
    "import pandas as pd\n",
    "pd.plotting.register_matplotlib_converters()\n",
    "import matplotlib.pyplot as plt\n",
    "%matplotlib inline\n",
    "import seaborn as sns\n",
    "print(\"Setup Complete\")"
   ]
  },
  {
   "cell_type": "markdown",
   "id": "d1ce7464",
   "metadata": {
    "papermill": {
     "duration": 0.005706,
     "end_time": "2023-01-08T18:56:54.488080",
     "exception": false,
     "start_time": "2023-01-08T18:56:54.482374",
     "status": "completed"
    },
    "tags": []
   },
   "source": [
    "The questions below will give you feedback on your work. Run the following cell to set up the feedback system."
   ]
  },
  {
   "cell_type": "code",
   "execution_count": 2,
   "id": "d7eb52bc",
   "metadata": {
    "execution": {
     "iopub.execute_input": "2023-01-08T18:56:54.502348Z",
     "iopub.status.busy": "2023-01-08T18:56:54.501385Z",
     "iopub.status.idle": "2023-01-08T18:56:54.580948Z",
     "shell.execute_reply": "2023-01-08T18:56:54.579423Z"
    },
    "papermill": {
     "duration": 0.090355,
     "end_time": "2023-01-08T18:56:54.584279",
     "exception": false,
     "start_time": "2023-01-08T18:56:54.493924",
     "status": "completed"
    },
    "tags": []
   },
   "outputs": [
    {
     "name": "stdout",
     "output_type": "stream",
     "text": [
      "Setup Complete\n"
     ]
    }
   ],
   "source": [
    "# Set up code checking\n",
    "import os\n",
    "if not os.path.exists(\"../input/museum_visitors.csv\"):\n",
    "    os.symlink(\"../input/data-for-datavis/museum_visitors.csv\", \"../input/museum_visitors.csv\") \n",
    "from learntools.core import binder\n",
    "binder.bind(globals())\n",
    "from learntools.data_viz_to_coder.ex2 import *\n",
    "print(\"Setup Complete\")"
   ]
  },
  {
   "cell_type": "markdown",
   "id": "ef62a286",
   "metadata": {
    "papermill": {
     "duration": 0.006155,
     "end_time": "2023-01-08T18:56:54.597022",
     "exception": false,
     "start_time": "2023-01-08T18:56:54.590867",
     "status": "completed"
    },
    "tags": []
   },
   "source": [
    "## Step 1: Load the data\n",
    "\n",
    "Your first assignment is to read the LA Museum Visitors data file into `museum_data`.  Note that:\n",
    "- The filepath to the dataset is stored as `museum_filepath`.  Please **do not** change the provided value of the filepath.\n",
    "- The name of the column to use as row labels is `\"Date\"`.  (This can be seen in cell A1 when the file is opened in Excel.)\n",
    "\n",
    "To help with this, you may find it useful to revisit some relevant code from the tutorial, which we have pasted below:\n",
    "\n",
    "```python\n",
    "# Path of the file to read\n",
    "spotify_filepath = \"../input/spotify.csv\"\n",
    "\n",
    "# Read the file into a variable spotify_data\n",
    "spotify_data = pd.read_csv(spotify_filepath, index_col=\"Date\", parse_dates=True)\n",
    "```\n",
    "\n",
    "The code you need to write now looks very similar!"
   ]
  },
  {
   "cell_type": "code",
   "execution_count": 3,
   "id": "e092b17a",
   "metadata": {
    "execution": {
     "iopub.execute_input": "2023-01-08T18:56:54.611056Z",
     "iopub.status.busy": "2023-01-08T18:56:54.610616Z",
     "iopub.status.idle": "2023-01-08T18:56:54.628671Z",
     "shell.execute_reply": "2023-01-08T18:56:54.627488Z"
    },
    "papermill": {
     "duration": 0.028246,
     "end_time": "2023-01-08T18:56:54.631312",
     "exception": false,
     "start_time": "2023-01-08T18:56:54.603066",
     "status": "completed"
    },
    "tags": []
   },
   "outputs": [
    {
     "data": {
      "application/javascript": [
       "parent.postMessage({\"jupyterEvent\": \"custom.exercise_interaction\", \"data\": {\"outcomeType\": 1, \"valueTowardsCompletion\": 0.3333333333333333, \"interactionType\": 1, \"questionType\": 1, \"questionId\": \"1_LoadMuseumData\", \"learnToolsVersion\": \"0.3.4\", \"failureMessage\": \"\", \"exceptionClass\": \"\", \"trace\": \"\"}}, \"*\")"
      ],
      "text/plain": [
       "<IPython.core.display.Javascript object>"
      ]
     },
     "metadata": {},
     "output_type": "display_data"
    },
    {
     "data": {
      "text/markdown": [
       "<span style=\"color:#33cc33\">Correct</span>"
      ],
      "text/plain": [
       "Correct"
      ]
     },
     "metadata": {},
     "output_type": "display_data"
    }
   ],
   "source": [
    "# Path of the file to read\n",
    "museum_filepath = \"../input/museum_visitors.csv\"\n",
    "\n",
    "# Fill in the line below to read the file into a variable museum_data\n",
    "museum_data = pd.read_csv(museum_filepath, index_col=\"Date\", parse_dates=True)\n",
    "\n",
    "# Run the line below with no changes to check that you've loaded the data correctly\n",
    "step_1.check()"
   ]
  },
  {
   "cell_type": "code",
   "execution_count": 4,
   "id": "34c391d6",
   "metadata": {
    "execution": {
     "iopub.execute_input": "2023-01-08T18:56:54.647639Z",
     "iopub.status.busy": "2023-01-08T18:56:54.647163Z",
     "iopub.status.idle": "2023-01-08T18:56:54.655643Z",
     "shell.execute_reply": "2023-01-08T18:56:54.654763Z"
    },
    "papermill": {
     "duration": 0.020159,
     "end_time": "2023-01-08T18:56:54.657776",
     "exception": false,
     "start_time": "2023-01-08T18:56:54.637617",
     "status": "completed"
    },
    "tags": []
   },
   "outputs": [
    {
     "data": {
      "application/javascript": [
       "parent.postMessage({\"jupyterEvent\": \"custom.exercise_interaction\", \"data\": {\"interactionType\": 2, \"questionType\": 1, \"questionId\": \"1_LoadMuseumData\", \"learnToolsVersion\": \"0.3.4\", \"valueTowardsCompletion\": 0.0, \"failureMessage\": \"\", \"exceptionClass\": \"\", \"trace\": \"\", \"outcomeType\": 4}}, \"*\")"
      ],
      "text/plain": [
       "<IPython.core.display.Javascript object>"
      ]
     },
     "metadata": {},
     "output_type": "display_data"
    },
    {
     "data": {
      "text/markdown": [
       "<span style=\"color:#3366cc\">Hint:</span> Use `pd.read_csv`, and follow it with **three** pieces of text that are enclosed in parentheses and separated by commas.  (1) The filepath for the dataset is provided in `museum_filepath`.  (2) Use the `\"Date\"` column to label the rows. (3) Make sure that the row labels are recognized as dates."
      ],
      "text/plain": [
       "Hint: Use `pd.read_csv`, and follow it with **three** pieces of text that are enclosed in parentheses and separated by commas.  (1) The filepath for the dataset is provided in `museum_filepath`.  (2) Use the `\"Date\"` column to label the rows. (3) Make sure that the row labels are recognized as dates."
      ]
     },
     "metadata": {},
     "output_type": "display_data"
    }
   ],
   "source": [
    "# Uncomment the line below to receive a hint\n",
    "step_1.hint()\n",
    "# Uncomment the line below to see the solution\n",
    "#step_1.solution()"
   ]
  },
  {
   "cell_type": "markdown",
   "id": "d7f94c65",
   "metadata": {
    "papermill": {
     "duration": 0.006089,
     "end_time": "2023-01-08T18:56:54.670307",
     "exception": false,
     "start_time": "2023-01-08T18:56:54.664218",
     "status": "completed"
    },
    "tags": []
   },
   "source": [
    "## Step 2: Review the data\n",
    "\n",
    "Use a Python command to print the last 5 rows of the data."
   ]
  },
  {
   "cell_type": "code",
   "execution_count": 5,
   "id": "d08d6c4c",
   "metadata": {
    "execution": {
     "iopub.execute_input": "2023-01-08T18:56:54.685042Z",
     "iopub.status.busy": "2023-01-08T18:56:54.684601Z",
     "iopub.status.idle": "2023-01-08T18:56:54.701144Z",
     "shell.execute_reply": "2023-01-08T18:56:54.699869Z"
    },
    "papermill": {
     "duration": 0.02732,
     "end_time": "2023-01-08T18:56:54.704059",
     "exception": false,
     "start_time": "2023-01-08T18:56:54.676739",
     "status": "completed"
    },
    "tags": []
   },
   "outputs": [
    {
     "data": {
      "text/html": [
       "<div>\n",
       "<style scoped>\n",
       "    .dataframe tbody tr th:only-of-type {\n",
       "        vertical-align: middle;\n",
       "    }\n",
       "\n",
       "    .dataframe tbody tr th {\n",
       "        vertical-align: top;\n",
       "    }\n",
       "\n",
       "    .dataframe thead th {\n",
       "        text-align: right;\n",
       "    }\n",
       "</style>\n",
       "<table border=\"1\" class=\"dataframe\">\n",
       "  <thead>\n",
       "    <tr style=\"text-align: right;\">\n",
       "      <th></th>\n",
       "      <th>Avila Adobe</th>\n",
       "      <th>Firehouse Museum</th>\n",
       "      <th>Chinese American Museum</th>\n",
       "      <th>America Tropical Interpretive Center</th>\n",
       "    </tr>\n",
       "    <tr>\n",
       "      <th>Date</th>\n",
       "      <th></th>\n",
       "      <th></th>\n",
       "      <th></th>\n",
       "      <th></th>\n",
       "    </tr>\n",
       "  </thead>\n",
       "  <tbody>\n",
       "    <tr>\n",
       "      <th>2018-07-01</th>\n",
       "      <td>23136</td>\n",
       "      <td>4191</td>\n",
       "      <td>2620</td>\n",
       "      <td>4718</td>\n",
       "    </tr>\n",
       "    <tr>\n",
       "      <th>2018-08-01</th>\n",
       "      <td>20815</td>\n",
       "      <td>4866</td>\n",
       "      <td>2409</td>\n",
       "      <td>3891</td>\n",
       "    </tr>\n",
       "    <tr>\n",
       "      <th>2018-09-01</th>\n",
       "      <td>21020</td>\n",
       "      <td>4956</td>\n",
       "      <td>2146</td>\n",
       "      <td>3180</td>\n",
       "    </tr>\n",
       "    <tr>\n",
       "      <th>2018-10-01</th>\n",
       "      <td>19280</td>\n",
       "      <td>4622</td>\n",
       "      <td>2364</td>\n",
       "      <td>3775</td>\n",
       "    </tr>\n",
       "    <tr>\n",
       "      <th>2018-11-01</th>\n",
       "      <td>17163</td>\n",
       "      <td>4082</td>\n",
       "      <td>2385</td>\n",
       "      <td>4562</td>\n",
       "    </tr>\n",
       "  </tbody>\n",
       "</table>\n",
       "</div>"
      ],
      "text/plain": [
       "            Avila Adobe  Firehouse Museum  Chinese American Museum  \\\n",
       "Date                                                                 \n",
       "2018-07-01        23136              4191                     2620   \n",
       "2018-08-01        20815              4866                     2409   \n",
       "2018-09-01        21020              4956                     2146   \n",
       "2018-10-01        19280              4622                     2364   \n",
       "2018-11-01        17163              4082                     2385   \n",
       "\n",
       "            America Tropical Interpretive Center  \n",
       "Date                                              \n",
       "2018-07-01                                  4718  \n",
       "2018-08-01                                  3891  \n",
       "2018-09-01                                  3180  \n",
       "2018-10-01                                  3775  \n",
       "2018-11-01                                  4562  "
      ]
     },
     "execution_count": 5,
     "metadata": {},
     "output_type": "execute_result"
    }
   ],
   "source": [
    "# Print the last five rows of the data \n",
    "museum_data.tail()"
   ]
  },
  {
   "cell_type": "markdown",
   "id": "aa7d9653",
   "metadata": {
    "papermill": {
     "duration": 0.006345,
     "end_time": "2023-01-08T18:56:54.717163",
     "exception": false,
     "start_time": "2023-01-08T18:56:54.710818",
     "status": "completed"
    },
    "tags": []
   },
   "source": [
    "The last row (for `2018-11-01`) tracks the number of visitors to each museum in November 2018, the next-to-last row (for `2018-10-01`) tracks the number of visitors to each museum in October 2018, _and so on_.\n",
    "\n",
    "Use the last 5 rows of the data to answer the questions below."
   ]
  },
  {
   "cell_type": "code",
   "execution_count": 6,
   "id": "56d1211d",
   "metadata": {
    "execution": {
     "iopub.execute_input": "2023-01-08T18:56:54.733119Z",
     "iopub.status.busy": "2023-01-08T18:56:54.732716Z",
     "iopub.status.idle": "2023-01-08T18:56:54.742055Z",
     "shell.execute_reply": "2023-01-08T18:56:54.740940Z"
    },
    "papermill": {
     "duration": 0.020732,
     "end_time": "2023-01-08T18:56:54.744444",
     "exception": false,
     "start_time": "2023-01-08T18:56:54.723712",
     "status": "completed"
    },
    "tags": []
   },
   "outputs": [
    {
     "data": {
      "application/javascript": [
       "parent.postMessage({\"jupyterEvent\": \"custom.exercise_interaction\", \"data\": {\"outcomeType\": 1, \"valueTowardsCompletion\": 0.3333333333333333, \"interactionType\": 1, \"questionType\": 1, \"questionId\": \"2_ReviewData\", \"learnToolsVersion\": \"0.3.4\", \"failureMessage\": \"\", \"exceptionClass\": \"\", \"trace\": \"\"}}, \"*\")"
      ],
      "text/plain": [
       "<IPython.core.display.Javascript object>"
      ]
     },
     "metadata": {},
     "output_type": "display_data"
    },
    {
     "data": {
      "text/markdown": [
       "<span style=\"color:#33cc33\">Correct</span>"
      ],
      "text/plain": [
       "Correct"
      ]
     },
     "metadata": {},
     "output_type": "display_data"
    }
   ],
   "source": [
    "# Fill in the line below: How many visitors did the Chinese American Museum \n",
    "# receive in July 2018?\n",
    "ca_museum_jul18 = 2620\n",
    "\n",
    "# Fill in the line below: In October 2018, how many more visitors did Avila \n",
    "# Adobe receive than the Firehouse Museum?\n",
    "avila_oct18 = 19280 - 4622\n",
    "\n",
    "# Check your answers\n",
    "step_2.check()"
   ]
  },
  {
   "cell_type": "code",
   "execution_count": 7,
   "id": "8116c430",
   "metadata": {
    "execution": {
     "iopub.execute_input": "2023-01-08T18:56:54.761693Z",
     "iopub.status.busy": "2023-01-08T18:56:54.761259Z",
     "iopub.status.idle": "2023-01-08T18:56:54.765368Z",
     "shell.execute_reply": "2023-01-08T18:56:54.764348Z"
    },
    "papermill": {
     "duration": 0.014893,
     "end_time": "2023-01-08T18:56:54.767768",
     "exception": false,
     "start_time": "2023-01-08T18:56:54.752875",
     "status": "completed"
    },
    "tags": []
   },
   "outputs": [],
   "source": [
    "# Lines below will give you a hint or solution code\n",
    "#step_2.hint()\n",
    "#step_2.solution()"
   ]
  },
  {
   "cell_type": "markdown",
   "id": "1b1f10d3",
   "metadata": {
    "papermill": {
     "duration": 0.00661,
     "end_time": "2023-01-08T18:56:54.781122",
     "exception": false,
     "start_time": "2023-01-08T18:56:54.774512",
     "status": "completed"
    },
    "tags": []
   },
   "source": [
    "## Step 3: Convince the museum board \n",
    "\n",
    "The Firehouse Museum claims they ran an event in 2014 that brought an incredible number of visitors, and that they should get extra budget to run a similar event again.  The other museums think these types of events aren't that important, and budgets should be split purely based on recent visitors on an average day.  \n",
    "\n",
    "To show the museum board how the event compared to regular traffic at each museum, create a line chart that shows how the number of visitors to each museum evolved over time.  Your figure should have four lines (one for each museum).\n",
    "\n",
    "> **(Optional) Note**: If you have some prior experience with plotting figures in Python, you might be familiar with the `plt.show()` command.  If you decide to use this command, please place it **after** the line of code that checks your answer (in this case, place it after `step_3.check()` below) -- otherwise, the checking code will return an error!"
   ]
  },
  {
   "cell_type": "code",
   "execution_count": 8,
   "id": "22c5e7f0",
   "metadata": {
    "execution": {
     "iopub.execute_input": "2023-01-08T18:56:54.796776Z",
     "iopub.status.busy": "2023-01-08T18:56:54.796341Z",
     "iopub.status.idle": "2023-01-08T18:56:55.229558Z",
     "shell.execute_reply": "2023-01-08T18:56:55.228241Z"
    },
    "papermill": {
     "duration": 0.444836,
     "end_time": "2023-01-08T18:56:55.232764",
     "exception": false,
     "start_time": "2023-01-08T18:56:54.787928",
     "status": "completed"
    },
    "tags": []
   },
   "outputs": [
    {
     "data": {
      "application/javascript": [
       "parent.postMessage({\"jupyterEvent\": \"custom.exercise_interaction\", \"data\": {\"outcomeType\": 1, \"valueTowardsCompletion\": 0.3333333333333333, \"interactionType\": 1, \"questionType\": 2, \"questionId\": \"3_PlotAll\", \"learnToolsVersion\": \"0.3.4\", \"failureMessage\": \"\", \"exceptionClass\": \"\", \"trace\": \"\"}}, \"*\")"
      ],
      "text/plain": [
       "<IPython.core.display.Javascript object>"
      ]
     },
     "metadata": {},
     "output_type": "display_data"
    },
    {
     "data": {
      "text/markdown": [
       "<span style=\"color:#33cc33\">Correct</span>"
      ],
      "text/plain": [
       "Correct"
      ]
     },
     "metadata": {},
     "output_type": "display_data"
    },
    {
     "data": {
      "image/png": "[encoded data removed]",
      "text/plain": [
       "<Figure size 432x288 with 1 Axes>"
      ]
     },
     "metadata": {
      "needs_background": "light"
     },
     "output_type": "display_data"
    }
   ],
   "source": [
    "# Line chart showing the number of visitors to each museum over time\n",
    "sns.lineplot(data=museum_data['Avila Adobe'], label=\"Avila Adobe\")\n",
    "sns.lineplot(data=museum_data['Firehouse Museum'], label=\"Firehiuse Museum\")\n",
    "sns.lineplot(data=museum_data['Chinese American Museum'], label=\"Chinese American Museum\")\n",
    "sns.lineplot(data=museum_data['America Tropical Interpretive Center'], label=\"America Tropical Interpretive Center\")\n",
    "\n",
    "# Check your answer\n",
    "step_3.check()"
   ]
  },
  {
   "cell_type": "code",
   "execution_count": 9,
   "id": "b438e4f7",
   "metadata": {
    "execution": {
     "iopub.execute_input": "2023-01-08T18:56:55.250605Z",
     "iopub.status.busy": "2023-01-08T18:56:55.250190Z",
     "iopub.status.idle": "2023-01-08T18:56:55.254552Z",
     "shell.execute_reply": "2023-01-08T18:56:55.253389Z"
    },
    "papermill": {
     "duration": 0.016149,
     "end_time": "2023-01-08T18:56:55.256906",
     "exception": false,
     "start_time": "2023-01-08T18:56:55.240757",
     "status": "completed"
    },
    "tags": []
   },
   "outputs": [],
   "source": [
    "# Lines below will give you a hint or solution code\n",
    "#step_3.hint()\n",
    "#step_3.solution_plot()"
   ]
  },
  {
   "cell_type": "markdown",
   "id": "518a3b4e",
   "metadata": {
    "papermill": {
     "duration": 0.0076,
     "end_time": "2023-01-08T18:56:55.272483",
     "exception": false,
     "start_time": "2023-01-08T18:56:55.264883",
     "status": "completed"
    },
    "tags": []
   },
   "source": [
    "## Step 4: Assess seasonality\n",
    "\n",
    "When meeting with the employees at Avila Adobe, you hear that one major pain point is that the number of museum visitors varies greatly with the seasons, with low seasons (when the employees are perfectly staffed and happy) and also high seasons (when the employees are understaffed and stressed).  You realize that if you can predict these high and low seasons, you can plan ahead to hire some additional seasonal employees to help out with the extra work.\n",
    "\n",
    "#### Part A\n",
    "Create a line chart that shows how the number of visitors to Avila Adobe has evolved over time.  (_If your code returns an error, the first thing that you should check is that you've spelled the name of the column correctly!  You must write the name of the column exactly as it appears in the dataset._)"
   ]
  },
  {
   "cell_type": "code",
   "execution_count": 10,
   "id": "ac046386",
   "metadata": {
    "execution": {
     "iopub.execute_input": "2023-01-08T18:56:55.290108Z",
     "iopub.status.busy": "2023-01-08T18:56:55.289707Z",
     "iopub.status.idle": "2023-01-08T18:56:55.583467Z",
     "shell.execute_reply": "2023-01-08T18:56:55.582501Z"
    },
    "papermill": {
     "duration": 0.30563,
     "end_time": "2023-01-08T18:56:55.585893",
     "exception": false,
     "start_time": "2023-01-08T18:56:55.280263",
     "status": "completed"
    },
    "tags": []
   },
   "outputs": [
    {
     "name": "stdout",
     "output_type": "stream",
     "text": [
      "Thank you for creating a line chart!  To see how your code compares to the official solution, please use the code cell below.\n"
     ]
    },
    {
     "data": {
      "application/javascript": [
       "parent.postMessage({\"jupyterEvent\": \"custom.exercise_interaction\", \"data\": {\"outcomeType\": 1, \"valueTowardsCompletion\": 0.3333333333333333, \"interactionType\": 1, \"questionType\": 2, \"questionId\": \"4.1_PlotAvila\", \"learnToolsVersion\": \"0.3.4\", \"failureMessage\": \"\", \"exceptionClass\": \"\", \"trace\": \"\"}}, \"*\")"
      ],
      "text/plain": [
       "<IPython.core.display.Javascript object>"
      ]
     },
     "metadata": {},
     "output_type": "display_data"
    },
    {
     "data": {
      "text/markdown": [
       "<span style=\"color:#33cc33\">Correct</span>"
      ],
      "text/plain": [
       "Correct"
      ]
     },
     "metadata": {},
     "output_type": "display_data"
    },
    {
     "data": {
      "image/png": "[encoded data removed]",
      "text/plain": [
       "<Figure size 432x288 with 1 Axes>"
      ]
     },
     "metadata": {
      "needs_background": "light"
     },
     "output_type": "display_data"
    }
   ],
   "source": [
    "# Line plot showing the number of visitors to Avila Adobe over time\n",
    "sns.lineplot(data=museum_data['Avila Adobe'], label=\"Avila Adobe\")\n",
    "\n",
    "# Check your answer\n",
    "step_4.a.check()"
   ]
  },
  {
   "cell_type": "code",
   "execution_count": 11,
   "id": "bb13077e",
   "metadata": {
    "execution": {
     "iopub.execute_input": "2023-01-08T18:56:55.605913Z",
     "iopub.status.busy": "2023-01-08T18:56:55.604948Z",
     "iopub.status.idle": "2023-01-08T18:56:55.848801Z",
     "shell.execute_reply": "2023-01-08T18:56:55.847513Z"
    },
    "papermill": {
     "duration": 0.256753,
     "end_time": "2023-01-08T18:56:55.851528",
     "exception": false,
     "start_time": "2023-01-08T18:56:55.594775",
     "status": "completed"
    },
    "tags": []
   },
   "outputs": [
    {
     "data": {
      "application/javascript": [
       "parent.postMessage({\"jupyterEvent\": \"custom.exercise_interaction\", \"data\": {\"interactionType\": 3, \"questionType\": 2, \"questionId\": \"4.1_PlotAvila\", \"learnToolsVersion\": \"0.3.4\", \"valueTowardsCompletion\": 0.0, \"failureMessage\": \"\", \"exceptionClass\": \"\", \"trace\": \"\", \"outcomeType\": 4}}, \"*\")"
      ],
      "text/plain": [
       "<IPython.core.display.Javascript object>"
      ]
     },
     "metadata": {},
     "output_type": "display_data"
    },
    {
     "data": {
      "text/markdown": [
       "<span style=\"color:#33cc99\">Solution:</span> \n",
       "```python\n",
       "# Set the width and height of the figure\n",
       "plt.figure(figsize=(12,6))\n",
       "# Add title\n",
       "plt.title(\"Monthly Visitors to Avila Adobe\")\n",
       "# Line chart showing the number of visitors to Avila Adobe over time\n",
       "sns.lineplot(data=museum_data['Avila Adobe'])\n",
       "# Add label for horizontal axis\n",
       "plt.xlabel(\"Date\")\n",
       "\n",
       "```"
      ],
      "text/plain": [
       "Solution: \n",
       "```python\n",
       "# Set the width and height of the figure\n",
       "plt.figure(figsize=(12,6))\n",
       "# Add title\n",
       "plt.title(\"Monthly Visitors to Avila Adobe\")\n",
       "# Line chart showing the number of visitors to Avila Adobe over time\n",
       "sns.lineplot(data=museum_data['Avila Adobe'])\n",
       "# Add label for horizontal axis\n",
       "plt.xlabel(\"Date\")\n",
       "\n",
       "```"
      ]
     },
     "metadata": {},
     "output_type": "display_data"
    },
    {
     "data": {
      "image/png": "[encoded data removed]",
      "text/plain": [
       "<Figure size 864x432 with 1 Axes>"
      ]
     },
     "metadata": {
      "needs_background": "light"
     },
     "output_type": "display_data"
    }
   ],
   "source": [
    "# Lines below will give you a hint or solution code\n",
    "#step_4.a.hint()\n",
    "step_4.a.solution_plot()"
   ]
  },
  {
   "cell_type": "markdown",
   "id": "6952f058",
   "metadata": {
    "papermill": {
     "duration": 0.009151,
     "end_time": "2023-01-08T18:56:55.870423",
     "exception": false,
     "start_time": "2023-01-08T18:56:55.861272",
     "status": "completed"
    },
    "tags": []
   },
   "source": [
    "#### Part B\n",
    "\n",
    "Does Avila Adobe get more visitors:\n",
    "- in September-February (in LA, the fall and winter months), or \n",
    "- in March-August (in LA, the spring and summer)?  \n",
    "\n",
    "Using this information, when should the museum staff additional seasonal employees?"
   ]
  },
  {
   "cell_type": "code",
   "execution_count": 12,
   "id": "88009194",
   "metadata": {
    "execution": {
     "iopub.execute_input": "2023-01-08T18:56:55.891308Z",
     "iopub.status.busy": "2023-01-08T18:56:55.890920Z",
     "iopub.status.idle": "2023-01-08T18:56:55.896097Z",
     "shell.execute_reply": "2023-01-08T18:56:55.894734Z"
    },
    "papermill": {
     "duration": 0.018551,
     "end_time": "2023-01-08T18:56:55.898537",
     "exception": false,
     "start_time": "2023-01-08T18:56:55.879986",
     "status": "completed"
    },
    "tags": []
   },
   "outputs": [],
   "source": [
    "#step_4.b.hint()"
   ]
  },
  {
   "cell_type": "code",
   "execution_count": 13,
   "id": "2977c04a",
   "metadata": {
    "execution": {
     "iopub.execute_input": "2023-01-08T18:56:55.919722Z",
     "iopub.status.busy": "2023-01-08T18:56:55.919285Z",
     "iopub.status.idle": "2023-01-08T18:56:55.928894Z",
     "shell.execute_reply": "2023-01-08T18:56:55.927556Z"
    },
    "papermill": {
     "duration": 0.02301,
     "end_time": "2023-01-08T18:56:55.931153",
     "exception": false,
     "start_time": "2023-01-08T18:56:55.908143",
     "status": "completed"
    },
    "tags": []
   },
   "outputs": [
    {
     "data": {
      "application/javascript": [
       "parent.postMessage({\"jupyterEvent\": \"custom.exercise_interaction\", \"data\": {\"interactionType\": 3, \"questionType\": 4, \"questionId\": \"4.2_ThinkAvila\", \"learnToolsVersion\": \"0.3.4\", \"valueTowardsCompletion\": 0.0, \"failureMessage\": \"\", \"exceptionClass\": \"\", \"trace\": \"\", \"outcomeType\": 4}}, \"*\")"
      ],
      "text/plain": [
       "<IPython.core.display.Javascript object>"
      ]
     },
     "metadata": {},
     "output_type": "display_data"
    },
    {
     "data": {
      "text/markdown": [
       "<span style=\"color:#33cc99\">Solution:</span> The line chart generally dips to relatively low values around the early part of each year (in December and January), and reaches its highest values in the middle of the year (especially around May and June).  Thus, Avila Adobe usually gets more visitors in March-August (or the spring and summer months).  With this in mind, Avila Adobe could definitely benefit from hiring more seasonal employees to help with the extra work in March-August (the spring and summer)!"
      ],
      "text/plain": [
       "Solution: The line chart generally dips to relatively low values around the early part of each year (in December and January), and reaches its highest values in the middle of the year (especially around May and June).  Thus, Avila Adobe usually gets more visitors in March-August (or the spring and summer months).  With this in mind, Avila Adobe could definitely benefit from hiring more seasonal employees to help with the extra work in March-August (the spring and summer)!"
      ]
     },
     "metadata": {},
     "output_type": "display_data"
    }
   ],
   "source": [
    "# Check your answer (Run this code cell to receive credit!)\n",
    "step_4.b.solution()"
   ]
  },
  {
   "cell_type": "markdown",
   "id": "3ea8939e",
   "metadata": {
    "papermill": {
     "duration": 0.009599,
     "end_time": "2023-01-08T18:56:55.950838",
     "exception": false,
     "start_time": "2023-01-08T18:56:55.941239",
     "status": "completed"
    },
    "tags": []
   },
   "source": [
    "# Keep going\n",
    "\n",
    "Move on to learn about **[bar charts and heatmaps](https://www.kaggle.com/alexisbcook/bar-charts-and-heatmaps)** with a new dataset!"
   ]
  },
  {
   "cell_type": "markdown",
   "id": "7be6ed14",
   "metadata": {
    "papermill": {
     "duration": 0.009718,
     "end_time": "2023-01-08T18:56:55.970446",
     "exception": false,
     "start_time": "2023-01-08T18:56:55.960728",
     "status": "completed"
    },
    "tags": []
   },
   "source": [
    "---\n",
    "\n",
    "\n",
    "\n",
    "\n",
    "*Have questions or comments? Visit the [course discussion forum](https://www.kaggle.com/learn/data-visualization/discussion) to chat with other learners.*"
   ]
  },
  {
   "cell_type": "code",
   "execution_count": null,
   "id": "276bc12d",
   "metadata": {
    "papermill": {
     "duration": 0.00956,
     "end_time": "2023-01-08T18:56:55.989947",
     "exception": false,
     "start_time": "2023-01-08T18:56:55.980387",
     "status": "completed"
    },
    "tags": []
   },
   "outputs": [],
   "source": []
  }
 ],
 "metadata": {
  "kernelspec": {
   "display_name": "Python 3",
   "language": "python",
   "name": "python3"
  },
  "language_info": {
   "codemirror_mode": {
    "name": "ipython",
    "version": 3
   },
   "file_extension": ".py",
   "mimetype": "text/x-python",
   "name": "python",
   "nbconvert_exporter": "python",
   "pygments_lexer": "ipython3",
   "version": "3.7.12"
  },
  "papermill": {
   "default_parameters": {},
   "duration": 12.689227,
   "end_time": "2023-01-08T18:56:56.723639",
   "environment_variables": {},
   "exception": null,
   "input_path": "__notebook__.ipynb",
   "output_path": "__notebook__.ipynb",
   "parameters": {},
   "start_time": "2023-01-08T18:56:44.034412",
   "version": "2.3.4"
  }
 },
 "nbformat": 4,
 "nbformat_minor": 5
}
